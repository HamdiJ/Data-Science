{
 "cells": [
  {
   "cell_type": "markdown",
   "metadata": {},
   "source": [
    "# Tansorflow/keras : Analyse de données textuelles"
   ]
  },
  {
   "cell_type": "code",
   "execution_count": 18,
   "metadata": {},
   "outputs": [],
   "source": [
    "from tensorflow.keras.datasets import imdb\n",
    "from tensorflow.keras import models\n",
    "from tensorflow.keras import layers\n",
    "import matplotlib.pyplot as plt\n",
    "import numpy as np\n",
    "from tensorflow import keras"
   ]
  },
  {
   "cell_type": "code",
   "execution_count": 2,
   "metadata": {},
   "outputs": [
    {
     "name": "stderr",
     "output_type": "stream",
     "text": [
      "<__array_function__ internals>:5: VisibleDeprecationWarning: Creating an ndarray from ragged nested sequences (which is a list-or-tuple of lists-or-tuples-or ndarrays with different lengths or shapes) is deprecated. If you meant to do this, you must specify 'dtype=object' when creating the ndarray\n",
      "C:\\Users\\aerok\\anaconda3\\envs\\DataScience\\lib\\site-packages\\tensorflow\\python\\keras\\datasets\\imdb.py:159: VisibleDeprecationWarning: Creating an ndarray from ragged nested sequences (which is a list-or-tuple of lists-or-tuples-or ndarrays with different lengths or shapes) is deprecated. If you meant to do this, you must specify 'dtype=object' when creating the ndarray\n",
      "  x_train, y_train = np.array(xs[:idx]), np.array(labels[:idx])\n",
      "C:\\Users\\aerok\\anaconda3\\envs\\DataScience\\lib\\site-packages\\tensorflow\\python\\keras\\datasets\\imdb.py:160: VisibleDeprecationWarning: Creating an ndarray from ragged nested sequences (which is a list-or-tuple of lists-or-tuples-or ndarrays with different lengths or shapes) is deprecated. If you meant to do this, you must specify 'dtype=object' when creating the ndarray\n",
      "  x_test, y_test = np.array(xs[idx:]), np.array(labels[idx:])\n"
     ]
    }
   ],
   "source": [
    "#Importer le dataset\n",
    "(train_data, train_labels), (test_data, test_labels) = imdb.load_data(num_words=10000)"
   ]
  },
  {
   "cell_type": "code",
   "execution_count": 3,
   "metadata": {},
   "outputs": [
    {
     "name": "stdout",
     "output_type": "stream",
     "text": [
      "dimensions de train_data :  (25000,)\n",
      "dimensions de train_labels :  (25000,)\n"
     ]
    }
   ],
   "source": [
    "# afficher les dimensions du dataset\n",
    "print(\"dimensions de train_data : \",train_data.shape)\n",
    "print(\"dimensions de train_labels : \",train_labels.shape)"
   ]
  },
  {
   "cell_type": "code",
   "execution_count": 4,
   "metadata": {},
   "outputs": [],
   "source": [
    "#importer le dictionnaire association {mot:chiffre}\n",
    "word_index = imdb.get_word_index()"
   ]
  },
  {
   "cell_type": "code",
   "execution_count": 5,
   "metadata": {},
   "outputs": [],
   "source": [
    "#inverser les clefs et valeurs du dictionnaire word_index\n",
    "reverse_word_index = dict([(value, key) for (key, value) in word_index.items()])"
   ]
  },
  {
   "cell_type": "code",
   "execution_count": 6,
   "metadata": {},
   "outputs": [],
   "source": [
    "#Decoder le message du train_data[0] en associant les chiffre au mots du dictionnaire reverse_word_index\n",
    "decoded_review = ' '.join([reverse_word_index.get(i - 3, '?') for i in train_data[0]])"
   ]
  },
  {
   "cell_type": "code",
   "execution_count": 7,
   "metadata": {},
   "outputs": [],
   "source": [
    "def vectorize_sequences(sequences, dimension=10000):\n",
    "    results = np.zeros((len(sequences), dimension))\n",
    "    for i, sequence in enumerate(sequences):\n",
    "        results[i, sequence] = 1.\n",
    "    return results"
   ]
  },
  {
   "cell_type": "code",
   "execution_count": 8,
   "metadata": {},
   "outputs": [],
   "source": [
    "x_train = vectorize_sequences(train_data)\n",
    "x_test = vectorize_sequences(test_data)\n",
    "\n",
    "y_train = np.asarray(train_labels).astype('float32')\n",
    "y_test = np.asarray(test_labels).astype('float32')"
   ]
  },
  {
   "cell_type": "code",
   "execution_count": 9,
   "metadata": {},
   "outputs": [],
   "source": [
    "model = models.Sequential()\n",
    "model.add(layers.Dense(100, activation='relu', input_shape=(10000,)))\n",
    "model.add(layers.Dense(100, activation='relu'))\n",
    "model.add(layers.Dense(1, activation='sigmoid'))"
   ]
  },
  {
   "cell_type": "code",
   "execution_count": 10,
   "metadata": {},
   "outputs": [
    {
     "name": "stdout",
     "output_type": "stream",
     "text": [
      "Model: \"sequential\"\n",
      "_________________________________________________________________\n",
      "Layer (type)                 Output Shape              Param #   \n",
      "=================================================================\n",
      "dense (Dense)                (None, 100)               1000100   \n",
      "_________________________________________________________________\n",
      "dense_1 (Dense)              (None, 100)               10100     \n",
      "_________________________________________________________________\n",
      "dense_2 (Dense)              (None, 1)                 101       \n",
      "=================================================================\n",
      "Total params: 1,010,301\n",
      "Trainable params: 1,010,301\n",
      "Non-trainable params: 0\n",
      "_________________________________________________________________\n"
     ]
    }
   ],
   "source": [
    "# resumé du model définit\n",
    "model.summary()"
   ]
  },
  {
   "cell_type": "code",
   "execution_count": 11,
   "metadata": {},
   "outputs": [],
   "source": [
    "model.compile(optimizer='rmsprop', loss='binary_crossentropy', metrics=['accuracy'])"
   ]
  },
  {
   "cell_type": "code",
   "execution_count": 12,
   "metadata": {},
   "outputs": [],
   "source": [
    "x_val = x_train[:10000]\n",
    "partial_x_train = x_train[10000:]\n",
    "\n",
    "y_val = y_train[:10000]\n",
    "partial_y_train = y_train[10000:]"
   ]
  },
  {
   "cell_type": "code",
   "execution_count": 13,
   "metadata": {},
   "outputs": [
    {
     "name": "stdout",
     "output_type": "stream",
     "text": [
      "Epoch 1/15\n",
      "30/30 [==============================] - 3s 94ms/step - loss: 0.5826 - accuracy: 0.6851 - val_loss: 0.3414 - val_accuracy: 0.8641\n",
      "Epoch 2/15\n",
      "30/30 [==============================] - 1s 40ms/step - loss: 0.2536 - accuracy: 0.9091 - val_loss: 0.3040 - val_accuracy: 0.8785\n",
      "Epoch 3/15\n",
      "30/30 [==============================] - 1s 42ms/step - loss: 0.1742 - accuracy: 0.9381 - val_loss: 0.3105 - val_accuracy: 0.8800\n",
      "Epoch 4/15\n",
      "30/30 [==============================] - 1s 42ms/step - loss: 0.1313 - accuracy: 0.9516 - val_loss: 0.3113 - val_accuracy: 0.8830\n",
      "Epoch 5/15\n",
      "30/30 [==============================] - 1s 44ms/step - loss: 0.0789 - accuracy: 0.9764 - val_loss: 0.3740 - val_accuracy: 0.8729\n",
      "Epoch 6/15\n",
      "30/30 [==============================] - 1s 41ms/step - loss: 0.0636 - accuracy: 0.9818 - val_loss: 0.3661 - val_accuracy: 0.8846\n",
      "Epoch 7/15\n",
      "30/30 [==============================] - 1s 40ms/step - loss: 0.0240 - accuracy: 0.9956 - val_loss: 0.3776 - val_accuracy: 0.8838\n",
      "Epoch 8/15\n",
      "30/30 [==============================] - 1s 40ms/step - loss: 0.0142 - accuracy: 0.9984 - val_loss: 0.4734 - val_accuracy: 0.8822\n",
      "Epoch 9/15\n",
      "30/30 [==============================] - 1s 40ms/step - loss: 0.0294 - accuracy: 0.9932 - val_loss: 0.4648 - val_accuracy: 0.8815\n",
      "Epoch 10/15\n",
      "30/30 [==============================] - 1s 41ms/step - loss: 0.0045 - accuracy: 0.9998 - val_loss: 0.5402 - val_accuracy: 0.8803\n",
      "Epoch 11/15\n",
      "30/30 [==============================] - 1s 40ms/step - loss: 0.0022 - accuracy: 1.0000 - val_loss: 0.6367 - val_accuracy: 0.8783\n",
      "Epoch 12/15\n",
      "30/30 [==============================] - 1s 40ms/step - loss: 0.0347 - accuracy: 0.9942 - val_loss: 0.6424 - val_accuracy: 0.8754\n",
      "Epoch 13/15\n",
      "30/30 [==============================] - 1s 41ms/step - loss: 8.3159e-04 - accuracy: 1.0000 - val_loss: 0.6697 - val_accuracy: 0.8786\n",
      "Epoch 14/15\n",
      "30/30 [==============================] - 1s 40ms/step - loss: 4.9974e-04 - accuracy: 1.0000 - val_loss: 0.7302 - val_accuracy: 0.8774\n",
      "Epoch 15/15\n",
      "30/30 [==============================] - 1s 39ms/step - loss: 2.4314e-04 - accuracy: 1.0000 - val_loss: 0.8163 - val_accuracy: 0.8755\n"
     ]
    }
   ],
   "source": [
    "history = model.fit(partial_x_train, partial_y_train, epochs=15, batch_size=512, validation_data=(x_val, y_val))"
   ]
  },
  {
   "cell_type": "code",
   "execution_count": 14,
   "metadata": {},
   "outputs": [
    {
     "name": "stdout",
     "output_type": "stream",
     "text": [
      "782/782 [==============================] - 2s 3ms/step - loss: 0.9068 - accuracy: 0.8597\n"
     ]
    }
   ],
   "source": [
    "#Evaluation du model\n",
    "test_loss, test_acc = model.evaluate(x_test, y_test)"
   ]
  },
  {
   "cell_type": "code",
   "execution_count": 15,
   "metadata": {},
   "outputs": [
    {
     "name": "stdout",
     "output_type": "stream",
     "text": [
      "Loss =  0.9067634344100952\n",
      "Accuracy =  0.8596799969673157\n"
     ]
    }
   ],
   "source": [
    "#Affichage de du loss et accuracy\n",
    "print(\"Loss = \",test_loss)\n",
    "print(\"Accuracy = \",test_acc)"
   ]
  },
  {
   "cell_type": "code",
   "execution_count": 16,
   "metadata": {},
   "outputs": [
    {
     "data": {
      "image/png": "[encoded data removed]",
      "text/plain": [
       "<Figure size 432x288 with 1 Axes>"
      ]
     },
     "metadata": {
      "needs_background": "light"
     },
     "output_type": "display_data"
    },
    {
     "data": {
      "image/png": "[encoded data removed]",
      "text/plain": [
       "<Figure size 432x288 with 1 Axes>"
      ]
     },
     "metadata": {
      "needs_background": "light"
     },
     "output_type": "display_data"
    }
   ],
   "source": [
    "#Entrainnement du reseau de neurone avec affichage du loos et accuracy pour le train & test dataset (methode 3)\n",
    "\n",
    "# list all data in history\n",
    "# summarize history for accuracy\n",
    "plt.plot(history.history['accuracy'])\n",
    "plt.plot(history.history['val_accuracy'])\n",
    "plt.title('model accuracy')\n",
    "plt.ylabel('accuracy')\n",
    "plt.xlabel('epoch')\n",
    "plt.legend(['train', 'test'], loc='upper left')\n",
    "plt.show()\n",
    "# summarize history for loss\n",
    "plt.plot(history.history['loss'])\n",
    "plt.plot(history.history['val_loss'])\n",
    "plt.title('model loss')\n",
    "plt.ylabel('loss')\n",
    "plt.xlabel('epoch')\n",
    "plt.legend(['train', 'test'], loc='upper left')\n",
    "plt.show()"
   ]
  }
 ],
 "metadata": {
  "kernelspec": {
   "display_name": "Python 3",
   "language": "python",
   "name": "python3"
  },
  "language_info": {
   "codemirror_mode": {
    "name": "ipython",
    "version": 3
   },
   "file_extension": ".py",
   "mimetype": "text/x-python",
   "name": "python",
   "nbconvert_exporter": "python",
   "pygments_lexer": "ipython3",
   "version": "3.8.5"
  }
 },
 "nbformat": 4,
 "nbformat_minor": 4
}
