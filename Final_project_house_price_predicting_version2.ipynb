{
  "nbformat": 4,
  "nbformat_minor": 5,
  "metadata": {
    "kernelspec": {
      "display_name": "Python 3",
      "language": "python",
      "name": "python3"
    },
    "language_info": {
      "codemirror_mode": {
        "name": "ipython",
        "version": 3
      },
      "file_extension": ".py",
      "mimetype": "text/x-python",
      "name": "python",
      "nbconvert_exporter": "python",
      "pygments_lexer": "ipython3",
      "version": "3.8.5"
    },
    "toc": {
      "base_numbering": 1,
      "nav_menu": {},
      "number_sections": true,
      "sideBar": true,
      "skip_h1_title": false,
      "title_cell": "Table of Contents",
      "title_sidebar": "Contents",
      "toc_cell": false,
      "toc_position": {},
      "toc_section_display": true,
      "toc_window_display": true
    },
    "colab": {
      "name": "Final_project_house_price_predicting-version2.ipynb",
      "provenance": []
    }
  },
  "cells": [
    {
      "cell_type": "markdown",
      "metadata": {
        "id": "u34VGnHlcKW-"
      },
      "source": [
        "##Projet Final Estimation Prix Immobilier"
      ],
      "id": "u34VGnHlcKW-"
    },
    {
      "cell_type": "markdown",
      "metadata": {
        "id": "jrUrB48NcdNx"
      },
      "source": [
        "Dans ce notebook, d'abord, nous récuppérons et traitons des données de transactions immobiliéres des années de 2015 à 2020\r\n",
        "\r\n",
        "Ces données comportent des informations pour chaque transaction sur la valeur du bien, la surface du bien, Surface terrain, nombre de chambres, Code Département, adresse, Type de local.\r\n",
        "Ces données seront utilisées ultérieurement lors de l'étape d'analyse des données.\r\n",
        "\r\n",
        "Ensuite, On les fusionnes avec les données de communes globales (démoghraphie, revenus, géospatials) pour préparer la base de données d'entrainement pour le modéle machine learning de pérdiction.\r\n",
        "\r\n",
        "En bas, une présentations sur les parties de ce code :\r\n",
        "- Traiter et nettoyer les données fonciéres.\r\n",
        "- EDA : : explorer les données\r\n",
        "- Jointure des données fonciéres avec les données sur les communes (Partie prétraitement donnéescommunes\r\n",
        "- EDA : explorer les données\r\n",
        "- Construire les modéles machine learning \r\n",
        "- Comparaison entre les différents modéles\r\n",
        "- Conclusion\r\n",
        "- Pistes d'amélioration"
      ],
      "id": "jrUrB48NcdNx"
    },
    {
      "cell_type": "code",
      "metadata": {
        "id": "insured-peoples"
      },
      "source": [
        "#importer les librairies nécessaires\n",
        "import pandas as pd\n",
        "import numpy as np\n",
        "from datetime import datetime\n",
        "import missingno as msno\n",
        "import glob\n",
        "\n",
        "import seaborn as sns\n",
        "import matplotlib.pyplot as plt\n",
        "import seaborn"
      ],
      "id": "insured-peoples",
      "execution_count": null,
      "outputs": []
    },
    {
      "cell_type": "code",
      "metadata": {
        "scrolled": true,
        "id": "understanding-briefing",
        "outputId": "89efcc3e-03f6-4979-da24-4e364d2b5556"
      },
      "source": [
        "#installer le package xgboost\r\n",
        "!pip install xgboost"
      ],
      "id": "understanding-briefing",
      "execution_count": null,
      "outputs": [
        {
          "output_type": "stream",
          "text": [
            "Collecting xgboost\n",
            "  Using cached xgboost-1.3.3-py3-none-win_amd64.whl (95.2 MB)\n",
            "Requirement already satisfied: scipy in c:\\users\\administrateur\\anaconda3\\envs\\tf\\lib\\site-packages (from xgboost) (1.6.0)\n",
            "Requirement already satisfied: numpy in c:\\users\\administrateur\\anaconda3\\envs\\tf\\lib\\site-packages (from xgboost) (1.19.2)\n",
            "Installing collected packages: xgboost\n",
            "Successfully installed xgboost-1.3.3\n"
          ],
          "name": "stdout"
        }
      ]
    },
    {
      "cell_type": "markdown",
      "metadata": {
        "id": "wicked-alignment"
      },
      "source": [
        "# 1. Importation des données de transactions fonciéres"
      ],
      "id": "wicked-alignment"
    },
    {
      "cell_type": "code",
      "metadata": {
        "id": "addressed-mambo",
        "outputId": "a9a7fa0f-aa05-4458-d07a-b3eaee292f73"
      },
      "source": [
        "# les columns a supprimer\n",
        "col_include = ['date_mutation', 'nature_mutation', 'valeur_fonciere',\n",
        "               'adresse_numero',  'code_postal', 'code_commune', 'nom_commune',\n",
        "               'code_departement', 'nombre_lots', 'code_type_local', 'type_local', 'surface_reelle_bati',\n",
        "               'nombre_pieces_principales','surface_terrain']\n",
        "# transformer la columne en datetime\n",
        "dateparse = lambda x: datetime.strptime(x, '%Y-%m-%d')\n",
        "data_types = {'code_postal':'string',\n",
        "              'adresse_numero': 'Int64',\n",
        "              'nombre_lots':'Int16',\n",
        "              'surface_reelle_bati': 'Float32',\n",
        "              'nombre_pieces_principales': 'Int8',\n",
        "              'surface_terrain':'Float32',\n",
        "              'code_commune':'object'}\n",
        "# dtype code postal string\n",
        "valeur_fonciere_geo_2020 = pd.read_csv('datasets/full2020.csv', sep=\",\", \n",
        "                                   parse_dates=['date_mutation'], date_parser=dateparse, \n",
        "                                   dtype=data_types,usecols=col_include)\n",
        "valeur_fonciere_geo_2019 = pd.read_csv('datasets/full2019.csv', sep=\",\", \n",
        "                                   parse_dates=['date_mutation'], date_parser=dateparse, \n",
        "                                   dtype=data_types,usecols=col_include)\n",
        "valeur_fonciere_geo_2018 = pd.read_csv('datasets/full2018.csv', sep=\",\", \n",
        "                                   parse_dates=['date_mutation'], date_parser=dateparse, \n",
        "                                   dtype=data_types,usecols=col_include)\n",
        "valeur_fonciere_geo_2017 = pd.read_csv('datasets/full2017.csv', sep=\",\", \n",
        "                                   parse_dates=['date_mutation'], date_parser=dateparse, \n",
        "                                   dtype=data_types,usecols=col_include)\n",
        "valeur_fonciere_geo_2016 = pd.read_csv('datasets/full2016.csv', sep=\",\", \n",
        "                                   parse_dates=['date_mutation'], date_parser=dateparse, \n",
        "                                   dtype=data_types,usecols=col_include)\n",
        "valeur_fonciere_geo_2015 = pd.read_csv('datasets/full2015.csv', sep=\",\", \n",
        "                                   parse_dates=['date_mutation'], date_parser=dateparse, \n",
        "                                   dtype=data_types,usecols=col_include)"
      ],
      "id": "addressed-mambo",
      "execution_count": null,
      "outputs": [
        {
          "output_type": "stream",
          "text": [
            "C:\\Users\\Administrateur\\anaconda3\\envs\\tf\\lib\\site-packages\\IPython\\core\\interactiveshell.py:3146: DtypeWarning: Columns (12) have mixed types.Specify dtype option on import or set low_memory=False.\n",
            "  has_raised = await self.run_ast_nodes(code_ast.body, cell_name,\n"
          ],
          "name": "stderr"
        }
      ]
    },
    {
      "cell_type": "code",
      "metadata": {
        "scrolled": true,
        "id": "bridal-stress"
      },
      "source": [
        "#jointure de la \n",
        "frames = [valeur_fonciere_2020, valeur_fonciere_2019, valeur_fonciere_2018, valeur_fonciere_2017\n",
        "         , valeur_fonciere_2016, valeur_fonciere_2015]\n",
        "df_foncier = pd.concat(frames)"
      ],
      "id": "bridal-stress",
      "execution_count": null,
      "outputs": []
    },
    {
      "cell_type": "code",
      "metadata": {
        "id": "prospective-mortgage"
      },
      "source": [
        "frames_geo = [valeur_fonciere_geo_2020, valeur_fonciere_geo_2019, valeur_fonciere_geo_2018, \n",
        "              valeur_fonciere_geo_2017, valeur_fonciere_geo_2016, valeur_fonciere_geo_2015]\n",
        "df_geo_foncier = pd.concat(frames_geo)"
      ],
      "id": "prospective-mortgage",
      "execution_count": null,
      "outputs": []
    },
    {
      "cell_type": "code",
      "metadata": {
        "scrolled": false,
        "id": "prepared-insurance",
        "outputId": "e62be36e-a360-4d4f-c35f-0f5871ffebd0"
      },
      "source": [
        "df_geo_foncier.info()"
      ],
      "id": "prepared-insurance",
      "execution_count": null,
      "outputs": [
        {
          "output_type": "stream",
          "text": [
            "<class 'pandas.core.frame.DataFrame'>\n",
            "Int64Index: 16359982 entries, 0 to 2750304\n",
            "Data columns (total 14 columns):\n",
            " #   Column                     Dtype         \n",
            "---  ------                     -----         \n",
            " 0   date_mutation              datetime64[ns]\n",
            " 1   nature_mutation            object        \n",
            " 2   valeur_fonciere            float64       \n",
            " 3   adresse_numero             Int64         \n",
            " 4   code_postal                string        \n",
            " 5   code_commune               object        \n",
            " 6   nom_commune                object        \n",
            " 7   code_departement           object        \n",
            " 8   nombre_lots                Int16         \n",
            " 9   code_type_local            float64       \n",
            " 10  type_local                 object        \n",
            " 11  surface_reelle_bati        Float32       \n",
            " 12  nombre_pieces_principales  Int8          \n",
            " 13  surface_terrain            Float32       \n",
            "dtypes: Float32(2), Int16(1), Int64(1), Int8(1), datetime64[ns](1), float64(2), object(5), string(1)\n",
            "memory usage: 1.6+ GB\n"
          ],
          "name": "stdout"
        }
      ]
    },
    {
      "cell_type": "markdown",
      "metadata": {
        "id": "ordered-dover"
      },
      "source": [
        "# 2. Préparation et netoyyage des données"
      ],
      "id": "ordered-dover"
    },
    {
      "cell_type": "code",
      "metadata": {
        "scrolled": true,
        "id": "textile-karma",
        "outputId": "06852178-a8d1-4995-8d36-7a6a22aec782"
      },
      "source": [
        "# Drop duplicates\n",
        "initial_length = len(df_geo_foncier)\n",
        "df_geo_foncier.drop_duplicates(inplace=True)\n",
        "print(\"Suppression des doublons: {}\".format(initial_length-len(df_geo_foncier)))"
      ],
      "id": "textile-karma",
      "execution_count": null,
      "outputs": [
        {
          "output_type": "stream",
          "text": [
            "Suppression des doublons: 1639201\n"
          ],
          "name": "stdout"
        }
      ]
    },
    {
      "cell_type": "code",
      "metadata": {
        "id": "starting-posting",
        "outputId": "71167ab6-132e-48ad-b82e-f701c89b690f"
      },
      "source": [
        "print('origine',len(df_geo_foncier.index))\n",
        "df_geo_foncier = df_geo_foncier.groupby(['date_mutation','valeur_fonciere']).filter(lambda x: len(x) == 1)\n",
        "print('apres',len(df_geo_foncier.index))"
      ],
      "id": "starting-posting",
      "execution_count": null,
      "outputs": [
        {
          "output_type": "stream",
          "text": [
            "origine 14720781\n",
            "apres 1009960\n"
          ],
          "name": "stdout"
        }
      ]
    },
    {
      "cell_type": "markdown",
      "metadata": {
        "id": "christian-crown"
      },
      "source": [
        "Construire la dataframe de maison et appartement"
      ],
      "id": "christian-crown"
    },
    {
      "cell_type": "code",
      "metadata": {
        "scrolled": true,
        "id": "lesbian-perry",
        "outputId": "14447aa6-bab1-475e-ad27-77f780eed650"
      },
      "source": [
        "# df_MA = maison + appartment\n",
        "df_geo_foncier.rename(columns={'code_commune':'Code INSEE'}, inplace=True)\n",
        "df_MA = df_geo_foncier[(df_geo_foncier['type_local'].isin(['Maison','Appartement']))&(df_geo_foncier['nature_mutation']=='Vente')]\n",
        "\n",
        "df_MA.head()"
      ],
      "id": "lesbian-perry",
      "execution_count": null,
      "outputs": [
        {
          "output_type": "execute_result",
          "data": {
            "text/html": [
              "<div>\n",
              "<style scoped>\n",
              "    .dataframe tbody tr th:only-of-type {\n",
              "        vertical-align: middle;\n",
              "    }\n",
              "\n",
              "    .dataframe tbody tr th {\n",
              "        vertical-align: top;\n",
              "    }\n",
              "\n",
              "    .dataframe thead th {\n",
              "        text-align: right;\n",
              "    }\n",
              "</style>\n",
              "<table border=\"1\" class=\"dataframe\">\n",
              "  <thead>\n",
              "    <tr style=\"text-align: right;\">\n",
              "      <th></th>\n",
              "      <th>date_mutation</th>\n",
              "      <th>nature_mutation</th>\n",
              "      <th>valeur_fonciere</th>\n",
              "      <th>adresse_numero</th>\n",
              "      <th>code_postal</th>\n",
              "      <th>Code INSEE</th>\n",
              "      <th>nom_commune</th>\n",
              "      <th>code_departement</th>\n",
              "      <th>nombre_lots</th>\n",
              "      <th>code_type_local</th>\n",
              "      <th>type_local</th>\n",
              "      <th>surface_reelle_bati</th>\n",
              "      <th>nombre_pieces_principales</th>\n",
              "      <th>surface_terrain</th>\n",
              "    </tr>\n",
              "  </thead>\n",
              "  <tbody>\n",
              "    <tr>\n",
              "      <th>4</th>\n",
              "      <td>2020-01-22</td>\n",
              "      <td>Vente</td>\n",
              "      <td>209950.0</td>\n",
              "      <td>11</td>\n",
              "      <td>01000</td>\n",
              "      <td>01053</td>\n",
              "      <td>Bourg-en-Bresse</td>\n",
              "      <td>1</td>\n",
              "      <td>0</td>\n",
              "      <td>1.0</td>\n",
              "      <td>Maison</td>\n",
              "      <td>78.0</td>\n",
              "      <td>5</td>\n",
              "      <td>242.0</td>\n",
              "    </tr>\n",
              "    <tr>\n",
              "      <th>9</th>\n",
              "      <td>2020-01-16</td>\n",
              "      <td>Vente</td>\n",
              "      <td>207170.0</td>\n",
              "      <td>10</td>\n",
              "      <td>01000</td>\n",
              "      <td>01053</td>\n",
              "      <td>Bourg-en-Bresse</td>\n",
              "      <td>1</td>\n",
              "      <td>1</td>\n",
              "      <td>1.0</td>\n",
              "      <td>Maison</td>\n",
              "      <td>106.0</td>\n",
              "      <td>4</td>\n",
              "      <td>&lt;NA&gt;</td>\n",
              "    </tr>\n",
              "    <tr>\n",
              "      <th>20</th>\n",
              "      <td>2020-01-30</td>\n",
              "      <td>Vente</td>\n",
              "      <td>164650.0</td>\n",
              "      <td>37</td>\n",
              "      <td>01000</td>\n",
              "      <td>01053</td>\n",
              "      <td>Bourg-en-Bresse</td>\n",
              "      <td>1</td>\n",
              "      <td>0</td>\n",
              "      <td>1.0</td>\n",
              "      <td>Maison</td>\n",
              "      <td>90.0</td>\n",
              "      <td>4</td>\n",
              "      <td>212.0</td>\n",
              "    </tr>\n",
              "    <tr>\n",
              "      <th>44</th>\n",
              "      <td>2020-01-16</td>\n",
              "      <td>Vente</td>\n",
              "      <td>167490.0</td>\n",
              "      <td>5065</td>\n",
              "      <td>01340</td>\n",
              "      <td>01229</td>\n",
              "      <td>Malafretaz</td>\n",
              "      <td>1</td>\n",
              "      <td>0</td>\n",
              "      <td>1.0</td>\n",
              "      <td>Maison</td>\n",
              "      <td>160.0</td>\n",
              "      <td>5</td>\n",
              "      <td>1278.0</td>\n",
              "    </tr>\n",
              "    <tr>\n",
              "      <th>63</th>\n",
              "      <td>2020-01-13</td>\n",
              "      <td>Vente</td>\n",
              "      <td>153248.0</td>\n",
              "      <td>1671</td>\n",
              "      <td>01290</td>\n",
              "      <td>01334</td>\n",
              "      <td>Saint-André-d'Huiriat</td>\n",
              "      <td>1</td>\n",
              "      <td>0</td>\n",
              "      <td>1.0</td>\n",
              "      <td>Maison</td>\n",
              "      <td>203.0</td>\n",
              "      <td>6</td>\n",
              "      <td>1673.0</td>\n",
              "    </tr>\n",
              "  </tbody>\n",
              "</table>\n",
              "</div>"
            ],
            "text/plain": [
              "   date_mutation nature_mutation  valeur_fonciere  adresse_numero code_postal  \\\n",
              "4     2020-01-22           Vente         209950.0              11       01000   \n",
              "9     2020-01-16           Vente         207170.0              10       01000   \n",
              "20    2020-01-30           Vente         164650.0              37       01000   \n",
              "44    2020-01-16           Vente         167490.0            5065       01340   \n",
              "63    2020-01-13           Vente         153248.0            1671       01290   \n",
              "\n",
              "   Code INSEE            nom_commune code_departement  nombre_lots  \\\n",
              "4       01053        Bourg-en-Bresse                1            0   \n",
              "9       01053        Bourg-en-Bresse                1            1   \n",
              "20      01053        Bourg-en-Bresse                1            0   \n",
              "44      01229             Malafretaz                1            0   \n",
              "63      01334  Saint-André-d'Huiriat                1            0   \n",
              "\n",
              "    code_type_local type_local  surface_reelle_bati  \\\n",
              "4               1.0     Maison                 78.0   \n",
              "9               1.0     Maison                106.0   \n",
              "20              1.0     Maison                 90.0   \n",
              "44              1.0     Maison                160.0   \n",
              "63              1.0     Maison                203.0   \n",
              "\n",
              "    nombre_pieces_principales  surface_terrain  \n",
              "4                           5            242.0  \n",
              "9                           4             <NA>  \n",
              "20                          4            212.0  \n",
              "44                          5           1278.0  \n",
              "63                          6           1673.0  "
            ]
          },
          "metadata": {
            "tags": []
          },
          "execution_count": 73
        }
      ]
    },
    {
      "cell_type": "markdown",
      "metadata": {
        "id": "collaborative-malta"
      },
      "source": [
        "# Clean data"
      ],
      "id": "collaborative-malta"
    },
    {
      "cell_type": "markdown",
      "metadata": {
        "id": "sexual-maldives"
      },
      "source": [
        "Présentation statistique les pourcentage des vides"
      ],
      "id": "sexual-maldives"
    },
    {
      "cell_type": "code",
      "metadata": {
        "id": "hungarian-monaco"
      },
      "source": [
        "# Missing assessment function \n",
        "def missing_values_assessment(df):\n",
        "    nan_values = df.isnull().sum().sum()\n",
        "    print('Nombre d\\'observations: {:,}'.format(len(df.index)))\n",
        "    print('Nombre de valeurs: {:,}'.format(df.size))\n",
        "    print('Valeurs manquantes: {:,}'.format(nan_values))\n",
        "    print('Qualité des données: {}%'.format(100-round((nan_values/df.size)*100,2)))\n",
        "    print('Type de données:\\n {}%'.format(df.dtypes.value_counts()))\n",
        "    analysis = {'Manquant': df.isnull().sum(),\n",
        "                'Manquant %':round((df.isnull().sum()/len(df))*100, 2),\n",
        "                'Type':df.dtypes\n",
        "               }\n",
        "    return pd.DataFrame(analysis)"
      ],
      "id": "hungarian-monaco",
      "execution_count": 3,
      "outputs": []
    },
    {
      "cell_type": "code",
      "metadata": {
        "scrolled": true,
        "colab": {
          "base_uri": "https://localhost:8080/",
          "height": 163
        },
        "id": "filled-argentina",
        "outputId": "2ac48ecf-f7ef-4797-c09f-64716620159a"
      },
      "source": [
        "missing_values_assessment(df_MA).sort_values('Manquant %', ascending=False)"
      ],
      "id": "filled-argentina",
      "execution_count": 4,
      "outputs": [
        {
          "output_type": "error",
          "ename": "NameError",
          "evalue": "ignored",
          "traceback": [
            "\u001b[0;31m---------------------------------------------------------------------------\u001b[0m",
            "\u001b[0;31mNameError\u001b[0m                                 Traceback (most recent call last)",
            "\u001b[0;32m<ipython-input-4-c80742c606ae>\u001b[0m in \u001b[0;36m<module>\u001b[0;34m()\u001b[0m\n\u001b[0;32m----> 1\u001b[0;31m \u001b[0mmissing_values_assessment\u001b[0m\u001b[0;34m(\u001b[0m\u001b[0mdf_MA\u001b[0m\u001b[0;34m)\u001b[0m\u001b[0;34m.\u001b[0m\u001b[0msort_values\u001b[0m\u001b[0;34m(\u001b[0m\u001b[0;34m'Manquant %'\u001b[0m\u001b[0;34m,\u001b[0m \u001b[0mascending\u001b[0m\u001b[0;34m=\u001b[0m\u001b[0;32mFalse\u001b[0m\u001b[0;34m)\u001b[0m\u001b[0;34m\u001b[0m\u001b[0;34m\u001b[0m\u001b[0m\n\u001b[0m",
            "\u001b[0;31mNameError\u001b[0m: name 'df_MA' is not defined"
          ]
        }
      ]
    },
    {
      "cell_type": "markdown",
      "metadata": {
        "id": "raising-discretion"
      },
      "source": [
        "Supprimer les columns vides"
      ],
      "id": "raising-discretion"
    },
    {
      "cell_type": "code",
      "metadata": {
        "id": "golden-bride"
      },
      "source": [
        "import missingno as msno\n",
        "msno.matrix(df_MA, sort='ascending')"
      ],
      "id": "golden-bride",
      "execution_count": null,
      "outputs": []
    },
    {
      "cell_type": "code",
      "metadata": {
        "id": "racial-exchange"
      },
      "source": [
        "df_MA['surface_terrain'].fillna(df_MA['surface_reelle_bati'], inplace=True)\n"
      ],
      "id": "racial-exchange",
      "execution_count": null,
      "outputs": []
    },
    {
      "cell_type": "code",
      "metadata": {
        "id": "another-administrator"
      },
      "source": [
        "import missingno as msno\n",
        "msno.matrix(df_MA, sort='ascending')"
      ],
      "id": "another-administrator",
      "execution_count": null,
      "outputs": []
    },
    {
      "cell_type": "markdown",
      "metadata": {
        "id": "featured-cannon"
      },
      "source": [
        "**Imputation**"
      ],
      "id": "featured-cannon"
    },
    {
      "cell_type": "code",
      "metadata": {
        "id": "recent-ideal"
      },
      "source": [
        "df_MA.dropna(how='any', axis=0, inplace=True)"
      ],
      "id": "recent-ideal",
      "execution_count": null,
      "outputs": []
    },
    {
      "cell_type": "markdown",
      "metadata": {
        "id": "lyric-carter"
      },
      "source": [
        "Ajouter les columns Years et Months"
      ],
      "id": "lyric-carter"
    },
    {
      "cell_type": "code",
      "metadata": {
        "id": "headed-volume"
      },
      "source": [
        "df_MA['Year'] = pd.DatetimeIndex(df_MA['date_mutation']).year\n",
        "df_MA['Month'] = pd.DatetimeIndex(df_MA['date_mutation']).month"
      ],
      "id": "headed-volume",
      "execution_count": null,
      "outputs": []
    },
    {
      "cell_type": "code",
      "metadata": {
        "id": "meaningful-finish"
      },
      "source": [
        "df_MA['Prix_m2']=df_MA['valeur_fonciere']/df_MA['surface_reelle_bati']"
      ],
      "id": "meaningful-finish",
      "execution_count": null,
      "outputs": []
    },
    {
      "cell_type": "code",
      "metadata": {
        "scrolled": false,
        "id": "nominated-blair"
      },
      "source": [
        "df_MA.info()"
      ],
      "id": "nominated-blair",
      "execution_count": null,
      "outputs": []
    },
    {
      "cell_type": "markdown",
      "metadata": {
        "id": "complex-module"
      },
      "source": [
        "Export the data"
      ],
      "id": "complex-module"
    },
    {
      "cell_type": "code",
      "metadata": {
        "id": "finnish-relative"
      },
      "source": [
        "df_MA.to_csv(r'datasets/fonciere_geo.csv', index = None, header=True)"
      ],
      "id": "finnish-relative",
      "execution_count": null,
      "outputs": []
    },
    {
      "cell_type": "markdown",
      "metadata": {
        "id": "quiet-humanity"
      },
      "source": [
        "# EDA"
      ],
      "id": "quiet-humanity"
    },
    {
      "cell_type": "code",
      "metadata": {
        "colab": {
          "base_uri": "https://localhost:8080/",
          "height": 163
        },
        "id": "ignored-responsibility",
        "outputId": "0cff1024-7432-4a9b-dd6a-3db404e8fecc"
      },
      "source": [
        "df_MA['code_departement'].unique()"
      ],
      "id": "ignored-responsibility",
      "execution_count": 1,
      "outputs": [
        {
          "output_type": "error",
          "ename": "NameError",
          "evalue": "ignored",
          "traceback": [
            "\u001b[0;31m---------------------------------------------------------------------------\u001b[0m",
            "\u001b[0;31mNameError\u001b[0m                                 Traceback (most recent call last)",
            "\u001b[0;32m<ipython-input-1-3a1cac772993>\u001b[0m in \u001b[0;36m<module>\u001b[0;34m()\u001b[0m\n\u001b[0;32m----> 1\u001b[0;31m \u001b[0mdf_MA\u001b[0m\u001b[0;34m[\u001b[0m\u001b[0;34m'code_departement'\u001b[0m\u001b[0;34m]\u001b[0m\u001b[0;34m.\u001b[0m\u001b[0munique\u001b[0m\u001b[0;34m(\u001b[0m\u001b[0;34m)\u001b[0m\u001b[0;34m\u001b[0m\u001b[0;34m\u001b[0m\u001b[0m\n\u001b[0m",
            "\u001b[0;31mNameError\u001b[0m: name 'df_MA' is not defined"
          ]
        }
      ]
    },
    {
      "cell_type": "code",
      "metadata": {
        "colab": {
          "base_uri": "https://localhost:8080/",
          "height": 180
        },
        "id": "neural-treaty",
        "outputId": "64355c4c-4241-4db0-f85b-00003d5a5465"
      },
      "source": [
        "df_MA_IDF=df_MA[(df_MA['code_departement'].isin([75,91,92,93,94,95,77,78]))]\n",
        "df_MA_IDF.head()"
      ],
      "id": "neural-treaty",
      "execution_count": 2,
      "outputs": [
        {
          "output_type": "error",
          "ename": "NameError",
          "evalue": "ignored",
          "traceback": [
            "\u001b[0;31m---------------------------------------------------------------------------\u001b[0m",
            "\u001b[0;31mNameError\u001b[0m                                 Traceback (most recent call last)",
            "\u001b[0;32m<ipython-input-2-4d7ae89e6348>\u001b[0m in \u001b[0;36m<module>\u001b[0;34m()\u001b[0m\n\u001b[0;32m----> 1\u001b[0;31m \u001b[0mdf_MA_IDF\u001b[0m\u001b[0;34m=\u001b[0m\u001b[0mdf_MA\u001b[0m\u001b[0;34m[\u001b[0m\u001b[0;34m(\u001b[0m\u001b[0mdf_MA\u001b[0m\u001b[0;34m[\u001b[0m\u001b[0;34m'code_departement'\u001b[0m\u001b[0;34m]\u001b[0m\u001b[0;34m.\u001b[0m\u001b[0misin\u001b[0m\u001b[0;34m(\u001b[0m\u001b[0;34m[\u001b[0m\u001b[0;36m75\u001b[0m\u001b[0;34m,\u001b[0m\u001b[0;36m91\u001b[0m\u001b[0;34m,\u001b[0m\u001b[0;36m92\u001b[0m\u001b[0;34m,\u001b[0m\u001b[0;36m93\u001b[0m\u001b[0;34m,\u001b[0m\u001b[0;36m94\u001b[0m\u001b[0;34m,\u001b[0m\u001b[0;36m95\u001b[0m\u001b[0;34m,\u001b[0m\u001b[0;36m77\u001b[0m\u001b[0;34m,\u001b[0m\u001b[0;36m78\u001b[0m\u001b[0;34m]\u001b[0m\u001b[0;34m)\u001b[0m\u001b[0;34m)\u001b[0m\u001b[0;34m]\u001b[0m\u001b[0;34m\u001b[0m\u001b[0;34m\u001b[0m\u001b[0m\n\u001b[0m\u001b[1;32m      2\u001b[0m \u001b[0mdf_MA_IDF\u001b[0m\u001b[0;34m.\u001b[0m\u001b[0mhead\u001b[0m\u001b[0;34m(\u001b[0m\u001b[0;34m)\u001b[0m\u001b[0;34m\u001b[0m\u001b[0;34m\u001b[0m\u001b[0m\n",
            "\u001b[0;31mNameError\u001b[0m: name 'df_MA' is not defined"
          ]
        }
      ]
    },
    {
      "cell_type": "code",
      "metadata": {
        "scrolled": false,
        "id": "toxic-cylinder"
      },
      "source": [
        "#Quality correlation matrix\n",
        "k = 8 #number of variables for heatmap\n",
        "cols = df_MA_IDF.corr().nlargest(k, 'valeur_fonciere')['valeur_fonciere'].index\n",
        "cm = df_MA_IDF[cols].corr()\n",
        "plt.figure(figsize=(10,6))\n",
        "sns.heatmap(cm, annot=True, cmap = 'viridis')"
      ],
      "id": "toxic-cylinder",
      "execution_count": null,
      "outputs": []
    },
    {
      "cell_type": "code",
      "metadata": {
        "id": "french-tuition"
      },
      "source": [
        "sns.pairplot(data=df_MA_IDF)"
      ],
      "id": "french-tuition",
      "execution_count": null,
      "outputs": []
    },
    {
      "cell_type": "markdown",
      "metadata": {
        "id": "described-continent"
      },
      "source": [
        "Mutation par Mois"
      ],
      "id": "described-continent"
    },
    {
      "cell_type": "code",
      "metadata": {
        "id": "necessary-circus"
      },
      "source": [
        "plt.figure(figsize=(10,5))\n",
        "ax = sns.countplot(x=df_MA_IDF.Month)\n",
        "ax.set_title('Nombre de mutation par mois')\n",
        "ax.set_xlabel('Mois')\n",
        "ax.set_ylabel('Nombre de mutation')"
      ],
      "id": "necessary-circus",
      "execution_count": null,
      "outputs": []
    },
    {
      "cell_type": "code",
      "metadata": {
        "scrolled": false,
        "id": "auburn-center"
      },
      "source": [
        "plt.figure(figsize=(9,5))\n",
        "df_MA_IDF['jour_de_semaine'] = df_MA_IDF['date_mutation'].map(lambda x: x.dayofweek)\n",
        "ax = sns.countplot(x=df_MA_IDF['jour_de_semaine'])\n",
        "ax.set_title('Nombre de mutation par jour de semaine')\n",
        "ax.set_xlabel('Jour de semaine')\n",
        "ax.set_xticklabels(['Lundi','Mardi','Mercredi','Jeudi','Vendredi','Samedi','Dimanche'],rotation=45)\n",
        "ax.set_ylabel('Nombre de mutation')"
      ],
      "id": "auburn-center",
      "execution_count": null,
      "outputs": []
    },
    {
      "cell_type": "markdown",
      "metadata": {
        "id": "agreed-incident"
      },
      "source": [
        "Detect the outliers"
      ],
      "id": "agreed-incident"
    },
    {
      "cell_type": "code",
      "metadata": {
        "id": "boxed-excerpt"
      },
      "source": [
        "print('The \"Surface terrain\" where we reach the 90th/10th quantile is :',\n",
        "      df_MA_IDF['surface_terrain'].quantile(q=0.95),df_MA_IDF['surface_terrain'].quantile(q=0.10),'m2',\n",
        "      '\\n',\n",
        "      'The \"Surface reelle bati\" where we reach the 95th quantile is :',\n",
        "      df_MA_IDF['surface_reelle_bati'].quantile(q=0.95),'m2',\n",
        "      '\\n',\n",
        "     'The \"Nombre pieces principales\" where we reach the 99,95th quantile is :',\n",
        "      df_MA_IDF['nombre_pieces_principales'].quantile(q=0.9995),'piece',\n",
        "     '\\n',\n",
        "     'The \"Valeur fonciere\" where we reach the 99,95th quantile is :',\n",
        "      df_MA_IDF['valeur_fonciere'].quantile(q=0.8),'euros')"
      ],
      "id": "boxed-excerpt",
      "execution_count": null,
      "outputs": []
    },
    {
      "cell_type": "code",
      "metadata": {
        "id": "split-leeds"
      },
      "source": [
        "df_test = df_MA_IDF[(df_MA_IDF['surface_terrain']<600.0)&(df_MA_IDF['surface_terrain']>50.0)]\n",
        "plt.boxplot(df_test['surface_terrain'])\n"
      ],
      "id": "split-leeds",
      "execution_count": null,
      "outputs": []
    },
    {
      "cell_type": "code",
      "metadata": {
        "scrolled": false,
        "id": "pursuant-samoa"
      },
      "source": [
        "df_test = df_MA_IDF[(df_MA_IDF['surface_reelle_bati']<162)&(df_MA_IDF['surface_reelle_bati']>5)]\n",
        "plt.boxplot(df_test['surface_reelle_bati'])"
      ],
      "id": "pursuant-samoa",
      "execution_count": null,
      "outputs": []
    },
    {
      "cell_type": "markdown",
      "metadata": {
        "id": "dependent-collar"
      },
      "source": [
        "Outliers pour Nombre pieces principales"
      ],
      "id": "dependent-collar"
    },
    {
      "cell_type": "code",
      "metadata": {
        "id": "demanding-realtor"
      },
      "source": [
        "df_test = df_MA_IDF[(df_MA_IDF['nombre_pieces_principales']<11)&(df_MA_IDF['nombre_pieces_principales']>1)]\n",
        "plt.boxplot(df_test['nombre_pieces_principales'])"
      ],
      "id": "demanding-realtor",
      "execution_count": null,
      "outputs": []
    },
    {
      "cell_type": "code",
      "metadata": {
        "scrolled": false,
        "id": "intelligent-eclipse"
      },
      "source": [
        "df_test = df_MA_IDF[(df_MA_IDF['valeur_fonciere']<695000)&(df_MA_IDF['valeur_fonciere']>50000)]\n",
        "plt.boxplot(df_test['valeur_fonciere'])"
      ],
      "id": "intelligent-eclipse",
      "execution_count": null,
      "outputs": []
    },
    {
      "cell_type": "markdown",
      "metadata": {
        "id": "controversial-parker"
      },
      "source": [
        "Construire le dataframe final"
      ],
      "id": "controversial-parker"
    },
    {
      "cell_type": "markdown",
      "metadata": {
        "id": "loving-appointment"
      },
      "source": [
        "The \"Surface terrain\" where we reach the 90th/10th quantile is : 702.0 159.0 m2 \n",
        " The \"Surface reelle bati\" where we reach the 95th quantile is : 185.0 m2 \n",
        " The \"Nombre pieces principales\" where we reach the 99,95th quantile is : 13.0 piece \n",
        " The \"Valeur fonciere\" where we reach the 99,95th quantile is : 655119.9999999998 euros"
      ],
      "id": "loving-appointment"
    },
    {
      "cell_type": "code",
      "metadata": {
        "id": "average-participant"
      },
      "source": [
        "df_fonciere_final = df_MA_IDF[(df_MA_IDF['valeur_fonciere']<695000)&(df_MA_IDF['valeur_fonciere']>50000)&\n",
        "                     (df_MA_IDF['nombre_pieces_principales']<11)&(df_MA_IDF['nombre_pieces_principales']>1)&\n",
        "                       (df_MA_IDF['surface_terrain']<600)&(df_MA_IDF['surface_terrain']>50)&\n",
        "                     (df_MA_IDF['surface_reelle_bati']<162)&(df_MA_IDF['surface_reelle_bati']>5)]\n",
        "\n",
        "df_fonciere_final.head()"
      ],
      "id": "average-participant",
      "execution_count": null,
      "outputs": []
    },
    {
      "cell_type": "code",
      "metadata": {
        "id": "ancient-stuff"
      },
      "source": [
        "df_fonciere_final.drop(['date_mutation','nature_mutation','code_postal','type_local'],axis = 1, inplace = True)"
      ],
      "id": "ancient-stuff",
      "execution_count": null,
      "outputs": []
    },
    {
      "cell_type": "code",
      "metadata": {
        "scrolled": true,
        "id": "organic-museum"
      },
      "source": [
        "df_fonciere_final.head()"
      ],
      "id": "organic-museum",
      "execution_count": null,
      "outputs": []
    },
    {
      "cell_type": "markdown",
      "metadata": {
        "id": "regular-client"
      },
      "source": [
        "Concat data popu "
      ],
      "id": "regular-client"
    },
    {
      "cell_type": "code",
      "metadata": {
        "id": "worst-amount"
      },
      "source": [
        "all_data=pd.read_csv('datasets/all_dataset.csv')\n",
        "all_data.head()"
      ],
      "id": "worst-amount",
      "execution_count": null,
      "outputs": []
    },
    {
      "cell_type": "code",
      "metadata": {
        "scrolled": true,
        "id": "indian-carroll"
      },
      "source": [
        "#test_df = df_final[df_final['Code INSEE']=='94003']\n",
        "\n",
        "df_merged = pd.merge(df_fonciere_final,all_data,on='Code INSEE',how='left', indicator=True)\n",
        "df_merged.head()"
      ],
      "id": "indian-carroll",
      "execution_count": null,
      "outputs": []
    },
    {
      "cell_type": "code",
      "metadata": {
        "id": "concerned-crest"
      },
      "source": [
        "df_merged[df_merged['code_departement']==75]"
      ],
      "id": "concerned-crest",
      "execution_count": null,
      "outputs": []
    },
    {
      "cell_type": "code",
      "metadata": {
        "id": "imported-accuracy"
      },
      "source": [
        "# Define subplots object\n",
        "fig, (ax1, ax2, ax3, ax4) = plt.subplots(4, 1, figsize=(10,10) , gridspec_kw={'hspace': 0.5})\n",
        "\n",
        "fig.suptitle('Distribution of the Communes acrosss the studied features', fontsize=16)\n",
        "\n",
        "# Plot density\n",
        "sns.boxenplot(df_merged['density'],ax=ax1)\n",
        "ax1.set_xlabel('Distribution of the density of population (in uninhabitant/km2). This plot was cropped')\n",
        "ax1.set_ylabel('Commune \\n frequency')\n",
        "ax1.set_xlim(0,1000)\n",
        "\n",
        "# Plot revenue_median\n",
        "sns.boxenplot(df_merged['revenue_median'],ax=ax2)\n",
        "ax2.set_xlabel('Distribution of the median standard of living of households (in €/an)')\n",
        "ax2.set_ylabel('Commune \\n frequency')\n",
        "\n",
        "# Plot age_median\n",
        "sns.boxenplot(df_merged['age_median'],ax=ax3)\n",
        "ax3.set_xlabel('Distribution of the age median')\n",
        "ax3.set_ylabel('Commune \\n frequency')\n",
        "\n",
        "# Plot Prix_m2\n",
        "sns.boxenplot(df_merged['Prix_m2'],ax=ax4)\n",
        "ax4.set_xlabel('Distribution of the mean price of houses per m2 ( in €/m2). This plot was cropped ')\n",
        "ax4.set_ylabel('Commune \\n frequency')\n",
        "ax4.set_xlim(0,6000)"
      ],
      "id": "imported-accuracy",
      "execution_count": null,
      "outputs": []
    },
    {
      "cell_type": "code",
      "metadata": {
        "id": "relative-arctic"
      },
      "source": [
        "print(df_merged.shape)"
      ],
      "id": "relative-arctic",
      "execution_count": null,
      "outputs": []
    },
    {
      "cell_type": "code",
      "metadata": {
        "id": "corrected-happening"
      },
      "source": [
        "print(df_merged.shape)\n",
        "df_merged.dropna(how='any', axis=0, inplace=True)\n",
        "print(df_merged.shape)"
      ],
      "id": "corrected-happening",
      "execution_count": null,
      "outputs": []
    },
    {
      "cell_type": "code",
      "metadata": {
        "id": "mental-harrison"
      },
      "source": [
        "df_merged.to_csv('datasets/df_merged_dataset.csv', index=False)"
      ],
      "id": "mental-harrison",
      "execution_count": null,
      "outputs": []
    },
    {
      "cell_type": "markdown",
      "metadata": {
        "id": "human-order"
      },
      "source": [
        "**Encode**"
      ],
      "id": "human-order"
    },
    {
      "cell_type": "code",
      "metadata": {
        "id": "certified-darwin"
      },
      "source": [
        "df_merged.columns"
      ],
      "id": "certified-darwin",
      "execution_count": null,
      "outputs": []
    },
    {
      "cell_type": "code",
      "metadata": {
        "id": "adaptive-secretariat"
      },
      "source": [
        "numeric_features = ['nombre_lots','surface_reelle_bati','nombre_pieces_principales','surface_terrain','superficie_km2',\n",
        "                    'age_median','revenue_median','population','density']\n",
        "categorical_features = ['adresse_numero','code_type_local','Month','code_departement']"
      ],
      "id": "adaptive-secretariat",
      "execution_count": null,
      "outputs": []
    },
    {
      "cell_type": "code",
      "metadata": {
        "id": "registered-argentina"
      },
      "source": [
        "from sklearn.compose import ColumnTransformer\n",
        "from sklearn.pipeline import Pipeline\n",
        "from sklearn.impute import SimpleImputer\n",
        "from sklearn.preprocessing import StandardScaler, OneHotEncoder\n",
        "from sklearn.linear_model import LogisticRegression\n",
        "from sklearn.model_selection import train_test_split, GridSearchCV\n",
        "from sklearn.linear_model import LinearRegression\n",
        "\n",
        "\n",
        "np.random.seed(0)\n",
        "\n",
        "\n",
        "numeric_transformer = Pipeline(steps=[\n",
        "    ('scaler', StandardScaler())])\n",
        "\n",
        "\n",
        "categorical_transformer = Pipeline(steps=[\n",
        "    ('onehot', OneHotEncoder(handle_unknown='ignore'))])\n",
        "\n",
        "preprocessor = ColumnTransformer(\n",
        "    transformers=[\n",
        "        ('num', numeric_transformer, numeric_features),\n",
        "        ('cat', categorical_transformer, categorical_features)])\n"
      ],
      "id": "registered-argentina",
      "execution_count": null,
      "outputs": []
    },
    {
      "cell_type": "code",
      "metadata": {
        "id": "impressed-animal"
      },
      "source": [
        "col_X = numeric_features+categorical_features\n",
        "\n",
        "X = df_merged[col_X]\n",
        "y = df_merged['valeur_fonciere']\n",
        "\n",
        "X_train, X_test, y_train, y_test = train_test_split(X, y, test_size=0.25)"
      ],
      "id": "impressed-animal",
      "execution_count": null,
      "outputs": []
    },
    {
      "cell_type": "markdown",
      "metadata": {
        "id": "improved-affairs"
      },
      "source": [
        "LinearRegression"
      ],
      "id": "improved-affairs"
    },
    {
      "cell_type": "code",
      "metadata": {
        "id": "returning-accuracy"
      },
      "source": [
        "model1 = Pipeline(steps=[('preprocessor', preprocessor),\n",
        "                      ('lregressor', LinearRegression())])\n",
        "\n",
        "model1.fit(X_train, y_train)\n",
        "print(\"model R2 score: %.3f\" % model1.score(X_test, y_test))"
      ],
      "id": "returning-accuracy",
      "execution_count": null,
      "outputs": []
    },
    {
      "cell_type": "code",
      "metadata": {
        "scrolled": false,
        "id": "electrical-gibraltar"
      },
      "source": [
        "from sklearn.metrics import mean_squared_error\n",
        "\n",
        "y_pred = model1.predict(X_test)\n",
        "MSE = mean_squared_error(y_test, y_pred)\n",
        "print('model1 MSE is: ', MSE)"
      ],
      "id": "electrical-gibraltar",
      "execution_count": null,
      "outputs": []
    },
    {
      "cell_type": "code",
      "metadata": {
        "id": "pharmaceutical-knowing"
      },
      "source": [
        "print(21090385107.22951-15907330336.873158)\n",
        "print(21090385107.22951-19456898431.83947)\n",
        "print(21090385107.22951-9878000087.029533)\n"
      ],
      "id": "pharmaceutical-knowing",
      "execution_count": null,
      "outputs": []
    },
    {
      "cell_type": "markdown",
      "metadata": {
        "id": "swiss-program"
      },
      "source": [
        "xgboost"
      ],
      "id": "swiss-program"
    },
    {
      "cell_type": "code",
      "metadata": {
        "id": "greenhouse-politics"
      },
      "source": [
        "import xgboost as xg \n",
        "\n",
        "model2 = Pipeline(steps=[('preprocessor', preprocessor),\n",
        "                      ('xgbregressor', xg.XGBRegressor(objective ='reg:squarederror', n_estimators = 200, seed = 0))])\n",
        "\n",
        "model2.fit(X_train, y_train)\n",
        "print(\"model score: %.3f\" % model2.score(X_test, y_test))"
      ],
      "id": "greenhouse-politics",
      "execution_count": null,
      "outputs": []
    },
    {
      "cell_type": "code",
      "metadata": {
        "id": "verbal-austin"
      },
      "source": [
        "from sklearn.metrics import mean_squared_error\n",
        "\n",
        "y_pred2 = model2.predict(X_test)\n",
        "MSE2 = mean_squared_error(y_test, y_pred2)\n",
        "print('model2 MSE is: ', MSE2)"
      ],
      "id": "verbal-austin",
      "execution_count": null,
      "outputs": []
    },
    {
      "cell_type": "markdown",
      "metadata": {
        "id": "peaceful-prince"
      },
      "source": [
        "RandomForestRegressor"
      ],
      "id": "peaceful-prince"
    },
    {
      "cell_type": "code",
      "metadata": {
        "id": "massive-blond"
      },
      "source": [
        "from sklearn.ensemble import RandomForestRegressor\n",
        "\n",
        "model3 = Pipeline(steps=[('preprocessor', preprocessor),\n",
        "                      ('rfregressor', RandomForestRegressor(max_depth=10,n_estimators = 200))])\n",
        "\n",
        "model3.fit(X_train, y_train)\n",
        "print(\"model score: %.3f\" % model3.score(X_test, y_test))"
      ],
      "id": "massive-blond",
      "execution_count": null,
      "outputs": []
    },
    {
      "cell_type": "code",
      "metadata": {
        "scrolled": true,
        "id": "young-ethnic"
      },
      "source": [
        "from sklearn.metrics import mean_squared_error\n",
        "\n",
        "y_pred3 = model3.predict(X_test)\n",
        "MSE3 = mean_squared_error(y_test, y_pred3)\n",
        "print('model3 MSE is: ', MSE3)"
      ],
      "id": "young-ethnic",
      "execution_count": null,
      "outputs": []
    },
    {
      "cell_type": "code",
      "metadata": {
        "id": "beneficial-connection"
      },
      "source": [
        ""
      ],
      "id": "beneficial-connection",
      "execution_count": null,
      "outputs": []
    },
    {
      "cell_type": "code",
      "metadata": {
        "id": "regular-equity"
      },
      "source": [
        "from sklearn.ensemble import RandomForestRegressor\n",
        "\n",
        "model4 = Pipeline(steps=[('preprocessor', preprocessor),\n",
        "                      ('rfregressor', RandomForestRegressor(max_depth=10,n_estimators = 200, verbose = 1))])\n",
        "\n",
        "model4.fit(X_train, y_train)\n",
        "print(\"model score: %.3f\" % model4.score(X_test, y_test))"
      ],
      "id": "regular-equity",
      "execution_count": null,
      "outputs": []
    },
    {
      "cell_type": "code",
      "metadata": {
        "id": "latest-announcement"
      },
      "source": [
        "from sklearn.metrics import mean_squared_error\n",
        "\n",
        "y_pred4 = model4.predict(X_test)\n",
        "MSE4 = mean_squared_error(y_test, y_pred4)\n",
        "print('model MSE is: ', MSE4)"
      ],
      "id": "latest-announcement",
      "execution_count": null,
      "outputs": []
    },
    {
      "cell_type": "code",
      "metadata": {
        "id": "noble-accordance"
      },
      "source": [
        ""
      ],
      "id": "noble-accordance",
      "execution_count": null,
      "outputs": []
    }
  ]
}