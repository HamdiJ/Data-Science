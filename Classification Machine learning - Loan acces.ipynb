{
  "nbformat": 4,
  "nbformat_minor": 0,
  "metadata": {
    "kernelspec": {
      "display_name": "Python 3",
      "language": "python",
      "name": "python3"
    },
    "language_info": {
      "codemirror_mode": {
        "name": "ipython",
        "version": 3
      },
      "file_extension": ".py",
      "mimetype": "text/x-python",
      "name": "python",
      "nbconvert_exporter": "python",
      "pygments_lexer": "ipython3",
      "version": "3.8.3"
    },
    "colab": {
      "name": "ML Loan.ipynb",
      "provenance": [],
      "include_colab_link": true
    }
  },
  "cells": [
    {
      "cell_type": "markdown",
      "metadata": {
        "id": "view-in-github",
        "colab_type": "text"
      },
      "source": [
        "<a href=\"https://colab.research.google.com/github/HamdiJ/Data-Science/blob/master/Classification%20Machine%20learning%20-%20Loan%20acces.ipynb\" target=\"_parent\"><img src=\"https://colab.research.google.com/assets/colab-badge.svg\" alt=\"Open In Colab\"/></a>"
      ]
    },
    {
      "cell_type": "markdown",
      "metadata": {
        "id": "raL57gnUxOrJ"
      },
      "source": [
        "\n",
        "\n",
        "## Problem statement: \n",
        " \n",
        "Dream Housing Finance company deals in all home loans. They have presence across all urban, semi urban and rural areas. Customer first apply for home loan after that company validates the customer eligibility for loan. Company wants to automate the loan eligibility process (real time) based on customer detail provided while filling online application form. These details are Gender, Marital Status, Education, Number of Dependents, Income, Loan Amount, Credit History and others. To automate this process, they have given a problem to identify the customers segments, those are eligible for loan amount so that they can specifically target these customers. \n",
        " \n",
        " \n",
        "\n",
        "\n",
        "\n",
        "1.   List item\n",
        "2.   List item\n",
        "\n"
      ]
    },
    {
      "cell_type": "markdown",
      "metadata": {
        "id": "x1cSLmakxOrL"
      },
      "source": [
        "### Read in data"
      ]
    },
    {
      "cell_type": "code",
      "metadata": {
        "colab": {
          "base_uri": "https://localhost:8080/",
          "height": 258
        },
        "id": "RpXxO-ghxOrM",
        "outputId": "5b4f4473-93ab-4684-b53d-7d93c77bf0c1"
      },
      "source": [
        "import matplotlib.pyplot as plt\n",
        "import numpy as np\n",
        "import pandas as pd\n",
        "import seaborn as sns\n",
        "%matplotlib inline\n",
        "from google.colab import drive\n",
        "drive.mount('/content/drive')\n",
        "df = pd.read_csv(\"/content/drive/MyDrive/datasets/train.csv\", sep = ';',header = 0)\n",
        "df.head()"
      ],
      "execution_count": null,
      "outputs": [
        {
          "output_type": "stream",
          "text": [
            "Drive already mounted at /content/drive; to attempt to forcibly remount, call drive.mount(\"/content/drive\", force_remount=True).\n"
          ],
          "name": "stdout"
        },
        {
          "output_type": "execute_result",
          "data": {
            "text/html": [
              "<div>\n",
              "<style scoped>\n",
              "    .dataframe tbody tr th:only-of-type {\n",
              "        vertical-align: middle;\n",
              "    }\n",
              "\n",
              "    .dataframe tbody tr th {\n",
              "        vertical-align: top;\n",
              "    }\n",
              "\n",
              "    .dataframe thead th {\n",
              "        text-align: right;\n",
              "    }\n",
              "</style>\n",
              "<table border=\"1\" class=\"dataframe\">\n",
              "  <thead>\n",
              "    <tr style=\"text-align: right;\">\n",
              "      <th></th>\n",
              "      <th>Loan_ID</th>\n",
              "      <th>Gender</th>\n",
              "      <th>Married</th>\n",
              "      <th>Dependents</th>\n",
              "      <th>Education</th>\n",
              "      <th>Self_Employed</th>\n",
              "      <th>ApplicantIncome</th>\n",
              "      <th>CoapplicantIncome</th>\n",
              "      <th>LoanAmount</th>\n",
              "      <th>Loan_Amount_Term</th>\n",
              "      <th>Credit_History</th>\n",
              "      <th>Property_Area</th>\n",
              "      <th>Loan_Status</th>\n",
              "    </tr>\n",
              "  </thead>\n",
              "  <tbody>\n",
              "    <tr>\n",
              "      <th>0</th>\n",
              "      <td>LP001002</td>\n",
              "      <td>Male</td>\n",
              "      <td>No</td>\n",
              "      <td>0.0</td>\n",
              "      <td>Graduate</td>\n",
              "      <td>No</td>\n",
              "      <td>5849</td>\n",
              "      <td>0.0</td>\n",
              "      <td>NaN</td>\n",
              "      <td>360.0</td>\n",
              "      <td>1.0</td>\n",
              "      <td>Urban</td>\n",
              "      <td>Y</td>\n",
              "    </tr>\n",
              "    <tr>\n",
              "      <th>1</th>\n",
              "      <td>LP001003</td>\n",
              "      <td>Male</td>\n",
              "      <td>Yes</td>\n",
              "      <td>1.0</td>\n",
              "      <td>Graduate</td>\n",
              "      <td>No</td>\n",
              "      <td>4583</td>\n",
              "      <td>1508.0</td>\n",
              "      <td>128.0</td>\n",
              "      <td>360.0</td>\n",
              "      <td>1.0</td>\n",
              "      <td>Rural</td>\n",
              "      <td>N</td>\n",
              "    </tr>\n",
              "    <tr>\n",
              "      <th>2</th>\n",
              "      <td>LP001005</td>\n",
              "      <td>Male</td>\n",
              "      <td>Yes</td>\n",
              "      <td>0.0</td>\n",
              "      <td>Graduate</td>\n",
              "      <td>Yes</td>\n",
              "      <td>3000</td>\n",
              "      <td>0.0</td>\n",
              "      <td>66.0</td>\n",
              "      <td>360.0</td>\n",
              "      <td>1.0</td>\n",
              "      <td>Urban</td>\n",
              "      <td>Y</td>\n",
              "    </tr>\n",
              "    <tr>\n",
              "      <th>3</th>\n",
              "      <td>LP001006</td>\n",
              "      <td>Male</td>\n",
              "      <td>Yes</td>\n",
              "      <td>0.0</td>\n",
              "      <td>Not Graduate</td>\n",
              "      <td>No</td>\n",
              "      <td>2583</td>\n",
              "      <td>2358.0</td>\n",
              "      <td>120.0</td>\n",
              "      <td>360.0</td>\n",
              "      <td>1.0</td>\n",
              "      <td>Urban</td>\n",
              "      <td>Y</td>\n",
              "    </tr>\n",
              "    <tr>\n",
              "      <th>4</th>\n",
              "      <td>LP001008</td>\n",
              "      <td>Male</td>\n",
              "      <td>No</td>\n",
              "      <td>0.0</td>\n",
              "      <td>Graduate</td>\n",
              "      <td>No</td>\n",
              "      <td>6000</td>\n",
              "      <td>0.0</td>\n",
              "      <td>141.0</td>\n",
              "      <td>360.0</td>\n",
              "      <td>1.0</td>\n",
              "      <td>Urban</td>\n",
              "      <td>Y</td>\n",
              "    </tr>\n",
              "  </tbody>\n",
              "</table>\n",
              "</div>"
            ],
            "text/plain": [
              "    Loan_ID Gender Married  ...  Credit_History Property_Area Loan_Status\n",
              "0  LP001002   Male      No  ...             1.0         Urban           Y\n",
              "1  LP001003   Male     Yes  ...             1.0         Rural           N\n",
              "2  LP001005   Male     Yes  ...             1.0         Urban           Y\n",
              "3  LP001006   Male     Yes  ...             1.0         Urban           Y\n",
              "4  LP001008   Male      No  ...             1.0         Urban           Y\n",
              "\n",
              "[5 rows x 13 columns]"
            ]
          },
          "metadata": {
            "tags": []
          },
          "execution_count": 103
        }
      ]
    },
    {
      "cell_type": "code",
      "metadata": {
        "colab": {
          "base_uri": "https://localhost:8080/"
        },
        "id": "v9-UZUzxOLl8",
        "outputId": "fb344fc8-006d-43ed-800c-645e611d43cd"
      },
      "source": [
        "#Verif NAN values\n",
        "df.info()"
      ],
      "execution_count": null,
      "outputs": [
        {
          "output_type": "stream",
          "text": [
            "<class 'pandas.core.frame.DataFrame'>\n",
            "RangeIndex: 614 entries, 0 to 613\n",
            "Data columns (total 13 columns):\n",
            " #   Column             Non-Null Count  Dtype  \n",
            "---  ------             --------------  -----  \n",
            " 0   Loan_ID            614 non-null    object \n",
            " 1   Gender             601 non-null    object \n",
            " 2   Married            611 non-null    object \n",
            " 3   Dependents         599 non-null    float64\n",
            " 4   Education          614 non-null    object \n",
            " 5   Self_Employed      582 non-null    object \n",
            " 6   ApplicantIncome    614 non-null    int64  \n",
            " 7   CoapplicantIncome  612 non-null    float64\n",
            " 8   LoanAmount         592 non-null    float64\n",
            " 9   Loan_Amount_Term   600 non-null    float64\n",
            " 10  Credit_History     564 non-null    float64\n",
            " 11  Property_Area      614 non-null    object \n",
            " 12  Loan_Status        614 non-null    object \n",
            "dtypes: float64(5), int64(1), object(7)\n",
            "memory usage: 62.5+ KB\n"
          ],
          "name": "stdout"
        }
      ]
    },
    {
      "cell_type": "code",
      "metadata": {
        "colab": {
          "base_uri": "https://localhost:8080/"
        },
        "id": "6bLbe2flOQ_8",
        "outputId": "7f1c83a6-ac4a-4531-82fe-dd449ca9e445"
      },
      "source": [
        "#describe null data\n",
        "df.isnull().sum()"
      ],
      "execution_count": null,
      "outputs": [
        {
          "output_type": "execute_result",
          "data": {
            "text/plain": [
              "Loan_ID               0\n",
              "Gender               13\n",
              "Married               3\n",
              "Dependents           15\n",
              "Education             0\n",
              "Self_Employed        32\n",
              "ApplicantIncome       0\n",
              "CoapplicantIncome     2\n",
              "LoanAmount           22\n",
              "Loan_Amount_Term     14\n",
              "Credit_History       50\n",
              "Property_Area         0\n",
              "Loan_Status           0\n",
              "dtype: int64"
            ]
          },
          "metadata": {
            "tags": []
          },
          "execution_count": 105
        }
      ]
    },
    {
      "cell_type": "code",
      "metadata": {
        "id": "wYIrXwC2ORCy"
      },
      "source": [
        "# clean numeric data\n",
        "cols_numeric = ['LoanAmount','CoapplicantIncome','LoanAmount','Loan_Amount_Term']\n",
        "for col in cols_numeric:\n",
        "    df[col].fillna(df[col].mean(), inplace=True)"
      ],
      "execution_count": null,
      "outputs": []
    },
    {
      "cell_type": "code",
      "metadata": {
        "id": "XHIck9kO_W8W"
      },
      "source": [
        "# clean category data\n",
        "cat_cols = ['Credit_History', 'Dependents', 'Gender', 'Married', 'Self_Employed']\n",
        "for col in cat_cols:\n",
        "    df[col] = df[col].fillna(df[col].mode().values[0])"
      ],
      "execution_count": null,
      "outputs": []
    },
    {
      "cell_type": "markdown",
      "metadata": {
        "id": "M4vDuQvgBwW7"
      },
      "source": [
        "![clean data.PNG](data:image/png;base64,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)"
      ]
    },
    {
      "cell_type": "code",
      "metadata": {
        "colab": {
          "base_uri": "https://localhost:8080/"
        },
        "id": "LRU_tsFj_ej0",
        "outputId": "18d4228f-c74f-4663-ef8f-9e27ffb3284d"
      },
      "source": [
        "df.info()"
      ],
      "execution_count": null,
      "outputs": [
        {
          "output_type": "stream",
          "text": [
            "<class 'pandas.core.frame.DataFrame'>\n",
            "RangeIndex: 614 entries, 0 to 613\n",
            "Data columns (total 13 columns):\n",
            " #   Column             Non-Null Count  Dtype  \n",
            "---  ------             --------------  -----  \n",
            " 0   Loan_ID            614 non-null    object \n",
            " 1   Gender             614 non-null    object \n",
            " 2   Married            614 non-null    object \n",
            " 3   Dependents         614 non-null    float64\n",
            " 4   Education          614 non-null    object \n",
            " 5   Self_Employed      614 non-null    object \n",
            " 6   ApplicantIncome    614 non-null    int64  \n",
            " 7   CoapplicantIncome  614 non-null    float64\n",
            " 8   LoanAmount         614 non-null    float64\n",
            " 9   Loan_Amount_Term   614 non-null    float64\n",
            " 10  Credit_History     614 non-null    float64\n",
            " 11  Property_Area      614 non-null    object \n",
            " 12  Loan_Status        614 non-null    object \n",
            "dtypes: float64(5), int64(1), object(7)\n",
            "memory usage: 62.5+ KB\n"
          ],
          "name": "stdout"
        }
      ]
    },
    {
      "cell_type": "code",
      "metadata": {
        "id": "Ej6iJoxP_ZTh"
      },
      "source": [
        "# drop loan id column\n",
        "df.drop(['Loan_ID'], axis = 1, inplace = True)"
      ],
      "execution_count": null,
      "outputs": []
    },
    {
      "cell_type": "code",
      "metadata": {
        "id": "PvD7AVmLV7O8"
      },
      "source": [
        "# clean catagery data\n",
        "# encode string data to numeric\n",
        "from sklearn import preprocessing\n",
        "\n",
        "string_to_int = preprocessing.LabelEncoder()   #encode your data\n",
        "df = df.apply(string_to_int.fit_transform)     #fit and transform it"
      ],
      "execution_count": null,
      "outputs": []
    },
    {
      "cell_type": "code",
      "metadata": {
        "colab": {
          "base_uri": "https://localhost:8080/",
          "height": 224
        },
        "id": "05O4O-AYWnCe",
        "outputId": "4f6e2728-1052-4f8d-cf0c-e7aa6983ee4a"
      },
      "source": [
        "df.head()"
      ],
      "execution_count": null,
      "outputs": [
        {
          "output_type": "execute_result",
          "data": {
            "text/html": [
              "<div>\n",
              "<style scoped>\n",
              "    .dataframe tbody tr th:only-of-type {\n",
              "        vertical-align: middle;\n",
              "    }\n",
              "\n",
              "    .dataframe tbody tr th {\n",
              "        vertical-align: top;\n",
              "    }\n",
              "\n",
              "    .dataframe thead th {\n",
              "        text-align: right;\n",
              "    }\n",
              "</style>\n",
              "<table border=\"1\" class=\"dataframe\">\n",
              "  <thead>\n",
              "    <tr style=\"text-align: right;\">\n",
              "      <th></th>\n",
              "      <th>Gender</th>\n",
              "      <th>Married</th>\n",
              "      <th>Dependents</th>\n",
              "      <th>Education</th>\n",
              "      <th>Self_Employed</th>\n",
              "      <th>ApplicantIncome</th>\n",
              "      <th>CoapplicantIncome</th>\n",
              "      <th>LoanAmount</th>\n",
              "      <th>Loan_Amount_Term</th>\n",
              "      <th>Credit_History</th>\n",
              "      <th>Property_Area</th>\n",
              "      <th>Loan_Status</th>\n",
              "    </tr>\n",
              "  </thead>\n",
              "  <tbody>\n",
              "    <tr>\n",
              "      <th>0</th>\n",
              "      <td>1</td>\n",
              "      <td>0</td>\n",
              "      <td>0</td>\n",
              "      <td>0</td>\n",
              "      <td>0</td>\n",
              "      <td>376</td>\n",
              "      <td>0</td>\n",
              "      <td>100</td>\n",
              "      <td>9</td>\n",
              "      <td>1</td>\n",
              "      <td>2</td>\n",
              "      <td>1</td>\n",
              "    </tr>\n",
              "    <tr>\n",
              "      <th>1</th>\n",
              "      <td>1</td>\n",
              "      <td>1</td>\n",
              "      <td>1</td>\n",
              "      <td>0</td>\n",
              "      <td>0</td>\n",
              "      <td>306</td>\n",
              "      <td>58</td>\n",
              "      <td>81</td>\n",
              "      <td>9</td>\n",
              "      <td>1</td>\n",
              "      <td>0</td>\n",
              "      <td>0</td>\n",
              "    </tr>\n",
              "    <tr>\n",
              "      <th>2</th>\n",
              "      <td>1</td>\n",
              "      <td>1</td>\n",
              "      <td>0</td>\n",
              "      <td>0</td>\n",
              "      <td>1</td>\n",
              "      <td>139</td>\n",
              "      <td>0</td>\n",
              "      <td>26</td>\n",
              "      <td>9</td>\n",
              "      <td>1</td>\n",
              "      <td>2</td>\n",
              "      <td>1</td>\n",
              "    </tr>\n",
              "    <tr>\n",
              "      <th>3</th>\n",
              "      <td>1</td>\n",
              "      <td>1</td>\n",
              "      <td>0</td>\n",
              "      <td>1</td>\n",
              "      <td>0</td>\n",
              "      <td>90</td>\n",
              "      <td>159</td>\n",
              "      <td>73</td>\n",
              "      <td>9</td>\n",
              "      <td>1</td>\n",
              "      <td>2</td>\n",
              "      <td>1</td>\n",
              "    </tr>\n",
              "    <tr>\n",
              "      <th>4</th>\n",
              "      <td>1</td>\n",
              "      <td>0</td>\n",
              "      <td>0</td>\n",
              "      <td>0</td>\n",
              "      <td>0</td>\n",
              "      <td>381</td>\n",
              "      <td>0</td>\n",
              "      <td>94</td>\n",
              "      <td>9</td>\n",
              "      <td>1</td>\n",
              "      <td>2</td>\n",
              "      <td>1</td>\n",
              "    </tr>\n",
              "  </tbody>\n",
              "</table>\n",
              "</div>"
            ],
            "text/plain": [
              "   Gender  Married  Dependents  ...  Credit_History  Property_Area  Loan_Status\n",
              "0       1        0           0  ...               1              2            1\n",
              "1       1        1           1  ...               1              0            0\n",
              "2       1        1           0  ...               1              2            1\n",
              "3       1        1           0  ...               1              2            1\n",
              "4       1        0           0  ...               1              2            1\n",
              "\n",
              "[5 rows x 12 columns]"
            ]
          },
          "metadata": {
            "tags": []
          },
          "execution_count": 111
        }
      ]
    },
    {
      "cell_type": "markdown",
      "metadata": {
        "id": "t6Uq3ae-xOrP"
      },
      "source": [
        "### Explore continuous features"
      ]
    },
    {
      "cell_type": "code",
      "metadata": {
        "id": "XDyCGj5DxOrP",
        "colab": {
          "base_uri": "https://localhost:8080/",
          "height": 317
        },
        "outputId": "199950c8-f5d8-4004-ccd4-a5b407a2eaa7"
      },
      "source": [
        "df.describe()"
      ],
      "execution_count": null,
      "outputs": [
        {
          "output_type": "execute_result",
          "data": {
            "text/html": [
              "<div>\n",
              "<style scoped>\n",
              "    .dataframe tbody tr th:only-of-type {\n",
              "        vertical-align: middle;\n",
              "    }\n",
              "\n",
              "    .dataframe tbody tr th {\n",
              "        vertical-align: top;\n",
              "    }\n",
              "\n",
              "    .dataframe thead th {\n",
              "        text-align: right;\n",
              "    }\n",
              "</style>\n",
              "<table border=\"1\" class=\"dataframe\">\n",
              "  <thead>\n",
              "    <tr style=\"text-align: right;\">\n",
              "      <th></th>\n",
              "      <th>Gender</th>\n",
              "      <th>Married</th>\n",
              "      <th>Dependents</th>\n",
              "      <th>Education</th>\n",
              "      <th>Self_Employed</th>\n",
              "      <th>ApplicantIncome</th>\n",
              "      <th>CoapplicantIncome</th>\n",
              "      <th>LoanAmount</th>\n",
              "      <th>Loan_Amount_Term</th>\n",
              "      <th>Credit_History</th>\n",
              "      <th>Property_Area</th>\n",
              "      <th>Loan_Status</th>\n",
              "    </tr>\n",
              "  </thead>\n",
              "  <tbody>\n",
              "    <tr>\n",
              "      <th>count</th>\n",
              "      <td>614.000000</td>\n",
              "      <td>614.000000</td>\n",
              "      <td>614.000000</td>\n",
              "      <td>614.000000</td>\n",
              "      <td>614.000000</td>\n",
              "      <td>614.000000</td>\n",
              "      <td>614.000000</td>\n",
              "      <td>614.000000</td>\n",
              "      <td>614.000000</td>\n",
              "      <td>614.000000</td>\n",
              "      <td>614.000000</td>\n",
              "      <td>614.000000</td>\n",
              "    </tr>\n",
              "    <tr>\n",
              "      <th>mean</th>\n",
              "      <td>0.817590</td>\n",
              "      <td>0.653094</td>\n",
              "      <td>0.744300</td>\n",
              "      <td>0.218241</td>\n",
              "      <td>0.133550</td>\n",
              "      <td>247.117264</td>\n",
              "      <td>78.431596</td>\n",
              "      <td>87.719870</td>\n",
              "      <td>8.526059</td>\n",
              "      <td>0.855049</td>\n",
              "      <td>1.037459</td>\n",
              "      <td>0.687296</td>\n",
              "    </tr>\n",
              "    <tr>\n",
              "      <th>std</th>\n",
              "      <td>0.386497</td>\n",
              "      <td>0.476373</td>\n",
              "      <td>1.009623</td>\n",
              "      <td>0.413389</td>\n",
              "      <td>0.340446</td>\n",
              "      <td>143.537853</td>\n",
              "      <td>92.194972</td>\n",
              "      <td>45.670174</td>\n",
              "      <td>1.404423</td>\n",
              "      <td>0.352339</td>\n",
              "      <td>0.787482</td>\n",
              "      <td>0.463973</td>\n",
              "    </tr>\n",
              "    <tr>\n",
              "      <th>min</th>\n",
              "      <td>0.000000</td>\n",
              "      <td>0.000000</td>\n",
              "      <td>0.000000</td>\n",
              "      <td>0.000000</td>\n",
              "      <td>0.000000</td>\n",
              "      <td>0.000000</td>\n",
              "      <td>0.000000</td>\n",
              "      <td>0.000000</td>\n",
              "      <td>0.000000</td>\n",
              "      <td>0.000000</td>\n",
              "      <td>0.000000</td>\n",
              "      <td>0.000000</td>\n",
              "    </tr>\n",
              "    <tr>\n",
              "      <th>25%</th>\n",
              "      <td>1.000000</td>\n",
              "      <td>0.000000</td>\n",
              "      <td>0.000000</td>\n",
              "      <td>0.000000</td>\n",
              "      <td>0.000000</td>\n",
              "      <td>120.250000</td>\n",
              "      <td>0.000000</td>\n",
              "      <td>53.250000</td>\n",
              "      <td>9.000000</td>\n",
              "      <td>1.000000</td>\n",
              "      <td>0.000000</td>\n",
              "      <td>0.000000</td>\n",
              "    </tr>\n",
              "    <tr>\n",
              "      <th>50%</th>\n",
              "      <td>1.000000</td>\n",
              "      <td>1.000000</td>\n",
              "      <td>0.000000</td>\n",
              "      <td>0.000000</td>\n",
              "      <td>0.000000</td>\n",
              "      <td>244.500000</td>\n",
              "      <td>33.500000</td>\n",
              "      <td>82.000000</td>\n",
              "      <td>9.000000</td>\n",
              "      <td>1.000000</td>\n",
              "      <td>1.000000</td>\n",
              "      <td>1.000000</td>\n",
              "    </tr>\n",
              "    <tr>\n",
              "      <th>75%</th>\n",
              "      <td>1.000000</td>\n",
              "      <td>1.000000</td>\n",
              "      <td>1.000000</td>\n",
              "      <td>0.000000</td>\n",
              "      <td>0.000000</td>\n",
              "      <td>369.750000</td>\n",
              "      <td>152.750000</td>\n",
              "      <td>116.750000</td>\n",
              "      <td>9.000000</td>\n",
              "      <td>1.000000</td>\n",
              "      <td>2.000000</td>\n",
              "      <td>1.000000</td>\n",
              "    </tr>\n",
              "    <tr>\n",
              "      <th>max</th>\n",
              "      <td>1.000000</td>\n",
              "      <td>1.000000</td>\n",
              "      <td>3.000000</td>\n",
              "      <td>1.000000</td>\n",
              "      <td>1.000000</td>\n",
              "      <td>504.000000</td>\n",
              "      <td>285.000000</td>\n",
              "      <td>203.000000</td>\n",
              "      <td>10.000000</td>\n",
              "      <td>1.000000</td>\n",
              "      <td>2.000000</td>\n",
              "      <td>1.000000</td>\n",
              "    </tr>\n",
              "  </tbody>\n",
              "</table>\n",
              "</div>"
            ],
            "text/plain": [
              "           Gender     Married  ...  Property_Area  Loan_Status\n",
              "count  614.000000  614.000000  ...     614.000000   614.000000\n",
              "mean     0.817590    0.653094  ...       1.037459     0.687296\n",
              "std      0.386497    0.476373  ...       0.787482     0.463973\n",
              "min      0.000000    0.000000  ...       0.000000     0.000000\n",
              "25%      1.000000    0.000000  ...       0.000000     0.000000\n",
              "50%      1.000000    1.000000  ...       1.000000     1.000000\n",
              "75%      1.000000    1.000000  ...       2.000000     1.000000\n",
              "max      1.000000    1.000000  ...       2.000000     1.000000\n",
              "\n",
              "[8 rows x 12 columns]"
            ]
          },
          "metadata": {
            "tags": []
          },
          "execution_count": 112
        }
      ]
    },
    {
      "cell_type": "code",
      "metadata": {
        "id": "wfLwiD1vxOrQ",
        "colab": {
          "base_uri": "https://localhost:8080/",
          "height": 162
        },
        "outputId": "c157a64f-4cc9-4837-ae61-777ec7d95a82"
      },
      "source": [
        "df.groupby('Loan_Status').mean()"
      ],
      "execution_count": null,
      "outputs": [
        {
          "output_type": "execute_result",
          "data": {
            "text/html": [
              "<div>\n",
              "<style scoped>\n",
              "    .dataframe tbody tr th:only-of-type {\n",
              "        vertical-align: middle;\n",
              "    }\n",
              "\n",
              "    .dataframe tbody tr th {\n",
              "        vertical-align: top;\n",
              "    }\n",
              "\n",
              "    .dataframe thead th {\n",
              "        text-align: right;\n",
              "    }\n",
              "</style>\n",
              "<table border=\"1\" class=\"dataframe\">\n",
              "  <thead>\n",
              "    <tr style=\"text-align: right;\">\n",
              "      <th></th>\n",
              "      <th>Gender</th>\n",
              "      <th>Married</th>\n",
              "      <th>Dependents</th>\n",
              "      <th>Education</th>\n",
              "      <th>Self_Employed</th>\n",
              "      <th>ApplicantIncome</th>\n",
              "      <th>CoapplicantIncome</th>\n",
              "      <th>LoanAmount</th>\n",
              "      <th>Loan_Amount_Term</th>\n",
              "      <th>Credit_History</th>\n",
              "      <th>Property_Area</th>\n",
              "    </tr>\n",
              "    <tr>\n",
              "      <th>Loan_Status</th>\n",
              "      <th></th>\n",
              "      <th></th>\n",
              "      <th></th>\n",
              "      <th></th>\n",
              "      <th></th>\n",
              "      <th></th>\n",
              "      <th></th>\n",
              "      <th></th>\n",
              "      <th></th>\n",
              "      <th></th>\n",
              "      <th></th>\n",
              "    </tr>\n",
              "  </thead>\n",
              "  <tbody>\n",
              "    <tr>\n",
              "      <th>0</th>\n",
              "      <td>0.807292</td>\n",
              "      <td>0.588542</td>\n",
              "      <td>0.729167</td>\n",
              "      <td>0.270833</td>\n",
              "      <td>0.135417</td>\n",
              "      <td>247.781250</td>\n",
              "      <td>77.234375</td>\n",
              "      <td>91.083333</td>\n",
              "      <td>8.520833</td>\n",
              "      <td>0.572917</td>\n",
              "      <td>1.000000</td>\n",
              "    </tr>\n",
              "    <tr>\n",
              "      <th>1</th>\n",
              "      <td>0.822275</td>\n",
              "      <td>0.682464</td>\n",
              "      <td>0.751185</td>\n",
              "      <td>0.194313</td>\n",
              "      <td>0.132701</td>\n",
              "      <td>246.815166</td>\n",
              "      <td>78.976303</td>\n",
              "      <td>86.189573</td>\n",
              "      <td>8.528436</td>\n",
              "      <td>0.983412</td>\n",
              "      <td>1.054502</td>\n",
              "    </tr>\n",
              "  </tbody>\n",
              "</table>\n",
              "</div>"
            ],
            "text/plain": [
              "               Gender   Married  ...  Credit_History  Property_Area\n",
              "Loan_Status                      ...                               \n",
              "0            0.807292  0.588542  ...        0.572917       1.000000\n",
              "1            0.822275  0.682464  ...        0.983412       1.054502\n",
              "\n",
              "[2 rows x 11 columns]"
            ]
          },
          "metadata": {
            "tags": []
          },
          "execution_count": 113
        }
      ]
    },
    {
      "cell_type": "markdown",
      "metadata": {
        "id": "mLnz3ligxOrQ"
      },
      "source": [
        "### Plot continuous features"
      ]
    },
    {
      "cell_type": "code",
      "metadata": {
        "id": "eEe3XKEhxOrQ",
        "outputId": "596de8ce-529b-463b-d33f-710f00a6414d"
      },
      "source": [
        "for i in ['Age', 'Fare']:\n",
        "    died = list(titanic[titanic['Survived'] == 0][i].dropna())\n",
        "    survived = list(titanic[titanic['Survived'] == 1][i].dropna())\n",
        "    xmin = min(min(died), min(survived))\n",
        "    xmax = max(max(died), max(survived))\n",
        "    width = (xmax - xmin) / 40\n",
        "    sns.distplot(died, color='r', kde=False, bins=np.arange(xmin, xmax, width))\n",
        "    sns.distplot(survived, color='g', kde=False, bins=np.arange(xmin, xmax, width))\n",
        "    plt.legend(['Did not survive', 'Survived'])\n",
        "    plt.title('Overlaid histogram for {}'.format(i))\n",
        "    plt.show()"
      ],
      "execution_count": null,
      "outputs": [
        {
          "output_type": "stream",
          "text": [
            "C:\\Users\\NAHHAL\\anaconda3\\lib\\site-packages\\seaborn\\distributions.py:2551: FutureWarning: `distplot` is a deprecated function and will be removed in a future version. Please adapt your code to use either `displot` (a figure-level function with similar flexibility) or `histplot` (an axes-level function for histograms).\n",
            "  warnings.warn(msg, FutureWarning)\n"
          ],
          "name": "stderr"
        },
        {
          "output_type": "display_data",
          "data": {
            "image/png": "[encoded data removed]",
            "text/plain": [
              "<Figure size 432x288 with 1 Axes>"
            ]
          },
          "metadata": {
            "tags": [],
            "needs_background": "light"
          }
        },
        {
          "output_type": "stream",
          "text": [
            "C:\\Users\\NAHHAL\\anaconda3\\lib\\site-packages\\seaborn\\distributions.py:2551: FutureWarning: `distplot` is a deprecated function and will be removed in a future version. Please adapt your code to use either `displot` (a figure-level function with similar flexibility) or `histplot` (an axes-level function for histograms).\n",
            "  warnings.warn(msg, FutureWarning)\n"
          ],
          "name": "stderr"
        },
        {
          "output_type": "display_data",
          "data": {
            "image/png": "[encoded data removed]",
            "text/plain": [
              "<Figure size 432x288 with 1 Axes>"
            ]
          },
          "metadata": {
            "tags": [],
            "needs_background": "light"
          }
        }
      ]
    },
    {
      "cell_type": "markdown",
      "metadata": {
        "id": "jSCo1BCfxOrR"
      },
      "source": [
        "# Cleaning continuous features"
      ]
    },
    {
      "cell_type": "markdown",
      "metadata": {
        "id": "YBm2j0DXxOrR"
      },
      "source": [
        "### This section focuses on cleaning up the Pclass, Age, SibSp, Parch, and Fare features."
      ]
    },
    {
      "cell_type": "markdown",
      "metadata": {
        "id": "Yl-2Mvj7xOrS"
      },
      "source": [
        "### Fill missing for Age"
      ]
    },
    {
      "cell_type": "code",
      "metadata": {
        "id": "TIHb4TOQxOrS",
        "outputId": "e67bf77c-2990-4ddd-bf9e-78537c0d1061"
      },
      "source": [
        "titanic = pd.read_csv('datasets/titanic.csv')\n",
        "titanic.groupby(titanic['Age'].isnull()).mean()"
      ],
      "execution_count": null,
      "outputs": [
        {
          "output_type": "execute_result",
          "data": {
            "text/html": [
              "<div>\n",
              "<style scoped>\n",
              "    .dataframe tbody tr th:only-of-type {\n",
              "        vertical-align: middle;\n",
              "    }\n",
              "\n",
              "    .dataframe tbody tr th {\n",
              "        vertical-align: top;\n",
              "    }\n",
              "\n",
              "    .dataframe thead th {\n",
              "        text-align: right;\n",
              "    }\n",
              "</style>\n",
              "<table border=\"1\" class=\"dataframe\">\n",
              "  <thead>\n",
              "    <tr style=\"text-align: right;\">\n",
              "      <th></th>\n",
              "      <th>PassengerId</th>\n",
              "      <th>Survived</th>\n",
              "      <th>Pclass</th>\n",
              "      <th>Age</th>\n",
              "      <th>SibSp</th>\n",
              "      <th>Parch</th>\n",
              "      <th>Fare</th>\n",
              "    </tr>\n",
              "    <tr>\n",
              "      <th>Age</th>\n",
              "      <th></th>\n",
              "      <th></th>\n",
              "      <th></th>\n",
              "      <th></th>\n",
              "      <th></th>\n",
              "      <th></th>\n",
              "      <th></th>\n",
              "    </tr>\n",
              "  </thead>\n",
              "  <tbody>\n",
              "    <tr>\n",
              "      <th>False</th>\n",
              "      <td>448.582633</td>\n",
              "      <td>0.406162</td>\n",
              "      <td>2.236695</td>\n",
              "      <td>29.699118</td>\n",
              "      <td>0.512605</td>\n",
              "      <td>0.431373</td>\n",
              "      <td>34.694514</td>\n",
              "    </tr>\n",
              "    <tr>\n",
              "      <th>True</th>\n",
              "      <td>435.581921</td>\n",
              "      <td>0.293785</td>\n",
              "      <td>2.598870</td>\n",
              "      <td>NaN</td>\n",
              "      <td>0.564972</td>\n",
              "      <td>0.180791</td>\n",
              "      <td>22.158567</td>\n",
              "    </tr>\n",
              "  </tbody>\n",
              "</table>\n",
              "</div>"
            ],
            "text/plain": [
              "       PassengerId  Survived    Pclass        Age     SibSp     Parch  \\\n",
              "Age                                                                     \n",
              "False   448.582633  0.406162  2.236695  29.699118  0.512605  0.431373   \n",
              "True    435.581921  0.293785  2.598870        NaN  0.564972  0.180791   \n",
              "\n",
              "            Fare  \n",
              "Age               \n",
              "False  34.694514  \n",
              "True   22.158567  "
            ]
          },
          "metadata": {
            "tags": []
          },
          "execution_count": 27
        }
      ]
    },
    {
      "cell_type": "code",
      "metadata": {
        "id": "AWYm5kYBxOrT",
        "outputId": "2fe29d57-07ff-4b0a-aa00-d6dfee279dcb"
      },
      "source": [
        "titanic.isnull().sum()"
      ],
      "execution_count": null,
      "outputs": [
        {
          "output_type": "execute_result",
          "data": {
            "text/plain": [
              "PassengerId      0\n",
              "Survived         0\n",
              "Pclass           0\n",
              "Name             0\n",
              "Sex              0\n",
              "Age            177\n",
              "SibSp            0\n",
              "Parch            0\n",
              "Ticket           0\n",
              "Fare             0\n",
              "Cabin          687\n",
              "Embarked         2\n",
              "dtype: int64"
            ]
          },
          "metadata": {
            "tags": []
          },
          "execution_count": 28
        }
      ]
    },
    {
      "cell_type": "code",
      "metadata": {
        "id": "JZiVIwU4xOrT"
      },
      "source": [
        "titanic['Age'].fillna(titanic['Age'].mean(), inplace=True)"
      ],
      "execution_count": null,
      "outputs": []
    },
    {
      "cell_type": "code",
      "metadata": {
        "id": "fq3Z1UxYxOrT",
        "outputId": "052cc1b7-1003-49a0-e0db-047c663c1174"
      },
      "source": [
        "titanic.isnull().sum()"
      ],
      "execution_count": null,
      "outputs": [
        {
          "output_type": "execute_result",
          "data": {
            "text/plain": [
              "PassengerId      0\n",
              "Survived         0\n",
              "Pclass           0\n",
              "Name             0\n",
              "Sex              0\n",
              "Age              0\n",
              "SibSp            0\n",
              "Parch            0\n",
              "Ticket           0\n",
              "Fare             0\n",
              "Cabin          687\n",
              "Embarked         2\n",
              "dtype: int64"
            ]
          },
          "metadata": {
            "tags": []
          },
          "execution_count": 30
        }
      ]
    },
    {
      "cell_type": "markdown",
      "metadata": {
        "id": "OO0DzZUHxOrU"
      },
      "source": [
        "### Exploring categorical features"
      ]
    },
    {
      "cell_type": "code",
      "metadata": {
        "id": "WFro3hPAxOrU",
        "outputId": "949bcc72-3a29-4773-b7f8-226352e2c5c4"
      },
      "source": [
        "# Drop all continuous features\n",
        "cont_feat = ['PassengerId', 'Pclass', 'Name', 'Age', 'SibSp', 'Parch', 'Fare']\n",
        "titanic.drop(cont_feat, axis=1, inplace=True)\n",
        "titanic.head()"
      ],
      "execution_count": null,
      "outputs": [
        {
          "output_type": "execute_result",
          "data": {
            "text/html": [
              "<div>\n",
              "<style scoped>\n",
              "    .dataframe tbody tr th:only-of-type {\n",
              "        vertical-align: middle;\n",
              "    }\n",
              "\n",
              "    .dataframe tbody tr th {\n",
              "        vertical-align: top;\n",
              "    }\n",
              "\n",
              "    .dataframe thead th {\n",
              "        text-align: right;\n",
              "    }\n",
              "</style>\n",
              "<table border=\"1\" class=\"dataframe\">\n",
              "  <thead>\n",
              "    <tr style=\"text-align: right;\">\n",
              "      <th></th>\n",
              "      <th>Survived</th>\n",
              "      <th>Sex</th>\n",
              "      <th>Ticket</th>\n",
              "      <th>Cabin</th>\n",
              "      <th>Embarked</th>\n",
              "    </tr>\n",
              "  </thead>\n",
              "  <tbody>\n",
              "    <tr>\n",
              "      <th>0</th>\n",
              "      <td>0</td>\n",
              "      <td>male</td>\n",
              "      <td>A/5 21171</td>\n",
              "      <td>NaN</td>\n",
              "      <td>S</td>\n",
              "    </tr>\n",
              "    <tr>\n",
              "      <th>1</th>\n",
              "      <td>1</td>\n",
              "      <td>female</td>\n",
              "      <td>PC 17599</td>\n",
              "      <td>C85</td>\n",
              "      <td>C</td>\n",
              "    </tr>\n",
              "    <tr>\n",
              "      <th>2</th>\n",
              "      <td>1</td>\n",
              "      <td>female</td>\n",
              "      <td>STON/O2. 3101282</td>\n",
              "      <td>NaN</td>\n",
              "      <td>S</td>\n",
              "    </tr>\n",
              "    <tr>\n",
              "      <th>3</th>\n",
              "      <td>1</td>\n",
              "      <td>female</td>\n",
              "      <td>113803</td>\n",
              "      <td>C123</td>\n",
              "      <td>S</td>\n",
              "    </tr>\n",
              "    <tr>\n",
              "      <th>4</th>\n",
              "      <td>0</td>\n",
              "      <td>male</td>\n",
              "      <td>373450</td>\n",
              "      <td>NaN</td>\n",
              "      <td>S</td>\n",
              "    </tr>\n",
              "  </tbody>\n",
              "</table>\n",
              "</div>"
            ],
            "text/plain": [
              "   Survived     Sex            Ticket Cabin Embarked\n",
              "0         0    male         A/5 21171   NaN        S\n",
              "1         1  female          PC 17599   C85        C\n",
              "2         1  female  STON/O2. 3101282   NaN        S\n",
              "3         1  female            113803  C123        S\n",
              "4         0    male            373450   NaN        S"
            ]
          },
          "metadata": {
            "tags": []
          },
          "execution_count": 31
        }
      ]
    },
    {
      "cell_type": "code",
      "metadata": {
        "id": "fxpr87cyxOrV",
        "outputId": "110ed5c4-70c7-4fc8-9413-deb6215d161d"
      },
      "source": [
        "titanic.info()"
      ],
      "execution_count": null,
      "outputs": [
        {
          "output_type": "stream",
          "text": [
            "<class 'pandas.core.frame.DataFrame'>\n",
            "RangeIndex: 891 entries, 0 to 890\n",
            "Data columns (total 5 columns):\n",
            " #   Column    Non-Null Count  Dtype \n",
            "---  ------    --------------  ----- \n",
            " 0   Survived  891 non-null    int64 \n",
            " 1   Sex       891 non-null    object\n",
            " 2   Ticket    891 non-null    object\n",
            " 3   Cabin     204 non-null    object\n",
            " 4   Embarked  889 non-null    object\n",
            "dtypes: int64(1), object(4)\n",
            "memory usage: 34.9+ KB\n"
          ],
          "name": "stdout"
        }
      ]
    },
    {
      "cell_type": "code",
      "metadata": {
        "id": "BT8mJ6wIxOrV",
        "outputId": "560c96fc-2720-422d-90d2-e4f50cd29371"
      },
      "source": [
        "titanic.groupby(titanic['Cabin'].isnull()).mean()"
      ],
      "execution_count": null,
      "outputs": [
        {
          "output_type": "execute_result",
          "data": {
            "text/html": [
              "<div>\n",
              "<style scoped>\n",
              "    .dataframe tbody tr th:only-of-type {\n",
              "        vertical-align: middle;\n",
              "    }\n",
              "\n",
              "    .dataframe tbody tr th {\n",
              "        vertical-align: top;\n",
              "    }\n",
              "\n",
              "    .dataframe thead th {\n",
              "        text-align: right;\n",
              "    }\n",
              "</style>\n",
              "<table border=\"1\" class=\"dataframe\">\n",
              "  <thead>\n",
              "    <tr style=\"text-align: right;\">\n",
              "      <th></th>\n",
              "      <th>Survived</th>\n",
              "    </tr>\n",
              "    <tr>\n",
              "      <th>Cabin</th>\n",
              "      <th></th>\n",
              "    </tr>\n",
              "  </thead>\n",
              "  <tbody>\n",
              "    <tr>\n",
              "      <th>False</th>\n",
              "      <td>0.666667</td>\n",
              "    </tr>\n",
              "    <tr>\n",
              "      <th>True</th>\n",
              "      <td>0.299854</td>\n",
              "    </tr>\n",
              "  </tbody>\n",
              "</table>\n",
              "</div>"
            ],
            "text/plain": [
              "       Survived\n",
              "Cabin          \n",
              "False  0.666667\n",
              "True   0.299854"
            ]
          },
          "metadata": {
            "tags": []
          },
          "execution_count": 33
        }
      ]
    },
    {
      "cell_type": "markdown",
      "metadata": {
        "id": "AC0JNgW1xOrV"
      },
      "source": [
        "## Cleaning the categorical features"
      ]
    },
    {
      "cell_type": "markdown",
      "metadata": {
        "id": "s3TWwTw7xOrW"
      },
      "source": [
        "### This section focuses on cleaning up the Sex, Cabin, and Embarked features."
      ]
    },
    {
      "cell_type": "code",
      "metadata": {
        "id": "T_S7kYyhxOrW",
        "outputId": "ce9c90b9-b793-406b-b95d-d4a853cc7370"
      },
      "source": [
        "import numpy as np\n",
        "import pandas as pd\n",
        "\n",
        "titanic = pd.read_csv('datasets/titanic.csv')\n",
        "titanic.drop(['Name', 'Ticket'], axis=1, inplace=True)\n",
        "titanic.head()"
      ],
      "execution_count": null,
      "outputs": [
        {
          "output_type": "execute_result",
          "data": {
            "text/html": [
              "<div>\n",
              "<style scoped>\n",
              "    .dataframe tbody tr th:only-of-type {\n",
              "        vertical-align: middle;\n",
              "    }\n",
              "\n",
              "    .dataframe tbody tr th {\n",
              "        vertical-align: top;\n",
              "    }\n",
              "\n",
              "    .dataframe thead th {\n",
              "        text-align: right;\n",
              "    }\n",
              "</style>\n",
              "<table border=\"1\" class=\"dataframe\">\n",
              "  <thead>\n",
              "    <tr style=\"text-align: right;\">\n",
              "      <th></th>\n",
              "      <th>PassengerId</th>\n",
              "      <th>Survived</th>\n",
              "      <th>Pclass</th>\n",
              "      <th>Sex</th>\n",
              "      <th>Age</th>\n",
              "      <th>SibSp</th>\n",
              "      <th>Parch</th>\n",
              "      <th>Fare</th>\n",
              "      <th>Cabin</th>\n",
              "      <th>Embarked</th>\n",
              "    </tr>\n",
              "  </thead>\n",
              "  <tbody>\n",
              "    <tr>\n",
              "      <th>0</th>\n",
              "      <td>1</td>\n",
              "      <td>0</td>\n",
              "      <td>3</td>\n",
              "      <td>male</td>\n",
              "      <td>22.0</td>\n",
              "      <td>1</td>\n",
              "      <td>0</td>\n",
              "      <td>7.2500</td>\n",
              "      <td>NaN</td>\n",
              "      <td>S</td>\n",
              "    </tr>\n",
              "    <tr>\n",
              "      <th>1</th>\n",
              "      <td>2</td>\n",
              "      <td>1</td>\n",
              "      <td>1</td>\n",
              "      <td>female</td>\n",
              "      <td>38.0</td>\n",
              "      <td>1</td>\n",
              "      <td>0</td>\n",
              "      <td>71.2833</td>\n",
              "      <td>C85</td>\n",
              "      <td>C</td>\n",
              "    </tr>\n",
              "    <tr>\n",
              "      <th>2</th>\n",
              "      <td>3</td>\n",
              "      <td>1</td>\n",
              "      <td>3</td>\n",
              "      <td>female</td>\n",
              "      <td>26.0</td>\n",
              "      <td>0</td>\n",
              "      <td>0</td>\n",
              "      <td>7.9250</td>\n",
              "      <td>NaN</td>\n",
              "      <td>S</td>\n",
              "    </tr>\n",
              "    <tr>\n",
              "      <th>3</th>\n",
              "      <td>4</td>\n",
              "      <td>1</td>\n",
              "      <td>1</td>\n",
              "      <td>female</td>\n",
              "      <td>35.0</td>\n",
              "      <td>1</td>\n",
              "      <td>0</td>\n",
              "      <td>53.1000</td>\n",
              "      <td>C123</td>\n",
              "      <td>S</td>\n",
              "    </tr>\n",
              "    <tr>\n",
              "      <th>4</th>\n",
              "      <td>5</td>\n",
              "      <td>0</td>\n",
              "      <td>3</td>\n",
              "      <td>male</td>\n",
              "      <td>35.0</td>\n",
              "      <td>0</td>\n",
              "      <td>0</td>\n",
              "      <td>8.0500</td>\n",
              "      <td>NaN</td>\n",
              "      <td>S</td>\n",
              "    </tr>\n",
              "  </tbody>\n",
              "</table>\n",
              "</div>"
            ],
            "text/plain": [
              "   PassengerId  Survived  Pclass     Sex   Age  SibSp  Parch     Fare Cabin  \\\n",
              "0            1         0       3    male  22.0      1      0   7.2500   NaN   \n",
              "1            2         1       1  female  38.0      1      0  71.2833   C85   \n",
              "2            3         1       3  female  26.0      0      0   7.9250   NaN   \n",
              "3            4         1       1  female  35.0      1      0  53.1000  C123   \n",
              "4            5         0       3    male  35.0      0      0   8.0500   NaN   \n",
              "\n",
              "  Embarked  \n",
              "0        S  \n",
              "1        C  \n",
              "2        S  \n",
              "3        S  \n",
              "4        S  "
            ]
          },
          "metadata": {
            "tags": []
          },
          "execution_count": 34
        }
      ]
    },
    {
      "cell_type": "markdown",
      "metadata": {
        "id": "HH7fsLr1xOrW"
      },
      "source": [
        "### Create indicator for `Cabin`"
      ]
    },
    {
      "cell_type": "code",
      "metadata": {
        "id": "qhRxjiX_xOrX",
        "outputId": "c07df48e-5479-43ac-cb8e-2d7b8e4fbbf4"
      },
      "source": [
        "titanic['Cabin_ind'] = np.where(titanic['Cabin'].isnull(), 0, 1)\n",
        "titanic.head()"
      ],
      "execution_count": null,
      "outputs": [
        {
          "output_type": "execute_result",
          "data": {
            "text/html": [
              "<div>\n",
              "<style scoped>\n",
              "    .dataframe tbody tr th:only-of-type {\n",
              "        vertical-align: middle;\n",
              "    }\n",
              "\n",
              "    .dataframe tbody tr th {\n",
              "        vertical-align: top;\n",
              "    }\n",
              "\n",
              "    .dataframe thead th {\n",
              "        text-align: right;\n",
              "    }\n",
              "</style>\n",
              "<table border=\"1\" class=\"dataframe\">\n",
              "  <thead>\n",
              "    <tr style=\"text-align: right;\">\n",
              "      <th></th>\n",
              "      <th>PassengerId</th>\n",
              "      <th>Survived</th>\n",
              "      <th>Pclass</th>\n",
              "      <th>Sex</th>\n",
              "      <th>Age</th>\n",
              "      <th>SibSp</th>\n",
              "      <th>Parch</th>\n",
              "      <th>Fare</th>\n",
              "      <th>Cabin</th>\n",
              "      <th>Embarked</th>\n",
              "      <th>Cabin_ind</th>\n",
              "    </tr>\n",
              "  </thead>\n",
              "  <tbody>\n",
              "    <tr>\n",
              "      <th>0</th>\n",
              "      <td>1</td>\n",
              "      <td>0</td>\n",
              "      <td>3</td>\n",
              "      <td>male</td>\n",
              "      <td>22.0</td>\n",
              "      <td>1</td>\n",
              "      <td>0</td>\n",
              "      <td>7.2500</td>\n",
              "      <td>NaN</td>\n",
              "      <td>S</td>\n",
              "      <td>0</td>\n",
              "    </tr>\n",
              "    <tr>\n",
              "      <th>1</th>\n",
              "      <td>2</td>\n",
              "      <td>1</td>\n",
              "      <td>1</td>\n",
              "      <td>female</td>\n",
              "      <td>38.0</td>\n",
              "      <td>1</td>\n",
              "      <td>0</td>\n",
              "      <td>71.2833</td>\n",
              "      <td>C85</td>\n",
              "      <td>C</td>\n",
              "      <td>1</td>\n",
              "    </tr>\n",
              "    <tr>\n",
              "      <th>2</th>\n",
              "      <td>3</td>\n",
              "      <td>1</td>\n",
              "      <td>3</td>\n",
              "      <td>female</td>\n",
              "      <td>26.0</td>\n",
              "      <td>0</td>\n",
              "      <td>0</td>\n",
              "      <td>7.9250</td>\n",
              "      <td>NaN</td>\n",
              "      <td>S</td>\n",
              "      <td>0</td>\n",
              "    </tr>\n",
              "    <tr>\n",
              "      <th>3</th>\n",
              "      <td>4</td>\n",
              "      <td>1</td>\n",
              "      <td>1</td>\n",
              "      <td>female</td>\n",
              "      <td>35.0</td>\n",
              "      <td>1</td>\n",
              "      <td>0</td>\n",
              "      <td>53.1000</td>\n",
              "      <td>C123</td>\n",
              "      <td>S</td>\n",
              "      <td>1</td>\n",
              "    </tr>\n",
              "    <tr>\n",
              "      <th>4</th>\n",
              "      <td>5</td>\n",
              "      <td>0</td>\n",
              "      <td>3</td>\n",
              "      <td>male</td>\n",
              "      <td>35.0</td>\n",
              "      <td>0</td>\n",
              "      <td>0</td>\n",
              "      <td>8.0500</td>\n",
              "      <td>NaN</td>\n",
              "      <td>S</td>\n",
              "      <td>0</td>\n",
              "    </tr>\n",
              "  </tbody>\n",
              "</table>\n",
              "</div>"
            ],
            "text/plain": [
              "   PassengerId  Survived  Pclass     Sex   Age  SibSp  Parch     Fare Cabin  \\\n",
              "0            1         0       3    male  22.0      1      0   7.2500   NaN   \n",
              "1            2         1       1  female  38.0      1      0  71.2833   C85   \n",
              "2            3         1       3  female  26.0      0      0   7.9250   NaN   \n",
              "3            4         1       1  female  35.0      1      0  53.1000  C123   \n",
              "4            5         0       3    male  35.0      0      0   8.0500   NaN   \n",
              "\n",
              "  Embarked  Cabin_ind  \n",
              "0        S          0  \n",
              "1        C          1  \n",
              "2        S          0  \n",
              "3        S          1  \n",
              "4        S          0  "
            ]
          },
          "metadata": {
            "tags": []
          },
          "execution_count": 35
        }
      ]
    },
    {
      "cell_type": "markdown",
      "metadata": {
        "id": "GgfQ3xlHxOrX"
      },
      "source": [
        "### Convert `Sex` to numeric\n"
      ]
    },
    {
      "cell_type": "code",
      "metadata": {
        "id": "oZ-79Q81xOrX",
        "outputId": "4111e6a8-a441-48b9-bc1c-8a90bb282b5b"
      },
      "source": [
        "gender_num = {'male': 0, 'female': 1}\n",
        "\n",
        "titanic['Sex'] = titanic['Sex'].map(gender_num)\n",
        "titanic.head()"
      ],
      "execution_count": null,
      "outputs": [
        {
          "output_type": "execute_result",
          "data": {
            "text/html": [
              "<div>\n",
              "<style scoped>\n",
              "    .dataframe tbody tr th:only-of-type {\n",
              "        vertical-align: middle;\n",
              "    }\n",
              "\n",
              "    .dataframe tbody tr th {\n",
              "        vertical-align: top;\n",
              "    }\n",
              "\n",
              "    .dataframe thead th {\n",
              "        text-align: right;\n",
              "    }\n",
              "</style>\n",
              "<table border=\"1\" class=\"dataframe\">\n",
              "  <thead>\n",
              "    <tr style=\"text-align: right;\">\n",
              "      <th></th>\n",
              "      <th>PassengerId</th>\n",
              "      <th>Survived</th>\n",
              "      <th>Pclass</th>\n",
              "      <th>Sex</th>\n",
              "      <th>Age</th>\n",
              "      <th>SibSp</th>\n",
              "      <th>Parch</th>\n",
              "      <th>Fare</th>\n",
              "      <th>Cabin</th>\n",
              "      <th>Embarked</th>\n",
              "      <th>Cabin_ind</th>\n",
              "    </tr>\n",
              "  </thead>\n",
              "  <tbody>\n",
              "    <tr>\n",
              "      <th>0</th>\n",
              "      <td>1</td>\n",
              "      <td>0</td>\n",
              "      <td>3</td>\n",
              "      <td>0</td>\n",
              "      <td>22.0</td>\n",
              "      <td>1</td>\n",
              "      <td>0</td>\n",
              "      <td>7.2500</td>\n",
              "      <td>NaN</td>\n",
              "      <td>S</td>\n",
              "      <td>0</td>\n",
              "    </tr>\n",
              "    <tr>\n",
              "      <th>1</th>\n",
              "      <td>2</td>\n",
              "      <td>1</td>\n",
              "      <td>1</td>\n",
              "      <td>1</td>\n",
              "      <td>38.0</td>\n",
              "      <td>1</td>\n",
              "      <td>0</td>\n",
              "      <td>71.2833</td>\n",
              "      <td>C85</td>\n",
              "      <td>C</td>\n",
              "      <td>1</td>\n",
              "    </tr>\n",
              "    <tr>\n",
              "      <th>2</th>\n",
              "      <td>3</td>\n",
              "      <td>1</td>\n",
              "      <td>3</td>\n",
              "      <td>1</td>\n",
              "      <td>26.0</td>\n",
              "      <td>0</td>\n",
              "      <td>0</td>\n",
              "      <td>7.9250</td>\n",
              "      <td>NaN</td>\n",
              "      <td>S</td>\n",
              "      <td>0</td>\n",
              "    </tr>\n",
              "    <tr>\n",
              "      <th>3</th>\n",
              "      <td>4</td>\n",
              "      <td>1</td>\n",
              "      <td>1</td>\n",
              "      <td>1</td>\n",
              "      <td>35.0</td>\n",
              "      <td>1</td>\n",
              "      <td>0</td>\n",
              "      <td>53.1000</td>\n",
              "      <td>C123</td>\n",
              "      <td>S</td>\n",
              "      <td>1</td>\n",
              "    </tr>\n",
              "    <tr>\n",
              "      <th>4</th>\n",
              "      <td>5</td>\n",
              "      <td>0</td>\n",
              "      <td>3</td>\n",
              "      <td>0</td>\n",
              "      <td>35.0</td>\n",
              "      <td>0</td>\n",
              "      <td>0</td>\n",
              "      <td>8.0500</td>\n",
              "      <td>NaN</td>\n",
              "      <td>S</td>\n",
              "      <td>0</td>\n",
              "    </tr>\n",
              "  </tbody>\n",
              "</table>\n",
              "</div>"
            ],
            "text/plain": [
              "   PassengerId  Survived  Pclass  Sex   Age  SibSp  Parch     Fare Cabin  \\\n",
              "0            1         0       3    0  22.0      1      0   7.2500   NaN   \n",
              "1            2         1       1    1  38.0      1      0  71.2833   C85   \n",
              "2            3         1       3    1  26.0      0      0   7.9250   NaN   \n",
              "3            4         1       1    1  35.0      1      0  53.1000  C123   \n",
              "4            5         0       3    0  35.0      0      0   8.0500   NaN   \n",
              "\n",
              "  Embarked  Cabin_ind  \n",
              "0        S          0  \n",
              "1        C          1  \n",
              "2        S          0  \n",
              "3        S          1  \n",
              "4        S          0  "
            ]
          },
          "metadata": {
            "tags": []
          },
          "execution_count": 36
        }
      ]
    },
    {
      "cell_type": "markdown",
      "metadata": {
        "id": "WHcEM_MhxOrX"
      },
      "source": [
        "Drop Cabin "
      ]
    },
    {
      "cell_type": "code",
      "metadata": {
        "id": "YVi1eQTKxOrY",
        "outputId": "f9592744-1059-4c92-dd62-15aa971e31fe"
      },
      "source": [
        "titanic.drop(['Cabin'], axis=1, inplace=True)\n",
        "titanic.head()"
      ],
      "execution_count": null,
      "outputs": [
        {
          "output_type": "execute_result",
          "data": {
            "text/html": [
              "<div>\n",
              "<style scoped>\n",
              "    .dataframe tbody tr th:only-of-type {\n",
              "        vertical-align: middle;\n",
              "    }\n",
              "\n",
              "    .dataframe tbody tr th {\n",
              "        vertical-align: top;\n",
              "    }\n",
              "\n",
              "    .dataframe thead th {\n",
              "        text-align: right;\n",
              "    }\n",
              "</style>\n",
              "<table border=\"1\" class=\"dataframe\">\n",
              "  <thead>\n",
              "    <tr style=\"text-align: right;\">\n",
              "      <th></th>\n",
              "      <th>PassengerId</th>\n",
              "      <th>Survived</th>\n",
              "      <th>Pclass</th>\n",
              "      <th>Sex</th>\n",
              "      <th>Age</th>\n",
              "      <th>SibSp</th>\n",
              "      <th>Parch</th>\n",
              "      <th>Fare</th>\n",
              "      <th>Embarked</th>\n",
              "      <th>Cabin_ind</th>\n",
              "    </tr>\n",
              "  </thead>\n",
              "  <tbody>\n",
              "    <tr>\n",
              "      <th>0</th>\n",
              "      <td>1</td>\n",
              "      <td>0</td>\n",
              "      <td>3</td>\n",
              "      <td>0</td>\n",
              "      <td>22.0</td>\n",
              "      <td>1</td>\n",
              "      <td>0</td>\n",
              "      <td>7.2500</td>\n",
              "      <td>S</td>\n",
              "      <td>0</td>\n",
              "    </tr>\n",
              "    <tr>\n",
              "      <th>1</th>\n",
              "      <td>2</td>\n",
              "      <td>1</td>\n",
              "      <td>1</td>\n",
              "      <td>1</td>\n",
              "      <td>38.0</td>\n",
              "      <td>1</td>\n",
              "      <td>0</td>\n",
              "      <td>71.2833</td>\n",
              "      <td>C</td>\n",
              "      <td>1</td>\n",
              "    </tr>\n",
              "    <tr>\n",
              "      <th>2</th>\n",
              "      <td>3</td>\n",
              "      <td>1</td>\n",
              "      <td>3</td>\n",
              "      <td>1</td>\n",
              "      <td>26.0</td>\n",
              "      <td>0</td>\n",
              "      <td>0</td>\n",
              "      <td>7.9250</td>\n",
              "      <td>S</td>\n",
              "      <td>0</td>\n",
              "    </tr>\n",
              "    <tr>\n",
              "      <th>3</th>\n",
              "      <td>4</td>\n",
              "      <td>1</td>\n",
              "      <td>1</td>\n",
              "      <td>1</td>\n",
              "      <td>35.0</td>\n",
              "      <td>1</td>\n",
              "      <td>0</td>\n",
              "      <td>53.1000</td>\n",
              "      <td>S</td>\n",
              "      <td>1</td>\n",
              "    </tr>\n",
              "    <tr>\n",
              "      <th>4</th>\n",
              "      <td>5</td>\n",
              "      <td>0</td>\n",
              "      <td>3</td>\n",
              "      <td>0</td>\n",
              "      <td>35.0</td>\n",
              "      <td>0</td>\n",
              "      <td>0</td>\n",
              "      <td>8.0500</td>\n",
              "      <td>S</td>\n",
              "      <td>0</td>\n",
              "    </tr>\n",
              "  </tbody>\n",
              "</table>\n",
              "</div>"
            ],
            "text/plain": [
              "   PassengerId  Survived  Pclass  Sex   Age  SibSp  Parch     Fare Embarked  \\\n",
              "0            1         0       3    0  22.0      1      0   7.2500        S   \n",
              "1            2         1       1    1  38.0      1      0  71.2833        C   \n",
              "2            3         1       3    1  26.0      0      0   7.9250        S   \n",
              "3            4         1       1    1  35.0      1      0  53.1000        S   \n",
              "4            5         0       3    0  35.0      0      0   8.0500        S   \n",
              "\n",
              "   Cabin_ind  \n",
              "0          0  \n",
              "1          1  \n",
              "2          0  \n",
              "3          1  \n",
              "4          0  "
            ]
          },
          "metadata": {
            "tags": []
          },
          "execution_count": 37
        }
      ]
    },
    {
      "cell_type": "markdown",
      "metadata": {
        "id": "PBchBGwoxOrY"
      },
      "source": [
        "## construct a KNN and DT model "
      ]
    },
    {
      "cell_type": "markdown",
      "metadata": {
        "id": "s3xMQdAjxOrY"
      },
      "source": [
        "## witch model  perform the best"
      ]
    },
    {
      "cell_type": "code",
      "metadata": {
        "id": "Pbwl_PoWxOrY"
      },
      "source": [
        "import pandas as pd\n",
        "import numpy as np\n",
        "import matplotlib.pyplot as plt\n",
        "from sklearn.tree import DecisionTreeClassifier\n",
        "from sklearn.model_selection import GridSearchCV\n",
        "from sklearn import preprocessing\n",
        "from sklearn import tree\n",
        "from sklearn.neighbors import KNeighborsClassifier\n",
        "from sklearn.model_selection import cross_val_score\n",
        "from sklearn.tree import export_text\n"
      ],
      "execution_count": null,
      "outputs": []
    },
    {
      "cell_type": "code",
      "metadata": {
        "id": "lDbhHUmEDXcc"
      },
      "source": [
        "#copy the loan df\n",
        "data = df.copy()\n",
        "#drop result column\n",
        "data.drop(['Loan_Status'], inplace=True, axis=1)"
      ],
      "execution_count": null,
      "outputs": []
    },
    {
      "cell_type": "code",
      "metadata": {
        "id": "LQWPuOZBDk9f"
      },
      "source": [
        "y = df['Loan_Status']\n",
        "X = data"
      ],
      "execution_count": null,
      "outputs": []
    },
    {
      "cell_type": "code",
      "metadata": {
        "id": "1UksNfU3DfZn"
      },
      "source": [
        "from sklearn.model_selection import train_test_split\n",
        "X_train, X_test, y_train, y_test = train_test_split(X, y, test_size=0.1, random_state=42)"
      ],
      "execution_count": null,
      "outputs": []
    },
    {
      "cell_type": "code",
      "metadata": {
        "colab": {
          "base_uri": "https://localhost:8080/"
        },
        "id": "c_zRsYV8EaCj",
        "outputId": "2d4176af-b161-4338-bf37-f8bf15e27b7d"
      },
      "source": [
        "print(y_train.value_counts(normalize=True))"
      ],
      "execution_count": null,
      "outputs": [
        {
          "output_type": "stream",
          "text": [
            "1    0.690217\n",
            "0    0.309783\n",
            "Name: Loan_Status, dtype: float64\n"
          ],
          "name": "stdout"
        }
      ]
    },
    {
      "cell_type": "code",
      "metadata": {
        "id": "kSIDfAc6FHqe"
      },
      "source": [
        "from sklearn import tree\n",
        "model_tree  = tree.DecisionTreeClassifier(criterion='entropy',max_depth=5)"
      ],
      "execution_count": null,
      "outputs": []
    },
    {
      "cell_type": "code",
      "metadata": {
        "colab": {
          "base_uri": "https://localhost:8080/"
        },
        "id": "XJYEd1euFYGj",
        "outputId": "e830d2c9-c57b-41d0-d0f6-64c933ced82e"
      },
      "source": [
        "#buil classification model\n",
        "model_tree "
      ],
      "execution_count": null,
      "outputs": [
        {
          "output_type": "execute_result",
          "data": {
            "text/plain": [
              "DecisionTreeClassifier(ccp_alpha=0.0, class_weight=None, criterion='entropy',\n",
              "                       max_depth=5, max_features=None, max_leaf_nodes=None,\n",
              "                       min_impurity_decrease=0.0, min_impurity_split=None,\n",
              "                       min_samples_leaf=1, min_samples_split=2,\n",
              "                       min_weight_fraction_leaf=0.0, presort='deprecated',\n",
              "                       random_state=None, splitter='best')"
            ]
          },
          "metadata": {
            "tags": []
          },
          "execution_count": 121
        }
      ]
    },
    {
      "cell_type": "code",
      "metadata": {
        "colab": {
          "base_uri": "https://localhost:8080/"
        },
        "id": "e6EFrns_Fdt5",
        "outputId": "0d96f358-6481-46bd-9000-1e35edace39e"
      },
      "source": [
        "# Entraînement du modèle d'arbre\n",
        "\n",
        "model_tree.fit(X, y)"
      ],
      "execution_count": null,
      "outputs": [
        {
          "output_type": "execute_result",
          "data": {
            "text/plain": [
              "DecisionTreeClassifier(ccp_alpha=0.0, class_weight=None, criterion='entropy',\n",
              "                       max_depth=5, max_features=None, max_leaf_nodes=None,\n",
              "                       min_impurity_decrease=0.0, min_impurity_split=None,\n",
              "                       min_samples_leaf=1, min_samples_split=2,\n",
              "                       min_weight_fraction_leaf=0.0, presort='deprecated',\n",
              "                       random_state=None, splitter='best')"
            ]
          },
          "metadata": {
            "tags": []
          },
          "execution_count": 122
        }
      ]
    },
    {
      "cell_type": "code",
      "metadata": {
        "colab": {
          "base_uri": "https://localhost:8080/"
        },
        "id": "wz4HH8HNFg0r",
        "outputId": "8d5e3b99-2835-4073-ddb0-b7363d6e890f"
      },
      "source": [
        "model_tree"
      ],
      "execution_count": null,
      "outputs": [
        {
          "output_type": "execute_result",
          "data": {
            "text/plain": [
              "DecisionTreeClassifier(ccp_alpha=0.0, class_weight=None, criterion='entropy',\n",
              "                       max_depth=5, max_features=None, max_leaf_nodes=None,\n",
              "                       min_impurity_decrease=0.0, min_impurity_split=None,\n",
              "                       min_samples_leaf=1, min_samples_split=2,\n",
              "                       min_weight_fraction_leaf=0.0, presort='deprecated',\n",
              "                       random_state=None, splitter='best')"
            ]
          },
          "metadata": {
            "tags": []
          },
          "execution_count": 123
        }
      ]
    },
    {
      "cell_type": "code",
      "metadata": {
        "colab": {
          "base_uri": "https://localhost:8080/"
        },
        "id": "dgGcZvA4FjHg",
        "outputId": "20287b0e-3ff5-4d43-8c47-c033b19e951b"
      },
      "source": [
        "X_train.columns"
      ],
      "execution_count": null,
      "outputs": [
        {
          "output_type": "execute_result",
          "data": {
            "text/plain": [
              "Index(['Gender', 'Married', 'Dependents', 'Education', 'Self_Employed',\n",
              "       'ApplicantIncome', 'CoapplicantIncome', 'LoanAmount',\n",
              "       'Loan_Amount_Term', 'Credit_History', 'Property_Area'],\n",
              "      dtype='object')"
            ]
          },
          "metadata": {
            "tags": []
          },
          "execution_count": 124
        }
      ]
    },
    {
      "cell_type": "code",
      "metadata": {
        "colab": {
          "base_uri": "https://localhost:8080/",
          "height": 575
        },
        "id": "2cbdeMY9FlGf",
        "outputId": "08f5710f-918f-41b2-f958-e2d061a41de9"
      },
      "source": [
        "# Visualisation de l'arbre\n",
        "plt.figure(figsize =(10,10))\n",
        "tree.plot_tree(model_tree)\n",
        "plt.show()"
      ],
      "execution_count": null,
      "outputs": [
        {
          "output_type": "display_data",
          "data": {
            "image/png": "[encoded data removed]",
            "text/plain": [
              "<Figure size 720x720 with 1 Axes>"
            ]
          },
          "metadata": {
            "tags": [],
            "needs_background": "light"
          }
        }
      ]
    },
    {
      "cell_type": "code",
      "metadata": {
        "id": "Dj3bBCwCFnWv"
      },
      "source": [
        "with open(\"tree.dot\", 'w') as f:\n",
        "    f = tree.export_graphviz(model_tree, out_file=f, filled=True)"
      ],
      "execution_count": null,
      "outputs": []
    },
    {
      "cell_type": "code",
      "metadata": {
        "colab": {
          "base_uri": "https://localhost:8080/"
        },
        "id": "7V5Kmx9qFs1s",
        "outputId": "914114fd-e69b-4137-e0c8-10b190219580"
      },
      "source": [
        "#critere de division principal\n",
        "from sklearn.tree import export_text\n",
        "r = export_text(model_tree, feature_names=list(X_train.columns))\n",
        "print(r)"
      ],
      "execution_count": null,
      "outputs": [
        {
          "output_type": "stream",
          "text": [
            "|--- Credit_History <= 0.50\n",
            "|   |--- LoanAmount <= 199.00\n",
            "|   |   |--- LoanAmount <= 82.00\n",
            "|   |   |   |--- CoapplicantIncome <= 160.50\n",
            "|   |   |   |   |--- class: 0\n",
            "|   |   |   |--- CoapplicantIncome >  160.50\n",
            "|   |   |   |   |--- CoapplicantIncome <= 171.50\n",
            "|   |   |   |   |   |--- class: 1\n",
            "|   |   |   |   |--- CoapplicantIncome >  171.50\n",
            "|   |   |   |   |   |--- class: 0\n",
            "|   |   |--- LoanAmount >  82.00\n",
            "|   |   |   |--- LoanAmount <= 122.00\n",
            "|   |   |   |   |--- LoanAmount <= 112.00\n",
            "|   |   |   |   |   |--- class: 0\n",
            "|   |   |   |   |--- LoanAmount >  112.00\n",
            "|   |   |   |   |   |--- class: 0\n",
            "|   |   |   |--- LoanAmount >  122.00\n",
            "|   |   |   |   |--- class: 0\n",
            "|   |--- LoanAmount >  199.00\n",
            "|   |   |--- class: 1\n",
            "|--- Credit_History >  0.50\n",
            "|   |--- CoapplicantIncome <= 280.00\n",
            "|   |   |--- Property_Area <= 0.50\n",
            "|   |   |   |--- LoanAmount <= 40.50\n",
            "|   |   |   |   |--- LoanAmount <= 20.50\n",
            "|   |   |   |   |   |--- class: 1\n",
            "|   |   |   |   |--- LoanAmount >  20.50\n",
            "|   |   |   |   |   |--- class: 0\n",
            "|   |   |   |--- LoanAmount >  40.50\n",
            "|   |   |   |   |--- ApplicantIncome <= 453.50\n",
            "|   |   |   |   |   |--- class: 1\n",
            "|   |   |   |   |--- ApplicantIncome >  453.50\n",
            "|   |   |   |   |   |--- class: 0\n",
            "|   |   |--- Property_Area >  0.50\n",
            "|   |   |   |--- LoanAmount <= 90.50\n",
            "|   |   |   |   |--- CoapplicantIncome <= 11.50\n",
            "|   |   |   |   |   |--- class: 1\n",
            "|   |   |   |   |--- CoapplicantIncome >  11.50\n",
            "|   |   |   |   |   |--- class: 1\n",
            "|   |   |   |--- LoanAmount >  90.50\n",
            "|   |   |   |   |--- Education <= 0.50\n",
            "|   |   |   |   |   |--- class: 1\n",
            "|   |   |   |   |--- Education >  0.50\n",
            "|   |   |   |   |   |--- class: 0\n",
            "|   |--- CoapplicantIncome >  280.00\n",
            "|   |   |--- Dependents <= 0.50\n",
            "|   |   |   |--- Property_Area <= 1.50\n",
            "|   |   |   |   |--- class: 1\n",
            "|   |   |   |--- Property_Area >  1.50\n",
            "|   |   |   |   |--- class: 0\n",
            "|   |   |--- Dependents >  0.50\n",
            "|   |   |   |--- class: 0\n",
            "\n"
          ],
          "name": "stdout"
        }
      ]
    },
    {
      "cell_type": "code",
      "metadata": {
        "colab": {
          "base_uri": "https://localhost:8080/"
        },
        "id": "TUYh-aqLF0Wp",
        "outputId": "e5887bfa-0225-413c-c2e4-c239e108b423"
      },
      "source": [
        "#incorrect classified outcomes in the training model\n",
        "from sklearn.metrics import confusion_matrix\n",
        "\n",
        "y_pred_train=model_tree.predict(X_train)\n",
        "cm=confusion_matrix(y_train, y_pred_train)\n",
        "print(cm)"
      ],
      "execution_count": null,
      "outputs": [
        {
          "output_type": "stream",
          "text": [
            "[[ 98  73]\n",
            " [ 17 364]]\n"
          ],
          "name": "stdout"
        }
      ]
    },
    {
      "cell_type": "code",
      "metadata": {
        "colab": {
          "base_uri": "https://localhost:8080/"
        },
        "id": "TaSmsxMeGDAi",
        "outputId": "c8c903fc-e013-4254-80a3-4656c272a973"
      },
      "source": [
        "cm.ravel()"
      ],
      "execution_count": null,
      "outputs": [
        {
          "output_type": "execute_result",
          "data": {
            "text/plain": [
              "array([ 98,  73,  17, 364])"
            ]
          },
          "metadata": {
            "tags": []
          },
          "execution_count": 129
        }
      ]
    },
    {
      "cell_type": "code",
      "metadata": {
        "colab": {
          "base_uri": "https://localhost:8080/"
        },
        "id": "E5VoimjZGHQ8",
        "outputId": "c53707fa-2b03-4b0e-f0e6-0aecbcb9c81a"
      },
      "source": [
        "from sklearn.metrics import accuracy_score\n",
        "accuracy_score(y_train, y_pred_train, )"
      ],
      "execution_count": null,
      "outputs": [
        {
          "output_type": "execute_result",
          "data": {
            "text/plain": [
              "0.8369565217391305"
            ]
          },
          "metadata": {
            "tags": []
          },
          "execution_count": 130
        }
      ]
    },
    {
      "cell_type": "code",
      "metadata": {
        "colab": {
          "base_uri": "https://localhost:8080/",
          "height": 241
        },
        "id": "Fu7L1Ii9GKu8",
        "outputId": "a858f559-d66a-4b0e-92e8-f944c3c30742"
      },
      "source": [
        "#load the test data\n",
        "df_test = pd.read_csv(\"/content/drive/MyDrive/datasets/test.csv\", sep = ',',header = 0)\n",
        "df_test.head()"
      ],
      "execution_count": null,
      "outputs": [
        {
          "output_type": "execute_result",
          "data": {
            "text/html": [
              "<div>\n",
              "<style scoped>\n",
              "    .dataframe tbody tr th:only-of-type {\n",
              "        vertical-align: middle;\n",
              "    }\n",
              "\n",
              "    .dataframe tbody tr th {\n",
              "        vertical-align: top;\n",
              "    }\n",
              "\n",
              "    .dataframe thead th {\n",
              "        text-align: right;\n",
              "    }\n",
              "</style>\n",
              "<table border=\"1\" class=\"dataframe\">\n",
              "  <thead>\n",
              "    <tr style=\"text-align: right;\">\n",
              "      <th></th>\n",
              "      <th>Loan_ID</th>\n",
              "      <th>Gender</th>\n",
              "      <th>Married</th>\n",
              "      <th>Dependents</th>\n",
              "      <th>Education</th>\n",
              "      <th>Self_Employed</th>\n",
              "      <th>ApplicantIncome</th>\n",
              "      <th>CoapplicantIncome</th>\n",
              "      <th>LoanAmount</th>\n",
              "      <th>Loan_Amount_Term</th>\n",
              "      <th>Credit_History</th>\n",
              "      <th>Property_Area</th>\n",
              "    </tr>\n",
              "  </thead>\n",
              "  <tbody>\n",
              "    <tr>\n",
              "      <th>0</th>\n",
              "      <td>LP001015</td>\n",
              "      <td>Male</td>\n",
              "      <td>Yes</td>\n",
              "      <td>0</td>\n",
              "      <td>Graduate</td>\n",
              "      <td>No</td>\n",
              "      <td>5720</td>\n",
              "      <td>0</td>\n",
              "      <td>110.0</td>\n",
              "      <td>360.0</td>\n",
              "      <td>1.0</td>\n",
              "      <td>Urban</td>\n",
              "    </tr>\n",
              "    <tr>\n",
              "      <th>1</th>\n",
              "      <td>LP001022</td>\n",
              "      <td>Male</td>\n",
              "      <td>Yes</td>\n",
              "      <td>1</td>\n",
              "      <td>Graduate</td>\n",
              "      <td>No</td>\n",
              "      <td>3076</td>\n",
              "      <td>1500</td>\n",
              "      <td>126.0</td>\n",
              "      <td>360.0</td>\n",
              "      <td>1.0</td>\n",
              "      <td>Urban</td>\n",
              "    </tr>\n",
              "    <tr>\n",
              "      <th>2</th>\n",
              "      <td>LP001031</td>\n",
              "      <td>Male</td>\n",
              "      <td>Yes</td>\n",
              "      <td>2</td>\n",
              "      <td>Graduate</td>\n",
              "      <td>No</td>\n",
              "      <td>5000</td>\n",
              "      <td>1800</td>\n",
              "      <td>208.0</td>\n",
              "      <td>360.0</td>\n",
              "      <td>1.0</td>\n",
              "      <td>Urban</td>\n",
              "    </tr>\n",
              "    <tr>\n",
              "      <th>3</th>\n",
              "      <td>LP001035</td>\n",
              "      <td>Male</td>\n",
              "      <td>Yes</td>\n",
              "      <td>2</td>\n",
              "      <td>Graduate</td>\n",
              "      <td>No</td>\n",
              "      <td>2340</td>\n",
              "      <td>2546</td>\n",
              "      <td>100.0</td>\n",
              "      <td>360.0</td>\n",
              "      <td>NaN</td>\n",
              "      <td>Urban</td>\n",
              "    </tr>\n",
              "    <tr>\n",
              "      <th>4</th>\n",
              "      <td>LP001051</td>\n",
              "      <td>Male</td>\n",
              "      <td>No</td>\n",
              "      <td>0</td>\n",
              "      <td>Not Graduate</td>\n",
              "      <td>No</td>\n",
              "      <td>3276</td>\n",
              "      <td>0</td>\n",
              "      <td>78.0</td>\n",
              "      <td>360.0</td>\n",
              "      <td>1.0</td>\n",
              "      <td>Urban</td>\n",
              "    </tr>\n",
              "  </tbody>\n",
              "</table>\n",
              "</div>"
            ],
            "text/plain": [
              "    Loan_ID Gender Married  ... Loan_Amount_Term Credit_History Property_Area\n",
              "0  LP001015   Male     Yes  ...            360.0            1.0         Urban\n",
              "1  LP001022   Male     Yes  ...            360.0            1.0         Urban\n",
              "2  LP001031   Male     Yes  ...            360.0            1.0         Urban\n",
              "3  LP001035   Male     Yes  ...            360.0            NaN         Urban\n",
              "4  LP001051   Male      No  ...            360.0            1.0         Urban\n",
              "\n",
              "[5 rows x 12 columns]"
            ]
          },
          "metadata": {
            "tags": []
          },
          "execution_count": 96
        }
      ]
    },
    {
      "cell_type": "code",
      "metadata": {
        "colab": {
          "base_uri": "https://localhost:8080/"
        },
        "id": "ko_1liVqHEQS",
        "outputId": "38234fe5-dacd-4657-adea-92d787fd9c98"
      },
      "source": [
        "df_test.info()"
      ],
      "execution_count": null,
      "outputs": [
        {
          "output_type": "stream",
          "text": [
            "<class 'pandas.core.frame.DataFrame'>\n",
            "RangeIndex: 367 entries, 0 to 366\n",
            "Data columns (total 12 columns):\n",
            " #   Column             Non-Null Count  Dtype  \n",
            "---  ------             --------------  -----  \n",
            " 0   Loan_ID            367 non-null    object \n",
            " 1   Gender             356 non-null    object \n",
            " 2   Married            367 non-null    object \n",
            " 3   Dependents         357 non-null    object \n",
            " 4   Education          367 non-null    object \n",
            " 5   Self_Employed      344 non-null    object \n",
            " 6   ApplicantIncome    367 non-null    int64  \n",
            " 7   CoapplicantIncome  367 non-null    int64  \n",
            " 8   LoanAmount         362 non-null    float64\n",
            " 9   Loan_Amount_Term   361 non-null    float64\n",
            " 10  Credit_History     338 non-null    float64\n",
            " 11  Property_Area      367 non-null    object \n",
            "dtypes: float64(3), int64(2), object(7)\n",
            "memory usage: 34.5+ KB\n"
          ],
          "name": "stdout"
        }
      ]
    },
    {
      "cell_type": "code",
      "metadata": {
        "id": "PuxCN8b2GRkx"
      },
      "source": [
        "# clean numeric data\n",
        "cols_numeric = ['LoanAmount','CoapplicantIncome','LoanAmount','Loan_Amount_Term']\n",
        "for col in cols_numeric:\n",
        "    df_test[col].fillna(df_test[col].mean(), inplace=True)\n",
        "# clean category data\n",
        "cat_cols = ['Credit_History', 'Dependents', 'Gender', 'Married', 'Self_Employed']\n",
        "for col in cat_cols:\n",
        "    df_test[col] = df_test[col].fillna(df_test[col].mode().values[0])\n",
        "# drop loan id column\n",
        "df_test.drop(['Loan_ID'], axis = 1, inplace = True)\n",
        "\n",
        "#encode your data\n",
        "#fit and transform it\n",
        "string_to_int = preprocessing.LabelEncoder()   \n",
        "df_test = df_test.apply(string_to_int.fit_transform)    "
      ],
      "execution_count": null,
      "outputs": []
    },
    {
      "cell_type": "code",
      "metadata": {
        "colab": {
          "base_uri": "https://localhost:8080/",
          "height": 204
        },
        "id": "HVigBaLFH8-3",
        "outputId": "fd4c7a4b-2fdf-45b0-ee94-67aa5f517dbd"
      },
      "source": [
        "#check df test\n",
        "df_test.head()"
      ],
      "execution_count": null,
      "outputs": [
        {
          "output_type": "execute_result",
          "data": {
            "text/html": [
              "<div>\n",
              "<style scoped>\n",
              "    .dataframe tbody tr th:only-of-type {\n",
              "        vertical-align: middle;\n",
              "    }\n",
              "\n",
              "    .dataframe tbody tr th {\n",
              "        vertical-align: top;\n",
              "    }\n",
              "\n",
              "    .dataframe thead th {\n",
              "        text-align: right;\n",
              "    }\n",
              "</style>\n",
              "<table border=\"1\" class=\"dataframe\">\n",
              "  <thead>\n",
              "    <tr style=\"text-align: right;\">\n",
              "      <th></th>\n",
              "      <th>Gender</th>\n",
              "      <th>Married</th>\n",
              "      <th>Dependents</th>\n",
              "      <th>Education</th>\n",
              "      <th>Self_Employed</th>\n",
              "      <th>ApplicantIncome</th>\n",
              "      <th>CoapplicantIncome</th>\n",
              "      <th>LoanAmount</th>\n",
              "      <th>Loan_Amount_Term</th>\n",
              "      <th>Credit_History</th>\n",
              "      <th>Property_Area</th>\n",
              "    </tr>\n",
              "  </thead>\n",
              "  <tbody>\n",
              "    <tr>\n",
              "      <th>0</th>\n",
              "      <td>1</td>\n",
              "      <td>1</td>\n",
              "      <td>0</td>\n",
              "      <td>0</td>\n",
              "      <td>0</td>\n",
              "      <td>251</td>\n",
              "      <td>0</td>\n",
              "      <td>52</td>\n",
              "      <td>11</td>\n",
              "      <td>1</td>\n",
              "      <td>2</td>\n",
              "    </tr>\n",
              "    <tr>\n",
              "      <th>1</th>\n",
              "      <td>1</td>\n",
              "      <td>1</td>\n",
              "      <td>1</td>\n",
              "      <td>0</td>\n",
              "      <td>0</td>\n",
              "      <td>102</td>\n",
              "      <td>43</td>\n",
              "      <td>67</td>\n",
              "      <td>11</td>\n",
              "      <td>1</td>\n",
              "      <td>2</td>\n",
              "    </tr>\n",
              "    <tr>\n",
              "      <th>2</th>\n",
              "      <td>1</td>\n",
              "      <td>1</td>\n",
              "      <td>2</td>\n",
              "      <td>0</td>\n",
              "      <td>0</td>\n",
              "      <td>230</td>\n",
              "      <td>67</td>\n",
              "      <td>120</td>\n",
              "      <td>11</td>\n",
              "      <td>1</td>\n",
              "      <td>2</td>\n",
              "    </tr>\n",
              "    <tr>\n",
              "      <th>3</th>\n",
              "      <td>1</td>\n",
              "      <td>1</td>\n",
              "      <td>2</td>\n",
              "      <td>0</td>\n",
              "      <td>0</td>\n",
              "      <td>43</td>\n",
              "      <td>110</td>\n",
              "      <td>42</td>\n",
              "      <td>11</td>\n",
              "      <td>1</td>\n",
              "      <td>2</td>\n",
              "    </tr>\n",
              "    <tr>\n",
              "      <th>4</th>\n",
              "      <td>1</td>\n",
              "      <td>0</td>\n",
              "      <td>0</td>\n",
              "      <td>1</td>\n",
              "      <td>0</td>\n",
              "      <td>120</td>\n",
              "      <td>0</td>\n",
              "      <td>25</td>\n",
              "      <td>11</td>\n",
              "      <td>1</td>\n",
              "      <td>2</td>\n",
              "    </tr>\n",
              "  </tbody>\n",
              "</table>\n",
              "</div>"
            ],
            "text/plain": [
              "   Gender  Married  Dependents  ...  Loan_Amount_Term  Credit_History  Property_Area\n",
              "0       1        1           0  ...                11               1              2\n",
              "1       1        1           1  ...                11               1              2\n",
              "2       1        1           2  ...                11               1              2\n",
              "3       1        1           2  ...                11               1              2\n",
              "4       1        0           0  ...                11               1              2\n",
              "\n",
              "[5 rows x 11 columns]"
            ]
          },
          "metadata": {
            "tags": []
          },
          "execution_count": 99
        }
      ]
    },
    {
      "cell_type": "code",
      "metadata": {
        "id": "o0e9O2MGIBXx"
      },
      "source": [
        "X_test = df_test"
      ],
      "execution_count": null,
      "outputs": []
    },
    {
      "cell_type": "code",
      "metadata": {
        "colab": {
          "base_uri": "https://localhost:8080/"
        },
        "id": "q88a_JWOGz-m",
        "outputId": "d4aacf9c-8b5a-4b9a-9068-7d06ffba39b7"
      },
      "source": [
        "#testing the classification model\n",
        "y_pred=model_tree.predict(X_test)\n",
        "cm=confusion_matrix(y_test, y_pred)\n",
        "print(cm)"
      ],
      "execution_count": null,
      "outputs": [
        {
          "output_type": "stream",
          "text": [
            "[[10 11]\n",
            " [ 1 40]]\n"
          ],
          "name": "stdout"
        }
      ]
    },
    {
      "cell_type": "code",
      "metadata": {
        "colab": {
          "base_uri": "https://localhost:8080/"
        },
        "id": "BOY8O_2lIFZm",
        "outputId": "6c0d9827-2376-477c-9971-2fc582c7fc3e"
      },
      "source": [
        "# accurancy of the model \n",
        "accuracy_score(y_test, y_pred )"
      ],
      "execution_count": null,
      "outputs": [
        {
          "output_type": "execute_result",
          "data": {
            "text/plain": [
              "0.8064516129032258"
            ]
          },
          "metadata": {
            "tags": []
          },
          "execution_count": 132
        }
      ]
    },
    {
      "cell_type": "code",
      "metadata": {
        "colab": {
          "base_uri": "https://localhost:8080/"
        },
        "id": "_1gQOoF3P7Ng",
        "outputId": "a769380f-d755-427e-d88f-c0913501c927"
      },
      "source": [
        "#compute the recall and precision\n",
        "# How does the performance of the model on the test data, compare with that of the model on the training data\n",
        "from sklearn.metrics import (precision_score, recall_score,  f1_score)\n",
        "# calculate recall\n",
        "recall = recall_score(y_test, y_pred, average='binary')\n",
        "print('Recall: %.3f' % recall)"
      ],
      "execution_count": null,
      "outputs": [
        {
          "output_type": "stream",
          "text": [
            "Recall: 0.976\n"
          ],
          "name": "stdout"
        }
      ]
    },
    {
      "cell_type": "code",
      "metadata": {
        "colab": {
          "base_uri": "https://localhost:8080/"
        },
        "id": "9aIIi6RtQNbh",
        "outputId": "8b96c061-3ea3-4f29-b7b8-4fbae918fcb3"
      },
      "source": [
        "recall = precision_score(y_test, y_pred, average='binary')\n",
        "print('precision_score: %.3f' % recall)"
      ],
      "execution_count": null,
      "outputs": [
        {
          "output_type": "stream",
          "text": [
            "precision_score: 0.784\n"
          ],
          "name": "stdout"
        }
      ]
    },
    {
      "cell_type": "code",
      "metadata": {
        "id": "QRXD0Yd1QQO2"
      },
      "source": [
        ""
      ],
      "execution_count": null,
      "outputs": []
    }
  ]
}