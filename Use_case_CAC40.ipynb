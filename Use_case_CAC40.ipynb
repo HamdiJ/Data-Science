{
  "nbformat": 4,
  "nbformat_minor": 0,
  "metadata": {
    "colab": {
      "name": "Use_case_CAC40.ipynb",
      "provenance": [],
      "authorship_tag": "ABX9TyMscKSPfcoahj0o8uipXB/v",
      "include_colab_link": true
    },
    "kernelspec": {
      "display_name": "Python 3",
      "name": "python3"
    }
  },
  "cells": [
    {
      "cell_type": "markdown",
      "metadata": {
        "id": "view-in-github",
        "colab_type": "text"
      },
      "source": [
        "<a href=\"https://colab.research.google.com/github/HamdiJ/Data-Science/blob/master/Use_case_CAC40.ipynb\" target=\"_parent\"><img src=\"https://colab.research.google.com/assets/colab-badge.svg\" alt=\"Open In Colab\"/></a>"
      ]
    },
    {
      "cell_type": "code",
      "metadata": {
        "colab": {
          "base_uri": "https://localhost:8080/"
        },
        "id": "sOeyCOyJynon",
        "outputId": "677e1862-2040-414b-cea3-56ac08d21793"
      },
      "source": [
        "import pandas as pd\n",
        "import numpy as np\n",
        "from google.colab import drive\n",
        "drive.mount('/content/drive')\n",
        "#df_week = pd.read_csv(\"/content/drive/MyDrive/datasets/cac40.csv\",sep = ',',header = 0, encoding = 'ISO-8859-1')\n",
        "#df_month = pd.read_csv(\"/content/drive/MyDrive/datasets/nasadaq_month.csv\",sep = ',',header = 0, encoding = 'ISO-8859-1')\n",
        "df = pd.read_csv(\"/content/drive/MyDrive/datasets/cac40.csv\",sep = ',',header = 0, encoding = 'ISO-8859-1')\n"
      ],
      "execution_count": 35,
      "outputs": [
        {
          "output_type": "stream",
          "name": "stdout",
          "text": [
            "Drive already mounted at /content/drive; to attempt to forcibly remount, call drive.mount(\"/content/drive\", force_remount=True).\n"
          ]
        }
      ]
    },
    {
      "cell_type": "code",
      "metadata": {
        "id": "RWmlaJhO0XO_"
      },
      "source": [
        "import pandas as pd\n",
        "import numpy as np\n",
        "from datetime import datetime\n",
        "from sklearn.ensemble import RandomForestClassifier\n",
        "from sklearn.model_selection import train_test_split\n",
        "\n",
        "df['Date'] = pd.to_datetime(df['Date'])\n",
        "\n"
      ],
      "execution_count": 36,
      "outputs": []
    },
    {
      "cell_type": "code",
      "metadata": {
        "colab": {
          "base_uri": "https://localhost:8080/",
          "height": 203
        },
        "id": "Lnli3Q0Msg-P",
        "outputId": "9637ccfd-3b3d-434e-d0e0-9328b29906f7"
      },
      "source": [
        "df.head()"
      ],
      "execution_count": 3,
      "outputs": [
        {
          "output_type": "execute_result",
          "data": {
            "text/html": [
              "<div>\n",
              "<style scoped>\n",
              "    .dataframe tbody tr th:only-of-type {\n",
              "        vertical-align: middle;\n",
              "    }\n",
              "\n",
              "    .dataframe tbody tr th {\n",
              "        vertical-align: top;\n",
              "    }\n",
              "\n",
              "    .dataframe thead th {\n",
              "        text-align: right;\n",
              "    }\n",
              "</style>\n",
              "<table border=\"1\" class=\"dataframe\">\n",
              "  <thead>\n",
              "    <tr style=\"text-align: right;\">\n",
              "      <th></th>\n",
              "      <th>Date</th>\n",
              "      <th>Open</th>\n",
              "      <th>High</th>\n",
              "      <th>Low</th>\n",
              "      <th>Close</th>\n",
              "      <th>Adj Close</th>\n",
              "      <th>Volume</th>\n",
              "    </tr>\n",
              "  </thead>\n",
              "  <tbody>\n",
              "    <tr>\n",
              "      <th>0</th>\n",
              "      <td>1992-01-02</td>\n",
              "      <td>1755.300049</td>\n",
              "      <td>1765.500000</td>\n",
              "      <td>1746.599976</td>\n",
              "      <td>1749.900024</td>\n",
              "      <td>1749.900024</td>\n",
              "      <td>0.0</td>\n",
              "    </tr>\n",
              "    <tr>\n",
              "      <th>1</th>\n",
              "      <td>1992-01-03</td>\n",
              "      <td>1760.500000</td>\n",
              "      <td>1771.000000</td>\n",
              "      <td>1749.099976</td>\n",
              "      <td>1770.300049</td>\n",
              "      <td>1770.300049</td>\n",
              "      <td>0.0</td>\n",
              "    </tr>\n",
              "    <tr>\n",
              "      <th>2</th>\n",
              "      <td>1992-01-06</td>\n",
              "      <td>1794.000000</td>\n",
              "      <td>1802.500000</td>\n",
              "      <td>1782.699951</td>\n",
              "      <td>1787.599976</td>\n",
              "      <td>1787.599976</td>\n",
              "      <td>0.0</td>\n",
              "    </tr>\n",
              "    <tr>\n",
              "      <th>3</th>\n",
              "      <td>1992-01-07</td>\n",
              "      <td>1784.000000</td>\n",
              "      <td>1784.099976</td>\n",
              "      <td>1771.800049</td>\n",
              "      <td>1778.699951</td>\n",
              "      <td>1778.699951</td>\n",
              "      <td>0.0</td>\n",
              "    </tr>\n",
              "    <tr>\n",
              "      <th>4</th>\n",
              "      <td>1992-01-08</td>\n",
              "      <td>1763.500000</td>\n",
              "      <td>1787.300049</td>\n",
              "      <td>1758.099976</td>\n",
              "      <td>1785.599976</td>\n",
              "      <td>1785.599976</td>\n",
              "      <td>0.0</td>\n",
              "    </tr>\n",
              "  </tbody>\n",
              "</table>\n",
              "</div>"
            ],
            "text/plain": [
              "        Date         Open         High  ...        Close    Adj Close  Volume\n",
              "0 1992-01-02  1755.300049  1765.500000  ...  1749.900024  1749.900024     0.0\n",
              "1 1992-01-03  1760.500000  1771.000000  ...  1770.300049  1770.300049     0.0\n",
              "2 1992-01-06  1794.000000  1802.500000  ...  1787.599976  1787.599976     0.0\n",
              "3 1992-01-07  1784.000000  1784.099976  ...  1778.699951  1778.699951     0.0\n",
              "4 1992-01-08  1763.500000  1787.300049  ...  1785.599976  1785.599976     0.0\n",
              "\n",
              "[5 rows x 7 columns]"
            ]
          },
          "metadata": {},
          "execution_count": 3
        }
      ]
    },
    {
      "cell_type": "code",
      "metadata": {
        "id": "fI3DmDeAivsx"
      },
      "source": [
        "!wget http://prdownloads.sourceforge.net/ta-lib/ta-lib-0.4.0-src.tar.gz\n",
        "!tar -xzvf ta-lib-0.4.0-src.tar.gz\n",
        "%cd ta-lib\n",
        "!./configure --prefix=/usr\n",
        "!make\n",
        "!make install\n",
        "!pip install Ta-Lib\n",
        "import talib\n",
        "from talib import abstract\n",
        "from talib.abstract import *"
      ],
      "execution_count": null,
      "outputs": []
    },
    {
      "cell_type": "code",
      "metadata": {
        "id": "FNjvnJkvqUKW"
      },
      "source": [
        "import talib as tb\n",
        "import matplotlib.pyplot as plt\n"
      ],
      "execution_count": 5,
      "outputs": []
    },
    {
      "cell_type": "code",
      "metadata": {
        "colab": {
          "base_uri": "https://localhost:8080/",
          "height": 203
        },
        "id": "P6ihCSFs5r4T",
        "outputId": "022f4a14-7db3-4244-9905-f0602bd7eeab"
      },
      "source": [
        "df.tail()"
      ],
      "execution_count": 6,
      "outputs": [
        {
          "output_type": "execute_result",
          "data": {
            "text/html": [
              "<div>\n",
              "<style scoped>\n",
              "    .dataframe tbody tr th:only-of-type {\n",
              "        vertical-align: middle;\n",
              "    }\n",
              "\n",
              "    .dataframe tbody tr th {\n",
              "        vertical-align: top;\n",
              "    }\n",
              "\n",
              "    .dataframe thead th {\n",
              "        text-align: right;\n",
              "    }\n",
              "</style>\n",
              "<table border=\"1\" class=\"dataframe\">\n",
              "  <thead>\n",
              "    <tr style=\"text-align: right;\">\n",
              "      <th></th>\n",
              "      <th>Date</th>\n",
              "      <th>Open</th>\n",
              "      <th>High</th>\n",
              "      <th>Low</th>\n",
              "      <th>Close</th>\n",
              "      <th>Adj Close</th>\n",
              "      <th>Volume</th>\n",
              "    </tr>\n",
              "  </thead>\n",
              "  <tbody>\n",
              "    <tr>\n",
              "      <th>7666</th>\n",
              "      <td>2021-09-14</td>\n",
              "      <td>6672.189941</td>\n",
              "      <td>6677.069824</td>\n",
              "      <td>6613.520020</td>\n",
              "      <td>6652.970215</td>\n",
              "      <td>6652.970215</td>\n",
              "      <td>63626300.0</td>\n",
              "    </tr>\n",
              "    <tr>\n",
              "      <th>7667</th>\n",
              "      <td>2021-09-15</td>\n",
              "      <td>6654.830078</td>\n",
              "      <td>6659.270020</td>\n",
              "      <td>6577.020020</td>\n",
              "      <td>6583.620117</td>\n",
              "      <td>6583.620117</td>\n",
              "      <td>81904200.0</td>\n",
              "    </tr>\n",
              "    <tr>\n",
              "      <th>7668</th>\n",
              "      <td>2021-09-16</td>\n",
              "      <td>6613.709961</td>\n",
              "      <td>6663.410156</td>\n",
              "      <td>6612.160156</td>\n",
              "      <td>6622.589844</td>\n",
              "      <td>6622.589844</td>\n",
              "      <td>79574500.0</td>\n",
              "    </tr>\n",
              "    <tr>\n",
              "      <th>7669</th>\n",
              "      <td>2021-09-17</td>\n",
              "      <td>6679.450195</td>\n",
              "      <td>6697.080078</td>\n",
              "      <td>6551.620117</td>\n",
              "      <td>6570.189941</td>\n",
              "      <td>6570.189941</td>\n",
              "      <td>214025500.0</td>\n",
              "    </tr>\n",
              "    <tr>\n",
              "      <th>7670</th>\n",
              "      <td>2021-09-20</td>\n",
              "      <td>6450.390137</td>\n",
              "      <td>6471.089844</td>\n",
              "      <td>6389.620117</td>\n",
              "      <td>6455.810059</td>\n",
              "      <td>6455.810059</td>\n",
              "      <td>120069400.0</td>\n",
              "    </tr>\n",
              "  </tbody>\n",
              "</table>\n",
              "</div>"
            ],
            "text/plain": [
              "           Date         Open  ...    Adj Close       Volume\n",
              "7666 2021-09-14  6672.189941  ...  6652.970215   63626300.0\n",
              "7667 2021-09-15  6654.830078  ...  6583.620117   81904200.0\n",
              "7668 2021-09-16  6613.709961  ...  6622.589844   79574500.0\n",
              "7669 2021-09-17  6679.450195  ...  6570.189941  214025500.0\n",
              "7670 2021-09-20  6450.390137  ...  6455.810059  120069400.0\n",
              "\n",
              "[5 rows x 7 columns]"
            ]
          },
          "metadata": {},
          "execution_count": 6
        }
      ]
    },
    {
      "cell_type": "code",
      "metadata": {
        "colab": {
          "base_uri": "https://localhost:8080/"
        },
        "id": "iDA953Ki5-eG",
        "outputId": "455c56af-e019-44f6-aa52-3d4d3ccc6975"
      },
      "source": [
        "type(df['Close'][0])"
      ],
      "execution_count": 7,
      "outputs": [
        {
          "output_type": "execute_result",
          "data": {
            "text/plain": [
              "numpy.float64"
            ]
          },
          "metadata": {},
          "execution_count": 7
        }
      ]
    },
    {
      "cell_type": "code",
      "metadata": {
        "id": "SY_9mrXy5fqB"
      },
      "source": [
        "#or col in df.columns[1:]:\n",
        "    #if col != 'Volume':\n",
        "       #df[col] = df[col].apply(lambda x : float(x.replace('.','').replace(',','.').replace('%','')))\n"
      ],
      "execution_count": 72,
      "outputs": []
    },
    {
      "cell_type": "code",
      "metadata": {
        "colab": {
          "base_uri": "https://localhost:8080/"
        },
        "id": "J4_aDRZ0QxnY",
        "outputId": "5e58c371-0b0d-42bd-8229-0e21c34780c0"
      },
      "source": [
        "df.isnull().sum()"
      ],
      "execution_count": 37,
      "outputs": [
        {
          "output_type": "execute_result",
          "data": {
            "text/plain": [
              "Date           0\n",
              "Open         123\n",
              "High         123\n",
              "Low          123\n",
              "Close        123\n",
              "Adj Close    123\n",
              "Volume       123\n",
              "dtype: int64"
            ]
          },
          "metadata": {},
          "execution_count": 37
        }
      ]
    },
    {
      "cell_type": "code",
      "metadata": {
        "colab": {
          "base_uri": "https://localhost:8080/"
        },
        "id": "2TViWjXRDEWW",
        "outputId": "fdf5f0fd-f8f7-4d96-e41c-e3e06859aef2"
      },
      "source": [
        "df.shape"
      ],
      "execution_count": 38,
      "outputs": [
        {
          "output_type": "execute_result",
          "data": {
            "text/plain": [
              "(7671, 7)"
            ]
          },
          "metadata": {},
          "execution_count": 38
        }
      ]
    },
    {
      "cell_type": "code",
      "metadata": {
        "id": "Xg4ycei348eG"
      },
      "source": [
        "import math"
      ],
      "execution_count": 13,
      "outputs": []
    },
    {
      "cell_type": "code",
      "metadata": {
        "id": "ieg3rx5XsGqw"
      },
      "source": [
        "df = df.dropna()"
      ],
      "execution_count": 39,
      "outputs": []
    },
    {
      "cell_type": "code",
      "metadata": {
        "colab": {
          "base_uri": "https://localhost:8080/"
        },
        "id": "2NAd0wSdsuN5",
        "outputId": "9d32db56-1983-4a4b-b0fb-cb0abf15dd13"
      },
      "source": [
        "df.shape"
      ],
      "execution_count": 40,
      "outputs": [
        {
          "output_type": "execute_result",
          "data": {
            "text/plain": [
              "(7548, 7)"
            ]
          },
          "metadata": {},
          "execution_count": 40
        }
      ]
    },
    {
      "cell_type": "code",
      "metadata": {
        "colab": {
          "base_uri": "https://localhost:8080/"
        },
        "id": "SFv_JJhHtGVb",
        "outputId": "f7bc6b67-b35c-435a-b946-8b1031df13d7"
      },
      "source": [
        "df.isnull().sum()"
      ],
      "execution_count": 41,
      "outputs": [
        {
          "output_type": "execute_result",
          "data": {
            "text/plain": [
              "Date         0\n",
              "Open         0\n",
              "High         0\n",
              "Low          0\n",
              "Close        0\n",
              "Adj Close    0\n",
              "Volume       0\n",
              "dtype: int64"
            ]
          },
          "metadata": {},
          "execution_count": 41
        }
      ]
    },
    {
      "cell_type": "code",
      "metadata": {
        "id": "Do45klf0vftl"
      },
      "source": [
        "df['Month'] = pd.DatetimeIndex(df['Date']).month"
      ],
      "execution_count": 43,
      "outputs": []
    },
    {
      "cell_type": "code",
      "metadata": {
        "colab": {
          "base_uri": "https://localhost:8080/"
        },
        "id": "om9z771zZrZ2",
        "outputId": "7469c1bd-fabf-40b8-a5d6-6cd44b905621"
      },
      "source": [
        "# Variance journaliére\n",
        "df['variation'] = 0\n",
        "for i in range(len(df)-1):\n",
        "    df['variation'].iloc[i+1] = round(((df['Close'].iloc[i+1] / df['Close'].iloc[i]) - 1)*100,2)\n"
      ],
      "execution_count": 44,
      "outputs": [
        {
          "output_type": "stream",
          "name": "stderr",
          "text": [
            "/usr/local/lib/python3.7/dist-packages/pandas/core/indexing.py:670: SettingWithCopyWarning: \n",
            "A value is trying to be set on a copy of a slice from a DataFrame\n",
            "\n",
            "See the caveats in the documentation: https://pandas.pydata.org/pandas-docs/stable/user_guide/indexing.html#returning-a-view-versus-a-copy\n",
            "  iloc._setitem_with_indexer(indexer, value)\n"
          ]
        }
      ]
    },
    {
      "cell_type": "markdown",
      "metadata": {
        "id": "BAolouHs__dX"
      },
      "source": [
        "# processing\n",
        "\n",
        "\n",
        "\n"
      ]
    },
    {
      "cell_type": "code",
      "metadata": {
        "id": "kW8LVAxzCERc"
      },
      "source": [
        "df = df.dropna()"
      ],
      "execution_count": 30,
      "outputs": []
    },
    {
      "cell_type": "code",
      "metadata": {
        "id": "a0nQu7Fzuhu1",
        "colab": {
          "base_uri": "https://localhost:8080/",
          "height": 399
        },
        "outputId": "34868fd9-4ba6-4a97-e0f9-a42d096ff40c"
      },
      "source": [
        "plt.boxplot(df['variation']) # RSI Distribuation"
      ],
      "execution_count": 45,
      "outputs": [
        {
          "output_type": "execute_result",
          "data": {
            "text/plain": [
              "{'boxes': [<matplotlib.lines.Line2D at 0x7f26b9237ad0>],\n",
              " 'caps': [<matplotlib.lines.Line2D at 0x7f26b3384c50>,\n",
              "  <matplotlib.lines.Line2D at 0x7f26b33720d0>],\n",
              " 'fliers': [<matplotlib.lines.Line2D at 0x7f26b3376b50>],\n",
              " 'means': [],\n",
              " 'medians': [<matplotlib.lines.Line2D at 0x7f26b3372e90>],\n",
              " 'whiskers': [<matplotlib.lines.Line2D at 0x7f26b3384810>,\n",
              "  <matplotlib.lines.Line2D at 0x7f26b3384e10>]}"
            ]
          },
          "metadata": {},
          "execution_count": 45
        },
        {
          "output_type": "display_data",
          "data": {
            "image/png": "[encoded data removed]",
            "text/plain": [
              "<Figure size 432x288 with 1 Axes>"
            ]
          },
          "metadata": {
            "needs_background": "light"
          }
        }
      ]
    },
    {
      "cell_type": "code",
      "metadata": {
        "colab": {
          "base_uri": "https://localhost:8080/",
          "height": 592
        },
        "id": "6L6C2_yGvCY6",
        "outputId": "42504964-d311-46f5-a8ef-0304af78e724"
      },
      "source": [
        "plt.figure(figsize=(20,10))\n",
        "plt.plot(df['Date'],df[['Close']])\n",
        "plt.legend(['Close price'])\n",
        "plt.grid(True)\n",
        "plt.show()"
      ],
      "execution_count": 46,
      "outputs": [
        {
          "output_type": "display_data",
          "data": {
            "image/png": "[encoded data removed]",
            "text/plain": [
              "<Figure size 1440x720 with 1 Axes>"
            ]
          },
          "metadata": {
            "needs_background": "light"
          }
        }
      ]
    },
    {
      "cell_type": "code",
      "metadata": {
        "id": "ZexVqSlxA-VD"
      },
      "source": [
        "df_month_var = df.groupby('Month').variation.agg(['sum','max','min','std'])\n",
        "df_month_var = df_month_var.reset_index()"
      ],
      "execution_count": 47,
      "outputs": []
    },
    {
      "cell_type": "code",
      "metadata": {
        "colab": {
          "base_uri": "https://localhost:8080/",
          "height": 418
        },
        "id": "a1H20Ja2Dl_v",
        "outputId": "35a305e5-d3b3-4311-b33c-52f1c67b2282"
      },
      "source": [
        "df_month_var"
      ],
      "execution_count": 48,
      "outputs": [
        {
          "output_type": "execute_result",
          "data": {
            "text/html": [
              "<div>\n",
              "<style scoped>\n",
              "    .dataframe tbody tr th:only-of-type {\n",
              "        vertical-align: middle;\n",
              "    }\n",
              "\n",
              "    .dataframe tbody tr th {\n",
              "        vertical-align: top;\n",
              "    }\n",
              "\n",
              "    .dataframe thead th {\n",
              "        text-align: right;\n",
              "    }\n",
              "</style>\n",
              "<table border=\"1\" class=\"dataframe\">\n",
              "  <thead>\n",
              "    <tr style=\"text-align: right;\">\n",
              "      <th></th>\n",
              "      <th>Month</th>\n",
              "      <th>sum</th>\n",
              "      <th>max</th>\n",
              "      <th>min</th>\n",
              "      <th>std</th>\n",
              "    </tr>\n",
              "  </thead>\n",
              "  <tbody>\n",
              "    <tr>\n",
              "      <th>0</th>\n",
              "      <td>1</td>\n",
              "      <td>16.81</td>\n",
              "      <td>6.01</td>\n",
              "      <td>-6.83</td>\n",
              "      <td>1.260398</td>\n",
              "    </tr>\n",
              "    <tr>\n",
              "      <th>1</th>\n",
              "      <td>2</td>\n",
              "      <td>24.79</td>\n",
              "      <td>3.41</td>\n",
              "      <td>-4.25</td>\n",
              "      <td>1.192375</td>\n",
              "    </tr>\n",
              "    <tr>\n",
              "      <th>2</th>\n",
              "      <td>3</td>\n",
              "      <td>26.67</td>\n",
              "      <td>8.39</td>\n",
              "      <td>-12.28</td>\n",
              "      <td>1.551158</td>\n",
              "    </tr>\n",
              "    <tr>\n",
              "      <th>3</th>\n",
              "      <td>4</td>\n",
              "      <td>78.78</td>\n",
              "      <td>5.37</td>\n",
              "      <td>-4.30</td>\n",
              "      <td>1.258671</td>\n",
              "    </tr>\n",
              "    <tr>\n",
              "      <th>4</th>\n",
              "      <td>5</td>\n",
              "      <td>-20.19</td>\n",
              "      <td>9.66</td>\n",
              "      <td>-4.60</td>\n",
              "      <td>1.257482</td>\n",
              "    </tr>\n",
              "    <tr>\n",
              "      <th>5</th>\n",
              "      <td>6</td>\n",
              "      <td>-19.98</td>\n",
              "      <td>4.75</td>\n",
              "      <td>-8.04</td>\n",
              "      <td>1.259602</td>\n",
              "    </tr>\n",
              "    <tr>\n",
              "      <th>6</th>\n",
              "      <td>7</td>\n",
              "      <td>23.11</td>\n",
              "      <td>7.04</td>\n",
              "      <td>-5.40</td>\n",
              "      <td>1.306621</td>\n",
              "    </tr>\n",
              "    <tr>\n",
              "      <th>7</th>\n",
              "      <td>8</td>\n",
              "      <td>-27.69</td>\n",
              "      <td>5.44</td>\n",
              "      <td>-5.48</td>\n",
              "      <td>1.359664</td>\n",
              "    </tr>\n",
              "    <tr>\n",
              "      <th>8</th>\n",
              "      <td>9</td>\n",
              "      <td>-50.58</td>\n",
              "      <td>9.27</td>\n",
              "      <td>-7.39</td>\n",
              "      <td>1.555870</td>\n",
              "    </tr>\n",
              "    <tr>\n",
              "      <th>9</th>\n",
              "      <td>10</td>\n",
              "      <td>49.84</td>\n",
              "      <td>11.18</td>\n",
              "      <td>-9.04</td>\n",
              "      <td>1.732321</td>\n",
              "    </tr>\n",
              "    <tr>\n",
              "      <th>10</th>\n",
              "      <td>11</td>\n",
              "      <td>54.84</td>\n",
              "      <td>10.09</td>\n",
              "      <td>-6.38</td>\n",
              "      <td>1.386495</td>\n",
              "    </tr>\n",
              "    <tr>\n",
              "      <th>11</th>\n",
              "      <td>12</td>\n",
              "      <td>45.11</td>\n",
              "      <td>8.68</td>\n",
              "      <td>-5.59</td>\n",
              "      <td>1.215990</td>\n",
              "    </tr>\n",
              "  </tbody>\n",
              "</table>\n",
              "</div>"
            ],
            "text/plain": [
              "    Month    sum    max    min       std\n",
              "0       1  16.81   6.01  -6.83  1.260398\n",
              "1       2  24.79   3.41  -4.25  1.192375\n",
              "2       3  26.67   8.39 -12.28  1.551158\n",
              "3       4  78.78   5.37  -4.30  1.258671\n",
              "4       5 -20.19   9.66  -4.60  1.257482\n",
              "5       6 -19.98   4.75  -8.04  1.259602\n",
              "6       7  23.11   7.04  -5.40  1.306621\n",
              "7       8 -27.69   5.44  -5.48  1.359664\n",
              "8       9 -50.58   9.27  -7.39  1.555870\n",
              "9      10  49.84  11.18  -9.04  1.732321\n",
              "10     11  54.84  10.09  -6.38  1.386495\n",
              "11     12  45.11   8.68  -5.59  1.215990"
            ]
          },
          "metadata": {},
          "execution_count": 48
        }
      ]
    },
    {
      "cell_type": "code",
      "metadata": {
        "id": "Hm6y_uhpyh9q"
      },
      "source": [
        "def month(a):\n",
        "  if a == 1:\n",
        "    return 'January'\n",
        "  if a == 2:\n",
        "    return 'February'\n",
        "  if a == 3:\n",
        "    return 'Mars'\n",
        "  if a == 4:\n",
        "    return 'April'\n",
        "  if a == 5:\n",
        "    return 'May'\n",
        "  if a == 6:\n",
        "    return 'June'\n",
        "  if a == 7:\n",
        "    return 'July'\n",
        "  if a == 8:\n",
        "    return 'August'\n",
        "  if a == 9:\n",
        "    return 'September'\n",
        "  if a == 10:\n",
        "    return 'October'\n",
        "  if a == 11:\n",
        "    return 'November'\n",
        "  if a == 12:\n",
        "    return 'December'\n",
        "  \n",
        "df_month_var['month'] = df_month_var['Month'].apply(month)\n"
      ],
      "execution_count": 53,
      "outputs": []
    },
    {
      "cell_type": "code",
      "metadata": {
        "id": "gOXco85CBhKX"
      },
      "source": [
        "df_month_var.drop(['Month'], inplace=True, axis=1)"
      ],
      "execution_count": 58,
      "outputs": []
    },
    {
      "cell_type": "code",
      "metadata": {
        "colab": {
          "base_uri": "https://localhost:8080/",
          "height": 337
        },
        "id": "samtnfBKLNPP",
        "outputId": "a544fb6f-c8e2-4862-a271-4e0ae42b4322"
      },
      "source": [
        "plt.figure(figsize=(15,5))\n",
        "plt.plot(df_month_var['month'], df_month_var['sum']/30)\n",
        "plt.xticks(list(range(13)))\n",
        "plt.legend(['Month variation of CAC40'])\n",
        "# 30 years between 1992 and 2021"
      ],
      "execution_count": 70,
      "outputs": [
        {
          "output_type": "execute_result",
          "data": {
            "text/plain": [
              "<matplotlib.legend.Legend at 0x7f26b175d810>"
            ]
          },
          "metadata": {},
          "execution_count": 70
        },
        {
          "output_type": "display_data",
          "data": {
            "image/png": "[encoded data removed]",
            "text/plain": [
              "<Figure size 1080x360 with 1 Axes>"
            ]
          },
          "metadata": {
            "needs_background": "light"
          }
        }
      ]
    },
    {
      "cell_type": "code",
      "metadata": {
        "colab": {
          "base_uri": "https://localhost:8080/"
        },
        "id": "jxX28BFiUfRo",
        "outputId": "6d0cd330-6299-4877-fb2e-87402f0306c7"
      },
      "source": [
        "(df_month_var['sum']/30).sum()"
      ],
      "execution_count": 73,
      "outputs": [
        {
          "output_type": "execute_result",
          "data": {
            "text/plain": [
              "6.7170000000000005"
            ]
          },
          "metadata": {},
          "execution_count": 73
        }
      ]
    },
    {
      "cell_type": "markdown",
      "metadata": {
        "id": "rpH9AD3zEoy5"
      },
      "source": [
        "- Le marché CAC40 est plus acheteur en Q1 et Q4\n",
        "- Le marché CAC40 est plus vendeur en Q3\n",
        "- Le marché CAC40 est plus neutre en Q2\n"
      ]
    },
    {
      "cell_type": "code",
      "metadata": {
        "colab": {
          "base_uri": "https://localhost:8080/",
          "height": 203
        },
        "id": "bbJN8FsdAlxg",
        "outputId": "b5948520-15c2-45f0-9c1d-81d12ee82f56"
      },
      "source": [
        "df.head()"
      ],
      "execution_count": 60,
      "outputs": [
        {
          "output_type": "execute_result",
          "data": {
            "text/html": [
              "<div>\n",
              "<style scoped>\n",
              "    .dataframe tbody tr th:only-of-type {\n",
              "        vertical-align: middle;\n",
              "    }\n",
              "\n",
              "    .dataframe tbody tr th {\n",
              "        vertical-align: top;\n",
              "    }\n",
              "\n",
              "    .dataframe thead th {\n",
              "        text-align: right;\n",
              "    }\n",
              "</style>\n",
              "<table border=\"1\" class=\"dataframe\">\n",
              "  <thead>\n",
              "    <tr style=\"text-align: right;\">\n",
              "      <th></th>\n",
              "      <th>Date</th>\n",
              "      <th>Open</th>\n",
              "      <th>High</th>\n",
              "      <th>Low</th>\n",
              "      <th>Close</th>\n",
              "      <th>Adj Close</th>\n",
              "      <th>Volume</th>\n",
              "      <th>Month</th>\n",
              "      <th>variation</th>\n",
              "      <th>month</th>\n",
              "    </tr>\n",
              "  </thead>\n",
              "  <tbody>\n",
              "    <tr>\n",
              "      <th>0</th>\n",
              "      <td>1992-01-02</td>\n",
              "      <td>1755.300049</td>\n",
              "      <td>1765.500000</td>\n",
              "      <td>1746.599976</td>\n",
              "      <td>1749.900024</td>\n",
              "      <td>1749.900024</td>\n",
              "      <td>0.0</td>\n",
              "      <td>1</td>\n",
              "      <td>0.00</td>\n",
              "      <td>January</td>\n",
              "    </tr>\n",
              "    <tr>\n",
              "      <th>1</th>\n",
              "      <td>1992-01-03</td>\n",
              "      <td>1760.500000</td>\n",
              "      <td>1771.000000</td>\n",
              "      <td>1749.099976</td>\n",
              "      <td>1770.300049</td>\n",
              "      <td>1770.300049</td>\n",
              "      <td>0.0</td>\n",
              "      <td>1</td>\n",
              "      <td>1.17</td>\n",
              "      <td>January</td>\n",
              "    </tr>\n",
              "    <tr>\n",
              "      <th>2</th>\n",
              "      <td>1992-01-06</td>\n",
              "      <td>1794.000000</td>\n",
              "      <td>1802.500000</td>\n",
              "      <td>1782.699951</td>\n",
              "      <td>1787.599976</td>\n",
              "      <td>1787.599976</td>\n",
              "      <td>0.0</td>\n",
              "      <td>1</td>\n",
              "      <td>0.98</td>\n",
              "      <td>January</td>\n",
              "    </tr>\n",
              "    <tr>\n",
              "      <th>3</th>\n",
              "      <td>1992-01-07</td>\n",
              "      <td>1784.000000</td>\n",
              "      <td>1784.099976</td>\n",
              "      <td>1771.800049</td>\n",
              "      <td>1778.699951</td>\n",
              "      <td>1778.699951</td>\n",
              "      <td>0.0</td>\n",
              "      <td>1</td>\n",
              "      <td>-0.50</td>\n",
              "      <td>January</td>\n",
              "    </tr>\n",
              "    <tr>\n",
              "      <th>4</th>\n",
              "      <td>1992-01-08</td>\n",
              "      <td>1763.500000</td>\n",
              "      <td>1787.300049</td>\n",
              "      <td>1758.099976</td>\n",
              "      <td>1785.599976</td>\n",
              "      <td>1785.599976</td>\n",
              "      <td>0.0</td>\n",
              "      <td>1</td>\n",
              "      <td>0.39</td>\n",
              "      <td>January</td>\n",
              "    </tr>\n",
              "  </tbody>\n",
              "</table>\n",
              "</div>"
            ],
            "text/plain": [
              "        Date         Open         High  ...  Month  variation    month\n",
              "0 1992-01-02  1755.300049  1765.500000  ...      1       0.00  January\n",
              "1 1992-01-03  1760.500000  1771.000000  ...      1       1.17  January\n",
              "2 1992-01-06  1794.000000  1802.500000  ...      1       0.98  January\n",
              "3 1992-01-07  1784.000000  1784.099976  ...      1      -0.50  January\n",
              "4 1992-01-08  1763.500000  1787.300049  ...      1       0.39  January\n",
              "\n",
              "[5 rows x 10 columns]"
            ]
          },
          "metadata": {},
          "execution_count": 60
        }
      ]
    },
    {
      "cell_type": "code",
      "metadata": {
        "colab": {
          "base_uri": "https://localhost:8080/",
          "height": 337
        },
        "id": "MvwOXRR9wgM2",
        "outputId": "5a20a17c-1ea4-4508-8334-b9165f8295b9"
      },
      "source": [
        "plt.figure(figsize=(15,5))\n",
        "plt.plot(df_month_var['month'],df_month_var['max'], c='green')\n",
        "plt.plot(df_month_var['month'],df_month_var['min'], c='orange')\n",
        "plt.legend(['max_variation', 'min_variation'])"
      ],
      "execution_count": 62,
      "outputs": [
        {
          "output_type": "execute_result",
          "data": {
            "text/plain": [
              "<matplotlib.legend.Legend at 0x7f26b1921b10>"
            ]
          },
          "metadata": {},
          "execution_count": 62
        },
        {
          "output_type": "display_data",
          "data": {
            "image/png": "[encoded data removed]",
            "text/plain": [
              "<Figure size 1080x360 with 1 Axes>"
            ]
          },
          "metadata": {
            "needs_background": "light"
          }
        }
      ]
    },
    {
      "cell_type": "code",
      "metadata": {
        "colab": {
          "base_uri": "https://localhost:8080/",
          "height": 337
        },
        "id": "G-u-FSAy0tMv",
        "outputId": "e476676b-45ad-40d4-b030-fdaadf34bdbc"
      },
      "source": [
        "plt.figure(figsize=(15,5))\n",
        "plt.plot(df_month_var['month'],df_month_var['std'])\n",
        "plt.legend(['standard deviation of the variation'])"
      ],
      "execution_count": 63,
      "outputs": [
        {
          "output_type": "execute_result",
          "data": {
            "text/plain": [
              "<matplotlib.legend.Legend at 0x7f26b18f88d0>"
            ]
          },
          "metadata": {},
          "execution_count": 63
        },
        {
          "output_type": "display_data",
          "data": {
            "image/png": "[encoded data removed]",
            "text/plain": [
              "<Figure size 1080x360 with 1 Axes>"
            ]
          },
          "metadata": {
            "needs_background": "light"
          }
        }
      ]
    },
    {
      "cell_type": "markdown",
      "metadata": {
        "id": "ZgzSt2tFGOyN"
      },
      "source": [
        "Le marché CAC40 est plus stable en Decembre, janvier et Q2. Mais plus turbulent en Mars, septembre et octobre "
      ]
    },
    {
      "cell_type": "code",
      "metadata": {
        "id": "yJp1CcOh9YOd"
      },
      "source": [
        "df_stat['median_variation'] = df.groupby('Month').variation.agg(['median'])"
      ],
      "execution_count": 119,
      "outputs": []
    },
    {
      "cell_type": "code",
      "metadata": {
        "colab": {
          "base_uri": "https://localhost:8080/",
          "height": 351
        },
        "id": "WYG5pBo9_3U4",
        "outputId": "98572697-f5bd-4a04-993b-e746ad88afa4"
      },
      "source": [
        "plt.figure(figsize=(15,5))\n",
        "plt.plot(df_stat['month'],df_stat['median_variation'], c='blue')\n",
        "plt.legend(['mean of variation'])\n",
        "plt.xlabel('Month')\n",
        "plt.ylabel('median_variation')"
      ],
      "execution_count": 121,
      "outputs": [
        {
          "output_type": "execute_result",
          "data": {
            "text/plain": [
              "Text(0, 0.5, 'median_variation')"
            ]
          },
          "metadata": {},
          "execution_count": 121
        },
        {
          "output_type": "display_data",
          "data": {
            "image/png": "[encoded data removed]",
            "text/plain": [
              "<Figure size 1080x360 with 1 Axes>"
            ]
          },
          "metadata": {
            "needs_background": "light"
          }
        }
      ]
    },
    {
      "cell_type": "code",
      "metadata": {
        "colab": {
          "base_uri": "https://localhost:8080/",
          "height": 592
        },
        "id": "eOEyeFGf6diO",
        "outputId": "9340a806-99bc-4714-f719-49c18d9beebe"
      },
      "source": [
        "import matplotlib.pyplot as plt\n",
        "plt.figure(figsize=(20,10))\n",
        "plt.plot(df['Date'],df[['variation']])\n",
        "plt.legend(['Intensité de la variation du cours CAC40'])\n",
        "plt.grid(True)\n",
        "plt.show()"
      ],
      "execution_count": 67,
      "outputs": [
        {
          "output_type": "display_data",
          "data": {
            "image/png": "[encoded data removed]",
            "text/plain": [
              "<Figure size 1440x720 with 1 Axes>"
            ]
          },
          "metadata": {
            "needs_background": "light"
          }
        }
      ]
    },
    {
      "cell_type": "markdown",
      "metadata": {
        "id": "7Y4UtmIHHq7B"
      },
      "source": [
        "La variation journaliére est plus intense pendant les crises 2008 et 2020\n",
        "\n"
      ]
    },
    {
      "cell_type": "code",
      "metadata": {
        "id": "T5JF3l0FhEOl"
      },
      "source": [
        "# preapre labels and features"
      ],
      "execution_count": null,
      "outputs": []
    },
    {
      "cell_type": "markdown",
      "metadata": {
        "id": "bxHdoFr77Zox"
      },
      "source": [
        "**Partie Mchine learning à reconstruire**"
      ]
    },
    {
      "cell_type": "code",
      "metadata": {
        "id": "z-vY3VL5OXQr"
      },
      "source": [
        "x_feature =[]\n",
        "y_var = []\n",
        "from statistics import mean\n",
        "for i in range(len(data_day)-14):\n",
        "    a = list(data_day['feature_1'].iloc[0+i:10+i].values)\n",
        "    x_feature.append(a)\n",
        "    \n",
        "    y = data_day['var'].iloc[10+i:15+i].sum()\n",
        "    y_var.append(y)\n"
      ],
      "execution_count": null,
      "outputs": []
    },
    {
      "cell_type": "code",
      "metadata": {
        "id": "oQXtVpNT8ZlE"
      },
      "source": [
        "data_day['var']"
      ],
      "execution_count": null,
      "outputs": []
    },
    {
      "cell_type": "code",
      "metadata": {
        "id": "ybg1l1mOp2bn"
      },
      "source": [
        "data_day['var'].iloc[-5:].sum()"
      ],
      "execution_count": null,
      "outputs": []
    },
    {
      "cell_type": "code",
      "metadata": {
        "id": "_ibxn0CY8IuU"
      },
      "source": [
        "data_day['var'].iloc[-5:-4] / data_day['var'].iloc[-1:]"
      ],
      "execution_count": null,
      "outputs": []
    },
    {
      "cell_type": "code",
      "metadata": {
        "id": "YGucfIWDQgN1"
      },
      "source": [
        "labels"
      ],
      "execution_count": null,
      "outputs": []
    },
    {
      "cell_type": "code",
      "metadata": {
        "id": "CbzsL9HziH_W"
      },
      "source": [
        "data_day['var'].iloc[10:15].sum()"
      ],
      "execution_count": null,
      "outputs": []
    },
    {
      "cell_type": "code",
      "metadata": {
        "id": "E0yvambB0Nsf"
      },
      "source": [
        "y_var[-1]"
      ],
      "execution_count": null,
      "outputs": []
    },
    {
      "cell_type": "code",
      "metadata": {
        "id": "lxcuJnIGiFec"
      },
      "source": [
        "y_var[0]"
      ],
      "execution_count": null,
      "outputs": []
    },
    {
      "cell_type": "code",
      "metadata": {
        "id": "sMLOMMGTqhLX"
      },
      "source": [
        "np.array(x_feature).shape"
      ],
      "execution_count": null,
      "outputs": []
    },
    {
      "cell_type": "code",
      "metadata": {
        "id": "hggl0c6yi9Ci"
      },
      "source": [
        "len(y_var)"
      ],
      "execution_count": null,
      "outputs": []
    },
    {
      "cell_type": "code",
      "metadata": {
        "id": "cxacegmqsEkk"
      },
      "source": [
        "y_var[-1]"
      ],
      "execution_count": null,
      "outputs": []
    },
    {
      "cell_type": "code",
      "metadata": {
        "id": "h4XTbIx6fW7A"
      },
      "source": [
        "len(y_var)"
      ],
      "execution_count": null,
      "outputs": []
    },
    {
      "cell_type": "code",
      "metadata": {
        "id": "Tol9U35Hfamg"
      },
      "source": [
        "len(x_feature)"
      ],
      "execution_count": null,
      "outputs": []
    },
    {
      "cell_type": "code",
      "metadata": {
        "id": "r8a5ObUKBGkA"
      },
      "source": [
        "len(x_feature)"
      ],
      "execution_count": null,
      "outputs": []
    },
    {
      "cell_type": "code",
      "metadata": {
        "id": "y_exEeUwBF-B"
      },
      "source": [
        "len(x_feature)"
      ],
      "execution_count": null,
      "outputs": []
    },
    {
      "cell_type": "code",
      "metadata": {
        "id": "8rnDr_fhih7R"
      },
      "source": [
        "labels = []\n",
        "for elem in y_var:\n",
        "  if (elem > -1 ) & (elem < 1):\n",
        "      labels.append('neutre')\n",
        "  if (elem >= 1):\n",
        "      labels.append('haussier')\n",
        "  if (elem <= -1) :\n",
        "      labels.append('baissier')\n",
        "  \n",
        " "
      ],
      "execution_count": null,
      "outputs": []
    },
    {
      "cell_type": "code",
      "metadata": {
        "id": "SIusWJezgwdc"
      },
      "source": [
        "min(y_var)"
      ],
      "execution_count": null,
      "outputs": []
    },
    {
      "cell_type": "code",
      "metadata": {
        "id": "lqCdx4ZjgzwT"
      },
      "source": [
        "max(y_var)"
      ],
      "execution_count": null,
      "outputs": []
    },
    {
      "cell_type": "code",
      "metadata": {
        "id": "4i_8CewulspK"
      },
      "source": [
        "len(labels)"
      ],
      "execution_count": null,
      "outputs": []
    },
    {
      "cell_type": "code",
      "metadata": {
        "id": "jUQKuxPigGVI"
      },
      "source": [
        "len(y_var)"
      ],
      "execution_count": null,
      "outputs": []
    },
    {
      "cell_type": "code",
      "metadata": {
        "id": "NGyhXPsPgBnH"
      },
      "source": [
        "len(x_feature)"
      ],
      "execution_count": null,
      "outputs": []
    },
    {
      "cell_type": "code",
      "metadata": {
        "id": "sYkqt5bnlqGx"
      },
      "source": [
        "labels = np.array(labels)\n",
        "labels"
      ],
      "execution_count": null,
      "outputs": []
    },
    {
      "cell_type": "code",
      "metadata": {
        "id": "m2BJg2g3qqwX"
      },
      "source": [
        "labels[-10:]"
      ],
      "execution_count": null,
      "outputs": []
    },
    {
      "cell_type": "code",
      "metadata": {
        "id": "ib7PO5M8l6NB"
      },
      "source": [
        "x_feature = np.array(x_feature)\n",
        "len(x_feature)"
      ],
      "execution_count": null,
      "outputs": []
    },
    {
      "cell_type": "code",
      "metadata": {
        "id": "7eATVoccyYG8"
      },
      "source": [
        "len(labels)"
      ],
      "execution_count": null,
      "outputs": []
    },
    {
      "cell_type": "code",
      "metadata": {
        "id": "XSAA24_4zl87"
      },
      "source": [
        "len(y_var)"
      ],
      "execution_count": null,
      "outputs": []
    },
    {
      "cell_type": "code",
      "metadata": {
        "id": "D1e8Wipcrip9"
      },
      "source": [
        "# convertir en array\n",
        "X = x_feature\n",
        "Y = labels"
      ],
      "execution_count": null,
      "outputs": []
    },
    {
      "cell_type": "code",
      "metadata": {
        "id": "_-9yNRB84Ekj"
      },
      "source": [
        "X.shape"
      ],
      "execution_count": null,
      "outputs": []
    },
    {
      "cell_type": "code",
      "metadata": {
        "id": "l29ndkYj4G-6"
      },
      "source": [
        "Y.shape"
      ],
      "execution_count": null,
      "outputs": []
    },
    {
      "cell_type": "code",
      "metadata": {
        "id": "SAA6BSRWBqpK"
      },
      "source": [
        "from sklearn.preprocessing import StandardScaler\n",
        "\n",
        "scaler = StandardScaler()\n",
        "X = scaler.fit_transform(X)"
      ],
      "execution_count": null,
      "outputs": []
    },
    {
      "cell_type": "code",
      "metadata": {
        "id": "qKgEuqPhWr_3"
      },
      "source": [
        "from sklearn.model_selection import train_test_split\n",
        "X_train, X_test, y_train, y_test = train_test_split(X, Y, test_size= 0.1, random_state= 44)"
      ],
      "execution_count": null,
      "outputs": []
    },
    {
      "cell_type": "code",
      "metadata": {
        "id": "ur1neTbb_FG7"
      },
      "source": [
        "from sklearn import decomposition, datasets\n",
        "from sklearn import tree\n",
        "from sklearn.pipeline import Pipeline\n",
        "from sklearn.model_selection import GridSearchCV\n",
        "from sklearn.preprocessing import StandardScaler\n",
        "from sklearn.neighbors import KNeighborsClassifier"
      ],
      "execution_count": null,
      "outputs": []
    },
    {
      "cell_type": "code",
      "metadata": {
        "id": "VjcIIRXF5R11"
      },
      "source": [
        "# define the parameter values that should be searched\n",
        "# for python 2, k_range = range(1, 31)\n",
        "k_range = list(range(1, 30))\n",
        "print(k_range)\n",
        "# value: list of values that should be searched for that parameter\n",
        "# single key-value pair for param_grid\n",
        "param_grid = dict(n_neighbors=k_range)\n",
        "knn = KNeighborsClassifier()\n",
        "print(param_grid)"
      ],
      "execution_count": null,
      "outputs": []
    },
    {
      "cell_type": "code",
      "metadata": {
        "id": "zV7iEwNk5Zy0"
      },
      "source": [
        "# instantiate the grid\n",
        "grid = GridSearchCV(knn, param_grid, cv=10, scoring='accuracy')"
      ],
      "execution_count": null,
      "outputs": []
    },
    {
      "cell_type": "code",
      "metadata": {
        "id": "wemLoK8Z5cXG"
      },
      "source": [
        "# fit the grid µwith data\n",
        "grid.fit(X_train, y_train)"
      ],
      "execution_count": null,
      "outputs": []
    },
    {
      "cell_type": "code",
      "metadata": {
        "id": "0j1_eWTF5eRF"
      },
      "source": [
        "# Actual model object fit with those best parameters\n",
        "# Shows default parameters that we did not specify\n",
        "print(grid.best_estimator_)"
      ],
      "execution_count": null,
      "outputs": []
    },
    {
      "cell_type": "code",
      "metadata": {
        "id": "wi7cpcrtncSL"
      },
      "source": [
        "grid.best_score_"
      ],
      "execution_count": null,
      "outputs": []
    },
    {
      "cell_type": "code",
      "metadata": {
        "id": "12IN8xijjXA-"
      },
      "source": [
        "clf = KNeighborsClassifier(algorithm='auto', leaf_size=30, metric='minkowski',\n",
        "                     metric_params=None, n_jobs=None, n_neighbors=34, p=2,\n",
        "                     weights='uniform')\n",
        "clf.fit(X_train,y_train)"
      ],
      "execution_count": null,
      "outputs": []
    },
    {
      "cell_type": "code",
      "metadata": {
        "id": "nXzYrgu3iem2"
      },
      "source": [
        "clf.score(X_test,y_test)"
      ],
      "execution_count": null,
      "outputs": []
    },
    {
      "cell_type": "code",
      "metadata": {
        "id": "QzpI5EqZrNM3"
      },
      "source": [
        "x = x_feature[-1:]\n",
        "x"
      ],
      "execution_count": null,
      "outputs": []
    },
    {
      "cell_type": "code",
      "metadata": {
        "id": "Y4UC7PgOjf3x"
      },
      "source": [
        "clf.predict(x)[0]"
      ],
      "execution_count": null,
      "outputs": []
    },
    {
      "cell_type": "code",
      "metadata": {
        "id": "j2Lyd9NekO2B"
      },
      "source": [
        "data_day.tail()"
      ],
      "execution_count": null,
      "outputs": []
    },
    {
      "cell_type": "code",
      "metadata": {
        "id": "9Sn6-4won4fp"
      },
      "source": [
        "from sklearn import tree\n",
        "model_tree  = tree.DecisionTreeClassifier()\n",
        "\n",
        "param_dict={\n",
        "    \"criterion\":['gini','entropy'],\n",
        "    \"max_depth\":range(1,10),\n",
        "    \"min_samples_split\":range(1,10),\n",
        "    \"min_samples_leaf\":range(1,5)\n",
        "}"
      ],
      "execution_count": null,
      "outputs": []
    },
    {
      "cell_type": "code",
      "metadata": {
        "id": "lot9Y68S8lov"
      },
      "source": [
        "# fit data with the best parameters\n",
        "import matplotlib.pyplot as plt\n",
        "grid1 =GridSearchCV(model_tree,\n",
        "                 param_grid=param_dict,\n",
        "                 cv=10,\n",
        "                 verbose=1,\n",
        "                 n_jobs=-1)\n",
        "\n",
        "grid1.fit(X_train, y_train)"
      ],
      "execution_count": null,
      "outputs": []
    },
    {
      "cell_type": "code",
      "metadata": {
        "id": "xZO7H-O5oPlh"
      },
      "source": [
        "grid1.best_params_"
      ],
      "execution_count": null,
      "outputs": []
    },
    {
      "cell_type": "code",
      "metadata": {
        "id": "0JaRFdGun--L"
      },
      "source": [
        "grid1.best_estimator_"
      ],
      "execution_count": null,
      "outputs": []
    },
    {
      "cell_type": "code",
      "metadata": {
        "id": "UV9wJTcwoSIG"
      },
      "source": [
        "grid1.best_score_"
      ],
      "execution_count": null,
      "outputs": []
    },
    {
      "cell_type": "code",
      "metadata": {
        "id": "xa5hsSZK0oJS"
      },
      "source": [
        "from sklearn.tree import DecisionTreeClassifier\n",
        "model_tree = DecisionTreeClassifier(ccp_alpha=0.0, class_weight=None, criterion='gini',\n",
        "                       max_depth=2, max_features=None, max_leaf_nodes=None,\n",
        "                       min_impurity_decrease=0.0, min_impurity_split=None,\n",
        "                       min_samples_leaf=1, min_samples_split=2,\n",
        "                       min_weight_fraction_leaf=0.0, presort='deprecated',\n",
        "                       random_state=None, splitter='best')"
      ],
      "execution_count": null,
      "outputs": []
    },
    {
      "cell_type": "code",
      "metadata": {
        "id": "Dl1OjM_g1Hgn"
      },
      "source": [
        "model_tree.fit(X_train,y_train)"
      ],
      "execution_count": null,
      "outputs": []
    },
    {
      "cell_type": "code",
      "metadata": {
        "id": "O4VluesdlOfR"
      },
      "source": [
        "x = x_feature[-1:]\n",
        "x"
      ],
      "execution_count": null,
      "outputs": []
    },
    {
      "cell_type": "code",
      "metadata": {
        "id": "GFNnrP1VlPVI"
      },
      "source": [
        "model_tree.predict(x)"
      ],
      "execution_count": null,
      "outputs": []
    },
    {
      "cell_type": "code",
      "metadata": {
        "id": "MKE_-TbjlQ--"
      },
      "source": [
        "data_day.tail()"
      ],
      "execution_count": null,
      "outputs": []
    },
    {
      "cell_type": "code",
      "metadata": {
        "id": "4TG3tsR3n_ZU"
      },
      "source": [
        "# Visualisation de l'arbre\n",
        "plt.figure(figsize =(10,10))\n",
        "tree.plot_tree(model_tree)\n",
        "plt.show()"
      ],
      "execution_count": null,
      "outputs": []
    },
    {
      "cell_type": "code",
      "metadata": {
        "id": "YufmqWXW86VP"
      },
      "source": [
        "# confusion matrix & test data train\n",
        "from sklearn.metrics import confusion_matrix\n",
        "\n",
        "y_pred = model_tree.predict(X_test)\n",
        "cm=confusion_matrix(y_test, y_pred)\n",
        "print(cm)"
      ],
      "execution_count": null,
      "outputs": []
    },
    {
      "cell_type": "code",
      "metadata": {
        "id": "iYs7bLw49Ll_"
      },
      "source": [
        "# confusion matrix & test data test\n",
        "from sklearn.metrics import confusion_matrix\n",
        "\n",
        "y_pred = model_tree.predict(X_test)\n",
        "\n",
        "cm=confusion_matrix(y_test, y_pred)\n",
        "print(cm)"
      ],
      "execution_count": null,
      "outputs": []
    },
    {
      "cell_type": "code",
      "metadata": {
        "id": "pKabXZkT9bNr"
      },
      "source": [
        "# score accuracy on the test data\n",
        "from sklearn.metrics import accuracy_score\n",
        "y_pred = model_tree.predict(X_test)\n",
        "accuracy_score(y_test, y_pred)"
      ],
      "execution_count": null,
      "outputs": []
    },
    {
      "cell_type": "code",
      "metadata": {
        "id": "T7gpM82GmTH7"
      },
      "source": [
        "x_feature"
      ],
      "execution_count": null,
      "outputs": []
    },
    {
      "cell_type": "code",
      "metadata": {
        "id": "ieC2hIDTlq6T"
      },
      "source": [
        "np.array(x_feature[-11:-1])"
      ],
      "execution_count": null,
      "outputs": []
    },
    {
      "cell_type": "code",
      "metadata": {
        "id": "FsvsYgzHlp_D"
      },
      "source": [
        "test = np.array(x_feature[-50:-40])"
      ],
      "execution_count": null,
      "outputs": []
    },
    {
      "cell_type": "code",
      "metadata": {
        "id": "iBOHyH_301lo"
      },
      "source": [
        "x_feature[-50:-40]"
      ],
      "execution_count": null,
      "outputs": []
    },
    {
      "cell_type": "code",
      "metadata": {
        "id": "R40ltq4ruMV4"
      },
      "source": [
        "data_day.tail(20)"
      ],
      "execution_count": null,
      "outputs": []
    },
    {
      "cell_type": "code",
      "metadata": {
        "id": "vJyCiTO5mx3g"
      },
      "source": [
        "model_tree.predict(test)"
      ],
      "execution_count": null,
      "outputs": []
    },
    {
      "cell_type": "code",
      "metadata": {
        "id": "5kTDAE_B5uMp"
      },
      "source": [
        "pd.DataFrame(list(labels)).value_counts()"
      ],
      "execution_count": null,
      "outputs": []
    },
    {
      "cell_type": "code",
      "metadata": {
        "id": "7oqKY0pf2cnV"
      },
      "source": [
        "clf.predict(test)"
      ],
      "execution_count": null,
      "outputs": []
    },
    {
      "cell_type": "code",
      "metadata": {
        "id": "ud60hDdS0mfs"
      },
      "source": [
        "labels"
      ],
      "execution_count": null,
      "outputs": []
    },
    {
      "cell_type": "code",
      "metadata": {
        "id": "JN2Qte4Ioopi"
      },
      "source": [
        "from sklearn.model_selection import GridSearchCV\n",
        "from sklearn.linear_model import LogisticRegression\n",
        "grid={\"C\":[1,2,3], \"penalty\":[\"l1\",\"l2\"]}# \n",
        "logreg=LogisticRegression()\n",
        "logreg_cv=GridSearchCV(logreg,grid,cv=10)\n",
        "logreg_cv.fit(X_train,y_train)\n",
        "\n",
        "print(\"tuned hpyerparameters :(best parameters) \",logreg_cv.best_params_)\n",
        "print(\"accuracy :\",logreg_cv.best_score_)"
      ],
      "execution_count": null,
      "outputs": []
    },
    {
      "cell_type": "code",
      "metadata": {
        "id": "4RT7Tc63ooyq"
      },
      "source": [
        "x = data.tail(10)['MACD'].values"
      ],
      "execution_count": null,
      "outputs": []
    },
    {
      "cell_type": "code",
      "metadata": {
        "id": "DC6we8bVAoNP"
      },
      "source": [
        "x_macd = np.array(x_macd)"
      ],
      "execution_count": null,
      "outputs": []
    },
    {
      "cell_type": "code",
      "metadata": {
        "id": "Eu2lgp1TD8ZS"
      },
      "source": [
        "X_train.shape"
      ],
      "execution_count": null,
      "outputs": []
    },
    {
      "cell_type": "code",
      "metadata": {
        "id": "feTDeOarDoNb"
      },
      "source": [
        "np.array(x_macd).reshape(1,10)"
      ],
      "execution_count": null,
      "outputs": []
    },
    {
      "cell_type": "code",
      "metadata": {
        "id": "meuA3kLgAAqT"
      },
      "source": [
        "x_macd =[]\n",
        "for i in range(len(data)-9):\n",
        "    x = list(macd['MACD'].iloc[0+i:10+i].values)\n",
        "    x_macd.append(x)"
      ],
      "execution_count": null,
      "outputs": []
    },
    {
      "cell_type": "code",
      "metadata": {
        "id": "j8k3im7XDTY7"
      },
      "source": [
        "len(x_macd)"
      ],
      "execution_count": null,
      "outputs": []
    },
    {
      "cell_type": "code",
      "metadata": {
        "id": "tqrXfptjBY6f"
      },
      "source": [
        "x_macd = x_macd[len(x_macd) - 20 : len(x_macd)-10]"
      ],
      "execution_count": null,
      "outputs": []
    },
    {
      "cell_type": "code",
      "metadata": {
        "id": "fGgjNvWz958Z"
      },
      "source": [
        "np.array([x] for x in macd.loc[6225:6244].values)"
      ],
      "execution_count": null,
      "outputs": []
    },
    {
      "cell_type": "code",
      "metadata": {
        "id": "aoqTd-1n_Hcm"
      },
      "source": [
        "x[1]"
      ],
      "execution_count": null,
      "outputs": []
    },
    {
      "cell_type": "code",
      "metadata": {
        "id": "fDve7Pxk9pg5"
      },
      "source": [
        "x_macd[-1]"
      ],
      "execution_count": null,
      "outputs": []
    },
    {
      "cell_type": "code",
      "metadata": {
        "id": "yiRtLmCcmFOH"
      },
      "source": [
        "len(Y)"
      ],
      "execution_count": null,
      "outputs": []
    },
    {
      "cell_type": "code",
      "metadata": {
        "id": "PX7bI5EPfTJ9"
      },
      "source": [
        "len(x_macd)"
      ],
      "execution_count": null,
      "outputs": []
    },
    {
      "cell_type": "code",
      "metadata": {
        "id": "DI1DxQ0nhDiX"
      },
      "source": [
        "data.tail(20)"
      ],
      "execution_count": null,
      "outputs": []
    },
    {
      "cell_type": "code",
      "metadata": {
        "id": "FAeIuPIbWCVx"
      },
      "source": [
        "a = np.zeros(shape=(10,10))"
      ],
      "execution_count": null,
      "outputs": []
    },
    {
      "cell_type": "code",
      "metadata": {
        "id": "qXtnFuQTX65w"
      },
      "source": [
        "a"
      ],
      "execution_count": null,
      "outputs": []
    },
    {
      "cell_type": "code",
      "metadata": {
        "id": "obDj1HvZUF5u"
      },
      "source": [
        "for i in range(len(x_macd)):\n",
        "       val = x_macd[i]\n",
        "       a[i] = val"
      ],
      "execution_count": null,
      "outputs": []
    },
    {
      "cell_type": "code",
      "metadata": {
        "id": "SawDIZOhYxbm"
      },
      "source": [
        "len(x_macd)"
      ],
      "execution_count": null,
      "outputs": []
    },
    {
      "cell_type": "code",
      "metadata": {
        "id": "oh1hiNmcXnbb"
      },
      "source": [
        "a[-1]"
      ],
      "execution_count": null,
      "outputs": []
    },
    {
      "cell_type": "code",
      "metadata": {
        "id": "lmrxT191RJQ2"
      },
      "source": [
        "b = np.array([x_macd[6]] + [x_macd[7]] +[x_macd[8]] +[x_macd[9]] )"
      ],
      "execution_count": null,
      "outputs": []
    },
    {
      "cell_type": "code",
      "metadata": {
        "id": "BWALKt-HQ5lk"
      },
      "source": [
        "a"
      ],
      "execution_count": null,
      "outputs": []
    },
    {
      "cell_type": "code",
      "metadata": {
        "id": "HS7y7Vlo_v17"
      },
      "source": [
        "x = scaler.fit_transform(a)"
      ],
      "execution_count": null,
      "outputs": []
    },
    {
      "cell_type": "code",
      "metadata": {
        "id": "ui3yHwj9_frs"
      },
      "source": [
        "model_tree.predict(x)"
      ],
      "execution_count": null,
      "outputs": []
    },
    {
      "cell_type": "code",
      "metadata": {
        "id": "nF5D3LJRebKR"
      },
      "source": [
        "pd.Series(Y).value_counts()"
      ],
      "execution_count": null,
      "outputs": []
    },
    {
      "cell_type": "code",
      "metadata": {
        "id": "99BncEYqeT3i"
      },
      "source": [
        "Y"
      ],
      "execution_count": null,
      "outputs": []
    },
    {
      "cell_type": "code",
      "metadata": {
        "id": "iNH-a6f-eX9m"
      },
      "source": [
        "Y.shape"
      ],
      "execution_count": null,
      "outputs": []
    },
    {
      "cell_type": "code",
      "metadata": {
        "id": "s5PhAEXwc7mM"
      },
      "source": [
        "y_train.shape"
      ],
      "execution_count": null,
      "outputs": []
    },
    {
      "cell_type": "code",
      "metadata": {
        "id": "OhgwqE7HdF81"
      },
      "source": [
        ""
      ],
      "execution_count": null,
      "outputs": []
    }
  ]
}